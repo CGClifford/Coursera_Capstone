{
 "cells": [
  {
   "cell_type": "markdown",
   "metadata": {},
   "source": [
    "# What Manhattan, KS Needs"
   ]
  },
  {
   "cell_type": "markdown",
   "metadata": {},
   "source": [
    "## IBM Data Science Professional Certificate capstone project"
   ]
  },
  {
   "cell_type": "markdown",
   "metadata": {},
   "source": [
    "<img src = http://www.mappery.com/maps/Manhattan-Kansas-City-Map.jpg>"
   ]
  },
  {
   "cell_type": "markdown",
   "metadata": {},
   "source": [
    "## Table of contents\n",
    "* [Introduction to Business Problem](#introduction)\n",
    "* [Data](#data)\n",
    "* [Methodology](#methodology)\n",
    "* [Results](#results)\n",
    "* [Discussion](#discussion)\n",
    "* [Conclusion](#conclusion)"
   ]
  },
  {
   "cell_type": "markdown",
   "metadata": {},
   "source": [
    "## Introduction to Business Problem <a name=\"introduction\"></a>"
   ]
  },
  {
   "cell_type": "markdown",
   "metadata": {},
   "source": [
    "A friend of mine who lives in **Manhattan, Kansas, USA** told me recently that she wants to start a **board games amusement center** which also serves **fresh baked goods and other treats** in her city. Manhattan is a college city that has many well-known bars, but **some believe that there is not enough family-friendly activities in the city**. I want to see what kinds of **family-friendly amusement and baked treats activities are already available** in Manhattan in order to advise her whether opening a baked treats and board game center is a good idea or not.\n",
    "\n",
    "I will need to research the **population characteristics** and **currently available family-friendly amusement activities** of **Manhattan and three other USA family-friendly cities**. I will then **compare the number of family-friendly venues of each city to see if there is a market opening in Manhattan and of what venue types**."
   ]
  },
  {
   "cell_type": "markdown",
   "metadata": {},
   "source": [
    "## Data <a name=\"data\"></a>"
   ]
  },
  {
   "cell_type": "markdown",
   "metadata": {},
   "source": [
    "I will need two types of data: **1) population** and **2) venue**.\n",
    "\n",
    "1) For **population**, I will need population data of Manhattan and three other comparable family-friendly cities. To select the best cities, these cities need to be:\n",
    "- considered a top family-friendly city in order to see what population of venues are normal for family-friendly cities\n",
    "- - Candidates for the comparable cities will come from top results of WalletHub's \"Best Cities for Families\" list ( https://wallethub.com/edu/best-cities-for-families/4435 )\n",
    "- comparable in population density per square mile (not too rural, not too urban)\n",
    "- comparable weather\n",
    "- similar in population age group distribution\n",
    "- similar in income\n",
    "\n",
    "*Important considerations*:\n",
    "    I expect to see some differences in median income and age group distributions between Manhattan and the other cities due to Manhattan being a college city. These will be important factors to consider, especially if the differences are large. For example, if the median income is significantly lower due to much of the population being students, the proposed venue will need to have more affordable amusement options. If the population age groups are too disproportionately different (such as significantly more young adults), the venue will need to be either focus on the lower percentage of available children or find a way to be welcoming to both families and college students.\n",
    "    \n",
    "2) For **venue**, I will need to utilize a Foursquare API to scrape the venue data of each city based on their latitude and longitude\n",
    "- lat/long will be determined based on https://www.latlong.net (if needed, I will make small adjustments to the exact location to better center the center point\n",
    "- search radius will be 2,000 meters or 1.25 miles (for a 2.5 mile diameter) to include a sufficiently diverse but still conveniently close area\n",
    "- venues that are considered \"family-friendly\" will include those that do not have legal age restrictions (such as 21 years for drinking alcohol), can be participated in as a group, and is affordable for a median income customer to afford to pay for a small family to participate\n",
    "\n",
    "*Important considerations*:\n",
    "    Centering the lat/long origin was done by eye, and not by any algorithm. What is considered a \"convenient\" distance differs to each individual. I chose 4 km (2.5 mi) as a best guess for most groups with transportation available. I will have the final say in what venue types to include as \"family-friendly\", which may introduce some bias.\n",
    "    \n",
    "**Comparable stats between the chosen cities can be seen here**: https://www.census.gov/quickfacts/fact/table/lincolncitynebraska,manhattancitykansas,madisoncitywisconsin,boisecitycityidaho/PST045218"
   ]
  },
  {
   "cell_type": "markdown",
   "metadata": {},
   "source": [
    "### Population data"
   ]
  },
  {
   "cell_type": "code",
   "execution_count": 284,
   "metadata": {},
   "outputs": [
    {
     "data": {
      "text/html": [
       "<div>\n",
       "<style scoped>\n",
       "    .dataframe tbody tr th:only-of-type {\n",
       "        vertical-align: middle;\n",
       "    }\n",
       "\n",
       "    .dataframe tbody tr th {\n",
       "        vertical-align: top;\n",
       "    }\n",
       "\n",
       "    .dataframe thead th {\n",
       "        text-align: right;\n",
       "    }\n",
       "</style>\n",
       "<table border=\"1\" class=\"dataframe\">\n",
       "  <thead>\n",
       "    <tr style=\"text-align: right;\">\n",
       "      <th></th>\n",
       "      <th></th>\n",
       "      <th>Madison, Wisconsin</th>\n",
       "      <th>Boise, Idaho</th>\n",
       "      <th>Lincoln, Nebraska</th>\n",
       "      <th>Manhattan, Kansas</th>\n",
       "    </tr>\n",
       "  </thead>\n",
       "  <tbody>\n",
       "    <tr>\n",
       "      <td>0</td>\n",
       "      <td>Population estimates, July 1, 2018, (V2018)</td>\n",
       "      <td>258054.000</td>\n",
       "      <td>228790.000</td>\n",
       "      <td>287401.000</td>\n",
       "      <td>54959.000</td>\n",
       "    </tr>\n",
       "    <tr>\n",
       "      <td>1</td>\n",
       "      <td>Population per square mile, 2010</td>\n",
       "      <td>3037.000</td>\n",
       "      <td>2591.500</td>\n",
       "      <td>2899.000</td>\n",
       "      <td>2786.500</td>\n",
       "    </tr>\n",
       "    <tr>\n",
       "      <td>2</td>\n",
       "      <td>Persons under 5 years, percent</td>\n",
       "      <td>0.052</td>\n",
       "      <td>0.058</td>\n",
       "      <td>0.066</td>\n",
       "      <td>0.048</td>\n",
       "    </tr>\n",
       "    <tr>\n",
       "      <td>3</td>\n",
       "      <td>Persons under 18 years, percent</td>\n",
       "      <td>0.166</td>\n",
       "      <td>0.222</td>\n",
       "      <td>0.225</td>\n",
       "      <td>0.146</td>\n",
       "    </tr>\n",
       "    <tr>\n",
       "      <td>4</td>\n",
       "      <td>Persons between 18 and under 65, percent</td>\n",
       "      <td>0.669</td>\n",
       "      <td>0.584</td>\n",
       "      <td>0.581</td>\n",
       "      <td>0.722</td>\n",
       "    </tr>\n",
       "    <tr>\n",
       "      <td>5</td>\n",
       "      <td>Persons 65 years and over, percent</td>\n",
       "      <td>0.113</td>\n",
       "      <td>0.136</td>\n",
       "      <td>0.128</td>\n",
       "      <td>0.084</td>\n",
       "    </tr>\n",
       "    <tr>\n",
       "      <td>6</td>\n",
       "      <td>Per capita income in past 12 months (in 2018 d...</td>\n",
       "      <td>36372.000</td>\n",
       "      <td>33287.000</td>\n",
       "      <td>30013.000</td>\n",
       "      <td>26777.000</td>\n",
       "    </tr>\n",
       "  </tbody>\n",
       "</table>\n",
       "</div>"
      ],
      "text/plain": [
       "                                                      Madison, Wisconsin  \\\n",
       "0        Population estimates, July 1, 2018, (V2018)          258054.000   \n",
       "1                   Population per square mile, 2010            3037.000   \n",
       "2                     Persons under 5 years, percent               0.052   \n",
       "3                    Persons under 18 years, percent               0.166   \n",
       "4           Persons between 18 and under 65, percent               0.669   \n",
       "5                 Persons 65 years and over, percent               0.113   \n",
       "6  Per capita income in past 12 months (in 2018 d...           36372.000   \n",
       "\n",
       "   Boise, Idaho  Lincoln, Nebraska  Manhattan, Kansas  \n",
       "0    228790.000         287401.000          54959.000  \n",
       "1      2591.500           2899.000           2786.500  \n",
       "2         0.058              0.066              0.048  \n",
       "3         0.222              0.225              0.146  \n",
       "4         0.584              0.581              0.722  \n",
       "5         0.136              0.128              0.084  \n",
       "6     33287.000          30013.000          26777.000  "
      ]
     },
     "execution_count": 284,
     "metadata": {},
     "output_type": "execute_result"
    }
   ],
   "source": [
    "# import packages for retrieving population data\n",
    "import pandas as pd\n",
    "\n",
    "# retrieve .xlsx file\n",
    "loc = ('City population data.xlsx')\n",
    "pop_char_data = pd.read_excel(loc)\n",
    "pop_char_data"
   ]
  },
  {
   "cell_type": "markdown",
   "metadata": {},
   "source": [
    "#### Data exploration\n",
    "The above data came from census.gov: (https://www.census.gov/quickfacts/fact/table/lincolncitynebraska,manhattancitykansas,madisoncitywisconsin,boisecitycityidaho/PST045218) Note that the population estimates are notably different for each city, but the population per square mile are similar. Because we are exploring the proportion of family-friendly venues as a percentage, population per square mile is what matters because total population could vary based on the geographic size of the city."
   ]
  },
  {
   "cell_type": "code",
   "execution_count": 285,
   "metadata": {},
   "outputs": [
    {
     "data": {
      "text/plain": [
       "<matplotlib.axes._subplots.AxesSubplot at 0x2357cb71bc8>"
      ]
     },
     "execution_count": 285,
     "metadata": {},
     "output_type": "execute_result"
    },
    {
     "data": {
      "image/png": "[encoded data removed]",
      "text/plain": [
       "<Figure size 720x288 with 1 Axes>"
      ]
     },
     "metadata": {
      "needs_background": "light"
     },
     "output_type": "display_data"
    }
   ],
   "source": [
    "# import libraries\n",
    "import numpy as np\n",
    "import matplotlib.pyplot as plt\n",
    "import seaborn as sns\n",
    "%matplotlib inline\n",
    "\n",
    "fig, ax = plt.subplots(figsize=(10,4))\n",
    "ax.set_title('Estimated Total Population: 2018')\n",
    "sns.barplot(data=pop_char_data.iloc[[0]])"
   ]
  },
  {
   "cell_type": "code",
   "execution_count": 286,
   "metadata": {},
   "outputs": [
    {
     "data": {
      "text/plain": [
       "<matplotlib.axes._subplots.AxesSubplot at 0x2357cb7d5c8>"
      ]
     },
     "execution_count": 286,
     "metadata": {},
     "output_type": "execute_result"
    },
    {
     "data": {
      "image/png": "[encoded data removed]",
      "text/plain": [
       "<Figure size 720x288 with 1 Axes>"
      ]
     },
     "metadata": {
      "needs_background": "light"
     },
     "output_type": "display_data"
    }
   ],
   "source": [
    "fig, ax = plt.subplots(figsize=(10,4))\n",
    "ax.set_title('Estimated Population per Square Mile: 2018')\n",
    "sns.barplot(data=pop_char_data.iloc[[1]])"
   ]
  },
  {
   "cell_type": "markdown",
   "metadata": {},
   "source": [
    "##### Although Manhattan has a significantly smaller population in total, by viewing the \"Estimated Population per Square mile\", we can see that the population density is quite similar. Since we are measuring population density and not city geographic size, we can continue to use these cities as samples for our project."
   ]
  },
  {
   "cell_type": "code",
   "execution_count": 287,
   "metadata": {},
   "outputs": [
    {
     "data": {
      "text/plain": [
       "<matplotlib.axes._subplots.AxesSubplot at 0x2357cc0ac88>"
      ]
     },
     "execution_count": 287,
     "metadata": {},
     "output_type": "execute_result"
    },
    {
     "data": {
      "image/png": "[encoded data removed]",
      "text/plain": [
       "<Figure size 720x288 with 1 Axes>"
      ]
     },
     "metadata": {
      "needs_background": "light"
     },
     "output_type": "display_data"
    }
   ],
   "source": [
    "fig, ax = plt.subplots(figsize=(10,4))\n",
    "ax.set_title('Per Capita Income')\n",
    "sns.barplot(data=pop_char_data.iloc[[6]])"
   ]
  },
  {
   "cell_type": "markdown",
   "metadata": {},
   "source": [
    "##### Manhattan also has a lower per capita income than the comparable cities. This will also need to be considered when developing a final conclusion."
   ]
  },
  {
   "cell_type": "markdown",
   "metadata": {},
   "source": [
    "##### Exploring age distribution between cities"
   ]
  },
  {
   "cell_type": "code",
   "execution_count": 288,
   "metadata": {},
   "outputs": [
    {
     "data": {
      "text/html": [
       "<div>\n",
       "<style scoped>\n",
       "    .dataframe tbody tr th:only-of-type {\n",
       "        vertical-align: middle;\n",
       "    }\n",
       "\n",
       "    .dataframe tbody tr th {\n",
       "        vertical-align: top;\n",
       "    }\n",
       "\n",
       "    .dataframe thead th {\n",
       "        text-align: right;\n",
       "    }\n",
       "</style>\n",
       "<table border=\"1\" class=\"dataframe\">\n",
       "  <thead>\n",
       "    <tr style=\"text-align: right;\">\n",
       "      <th></th>\n",
       "      <th></th>\n",
       "      <th>Madison, Wisconsin</th>\n",
       "      <th>Boise, Idaho</th>\n",
       "      <th>Lincoln, Nebraska</th>\n",
       "      <th>Manhattan, Kansas</th>\n",
       "    </tr>\n",
       "  </thead>\n",
       "  <tbody>\n",
       "    <tr>\n",
       "      <td>2</td>\n",
       "      <td>Persons under 5 years, percent</td>\n",
       "      <td>0.052</td>\n",
       "      <td>0.058</td>\n",
       "      <td>0.066</td>\n",
       "      <td>0.048</td>\n",
       "    </tr>\n",
       "    <tr>\n",
       "      <td>3</td>\n",
       "      <td>Persons under 18 years, percent</td>\n",
       "      <td>0.166</td>\n",
       "      <td>0.222</td>\n",
       "      <td>0.225</td>\n",
       "      <td>0.146</td>\n",
       "    </tr>\n",
       "    <tr>\n",
       "      <td>4</td>\n",
       "      <td>Persons between 18 and under 65, percent</td>\n",
       "      <td>0.669</td>\n",
       "      <td>0.584</td>\n",
       "      <td>0.581</td>\n",
       "      <td>0.722</td>\n",
       "    </tr>\n",
       "    <tr>\n",
       "      <td>5</td>\n",
       "      <td>Persons 65 years and over, percent</td>\n",
       "      <td>0.113</td>\n",
       "      <td>0.136</td>\n",
       "      <td>0.128</td>\n",
       "      <td>0.084</td>\n",
       "    </tr>\n",
       "  </tbody>\n",
       "</table>\n",
       "</div>"
      ],
      "text/plain": [
       "                                             Madison, Wisconsin  Boise, Idaho  \\\n",
       "2            Persons under 5 years, percent               0.052         0.058   \n",
       "3           Persons under 18 years, percent               0.166         0.222   \n",
       "4  Persons between 18 and under 65, percent               0.669         0.584   \n",
       "5        Persons 65 years and over, percent               0.113         0.136   \n",
       "\n",
       "   Lincoln, Nebraska  Manhattan, Kansas  \n",
       "2              0.066              0.048  \n",
       "3              0.225              0.146  \n",
       "4              0.581              0.722  \n",
       "5              0.128              0.084  "
      ]
     },
     "execution_count": 288,
     "metadata": {},
     "output_type": "execute_result"
    }
   ],
   "source": [
    "pop_char_data.iloc[[2,3,4,5]]"
   ]
  },
  {
   "cell_type": "markdown",
   "metadata": {},
   "source": [
    "##### Distribution of age groups by percentage is similar. As expected, Manhattan has a larger percentage of people between 18 and under 65. This will need to be a consideration when finalizing a recommendation."
   ]
  },
  {
   "cell_type": "markdown",
   "metadata": {},
   "source": [
    "### Venue Data"
   ]
  },
  {
   "cell_type": "markdown",
   "metadata": {},
   "source": [
    "#### Getting lat/long through geopy"
   ]
  },
  {
   "cell_type": "code",
   "execution_count": 289,
   "metadata": {},
   "outputs": [],
   "source": [
    "# import libraries\n",
    "import folium\n",
    "from geopy.geocoders import Nominatim"
   ]
  },
  {
   "cell_type": "code",
   "execution_count": 290,
   "metadata": {},
   "outputs": [],
   "source": [
    "# Create function that finds the latitude and longitude of each city\n",
    "def latlongfinder(city):\n",
    "    address = city\n",
    "    geolocator = Nominatim(user_agent=\"Capstone\")\n",
    "    location = geolocator.geocode(address)\n",
    "    latitude = location.latitude\n",
    "    longitude = location.longitude\n",
    "    lat.append(latitude)\n",
    "    long.append(longitude)\n",
    "    print('The geograpical coordinate of {} is {}, {}.'.format(address, latitude, longitude))"
   ]
  },
  {
   "cell_type": "code",
   "execution_count": 291,
   "metadata": {},
   "outputs": [
    {
     "data": {
      "text/plain": [
       "['Madison, Wisconsin',\n",
       " 'Boise, Idaho',\n",
       " 'Lincoln, Nebraska',\n",
       " 'Manhattan, Kansas']"
      ]
     },
     "execution_count": 291,
     "metadata": {},
     "output_type": "execute_result"
    }
   ],
   "source": [
    "# Create list of cities\n",
    "cities = pop_char_data.columns.values[1:5]\n",
    "cities = list(cities)\n",
    "cities"
   ]
  },
  {
   "cell_type": "code",
   "execution_count": 292,
   "metadata": {},
   "outputs": [
    {
     "name": "stdout",
     "output_type": "stream",
     "text": [
      "The geograpical coordinate of Madison, Wisconsin is 43.074761, -89.3837613.\n",
      "The geograpical coordinate of Boise, Idaho is 43.6166163, -116.200886.\n",
      "The geograpical coordinate of Lincoln, Nebraska is 40.8088861, -96.7077751.\n",
      "The geograpical coordinate of Manhattan, Kansas is 39.1836082, -96.5716694.\n"
     ]
    }
   ],
   "source": [
    "# Find lat/long for each city and put into list\n",
    "lat = []\n",
    "long = []\n",
    "for city in range(0,len(cities)):\n",
    "    latlongfinder(cities[city])"
   ]
  },
  {
   "cell_type": "code",
   "execution_count": 293,
   "metadata": {},
   "outputs": [
    {
     "data": {
      "text/html": [
       "<div>\n",
       "<style scoped>\n",
       "    .dataframe tbody tr th:only-of-type {\n",
       "        vertical-align: middle;\n",
       "    }\n",
       "\n",
       "    .dataframe tbody tr th {\n",
       "        vertical-align: top;\n",
       "    }\n",
       "\n",
       "    .dataframe thead th {\n",
       "        text-align: right;\n",
       "    }\n",
       "</style>\n",
       "<table border=\"1\" class=\"dataframe\">\n",
       "  <thead>\n",
       "    <tr style=\"text-align: right;\">\n",
       "      <th></th>\n",
       "      <th>City</th>\n",
       "      <th>Latitude</th>\n",
       "      <th>Longitude</th>\n",
       "    </tr>\n",
       "  </thead>\n",
       "  <tbody>\n",
       "    <tr>\n",
       "      <td>0</td>\n",
       "      <td>Madison, Wisconsin</td>\n",
       "      <td>43.074761</td>\n",
       "      <td>-89.383761</td>\n",
       "    </tr>\n",
       "    <tr>\n",
       "      <td>1</td>\n",
       "      <td>Boise, Idaho</td>\n",
       "      <td>43.616616</td>\n",
       "      <td>-116.200886</td>\n",
       "    </tr>\n",
       "    <tr>\n",
       "      <td>2</td>\n",
       "      <td>Lincoln, Nebraska</td>\n",
       "      <td>40.808886</td>\n",
       "      <td>-96.707775</td>\n",
       "    </tr>\n",
       "    <tr>\n",
       "      <td>3</td>\n",
       "      <td>Manhattan, Kansas</td>\n",
       "      <td>39.183608</td>\n",
       "      <td>-96.571669</td>\n",
       "    </tr>\n",
       "  </tbody>\n",
       "</table>\n",
       "</div>"
      ],
      "text/plain": [
       "                 City   Latitude   Longitude\n",
       "0  Madison, Wisconsin  43.074761  -89.383761\n",
       "1        Boise, Idaho  43.616616 -116.200886\n",
       "2   Lincoln, Nebraska  40.808886  -96.707775\n",
       "3   Manhattan, Kansas  39.183608  -96.571669"
      ]
     },
     "execution_count": 293,
     "metadata": {},
     "output_type": "execute_result"
    }
   ],
   "source": [
    "city_latlong = pd.DataFrame({'City': cities,\n",
    "                            'Latitude': lat,\n",
    "                            'Longitude': long})\n",
    "city_latlong"
   ]
  },
  {
   "cell_type": "markdown",
   "metadata": {},
   "source": [
    "#### Scraping venue information through Foursquare"
   ]
  },
  {
   "cell_type": "code",
   "execution_count": 294,
   "metadata": {},
   "outputs": [],
   "source": [
    "# Set up client keys\n",
    "CLIENT_ID = 'ZLTURHWLSBTGEBULQHC0UVBPWOGXUHZGXSGY2V5ZM5U0JJTC' # your Foursquare ID\n",
    "CLIENT_SECRET = 'KIBCZYSPTZ53I5BDAEKCMV3DIGWIAJVS11TBOQYU1TZCM300' # your Foursquare Secret\n",
    "VERSION = '20180605' # Foursquare API version"
   ]
  },
  {
   "cell_type": "markdown",
   "metadata": {},
   "source": [
    "##### Select Foursquare venue categories from: https://developer.foursquare.com/docs/resources/categories"
   ]
  },
  {
   "cell_type": "raw",
   "metadata": {},
   "source": [
    "Arts & entertainment: 4d4b7104d754a06370d81259 (included)\n",
    "Food: 4d4b7105d754a06374d81259 (included)\n",
    "Shop & Service: 4d4b7105d754a06378d81259 (included)\n",
    "\tGaming Cafe: 4bf58dd8d48988d18d941735 (already included within Shop & Service)\n",
    "\n",
    "Outdoors & recreation: 4d4b7105d754a06377d81259 (not included: mostly athletic venues that require scheduling)\n",
    "Nightlife Spot: 4d4b7105d754a06376d81259 (not included: mostly bars)"
   ]
  },
  {
   "cell_type": "code",
   "execution_count": 295,
   "metadata": {},
   "outputs": [],
   "source": [
    "# List of included categories from above\n",
    "categoryID = '4d4b7104d754a06370d81259,4d4b7105d754a06374d81259,4d4b7105d754a06378d81259'"
   ]
  },
  {
   "cell_type": "code",
   "execution_count": 296,
   "metadata": {},
   "outputs": [],
   "source": [
    "import requests as re\n",
    "import json\n",
    "\n",
    "LIMIT = 100 #max allowable venues in free version is 100\n",
    "radius = 2000\n",
    "\n",
    "def getNearbyVenues(names, latitudes, longitudes, radius=2000):\n",
    "    \n",
    "    venues_list=[]\n",
    "    for name, lat, lng in zip(cities, latitudes, longitudes):\n",
    "        print(name)\n",
    "            \n",
    "        # create the API request URL\n",
    "        url = 'https://api.foursquare.com/v2/venues/explore?&client_id={}&client_secret={}&v={}&ll={},{}&categoryId={}&radius={}&limit={}'.format(\n",
    "            CLIENT_ID, \n",
    "            CLIENT_SECRET, \n",
    "            VERSION, \n",
    "            lat, \n",
    "            lng, \n",
    "            categoryID,\n",
    "            radius, \n",
    "            LIMIT)\n",
    "            \n",
    "        # make the GET request\n",
    "        results = re.get(url).json()[\"response\"]['groups'][0]['items']\n",
    "        \n",
    "        # return only relevant information for each nearby venue\n",
    "        venues_list.append([(\n",
    "            name, \n",
    "            lat, \n",
    "            lng, \n",
    "            v['venue']['name'], \n",
    "            v['venue']['location']['lat'], \n",
    "            v['venue']['location']['lng'],  \n",
    "            v['venue']['categories'][0]['name']) for v in results])\n",
    "\n",
    "    nearby_venues = pd.DataFrame([item for venue_list in venues_list for item in venue_list])\n",
    "    nearby_venues.columns = ['City', \n",
    "                  'City Latitude', \n",
    "                  'City Longitude', \n",
    "                  'Venue', \n",
    "                  'Venue Latitude', \n",
    "                  'Venue Longitude', \n",
    "                  'Venue Category']\n",
    "    \n",
    "    return(nearby_venues)"
   ]
  },
  {
   "cell_type": "code",
   "execution_count": 297,
   "metadata": {},
   "outputs": [
    {
     "name": "stdout",
     "output_type": "stream",
     "text": [
      "Madison, Wisconsin\n",
      "Boise, Idaho\n",
      "Lincoln, Nebraska\n",
      "Manhattan, Kansas\n",
      "Venue count is 138.\n"
     ]
    }
   ],
   "source": [
    "# List and count venues in the four cities (limit 100 each)\n",
    "city_venues = getNearbyVenues(names=city_latlong['City'],\n",
    "                                   latitudes=city_latlong['Latitude'],\n",
    "                                   longitudes=city_latlong['Longitude']\n",
    "                                  )\n",
    "# Venue count\n",
    "print('Venue count is {}.'.format(city_venues.shape[0]))"
   ]
  },
  {
   "cell_type": "code",
   "execution_count": 298,
   "metadata": {},
   "outputs": [
    {
     "data": {
      "text/html": [
       "<div>\n",
       "<style scoped>\n",
       "    .dataframe tbody tr th:only-of-type {\n",
       "        vertical-align: middle;\n",
       "    }\n",
       "\n",
       "    .dataframe tbody tr th {\n",
       "        vertical-align: top;\n",
       "    }\n",
       "\n",
       "    .dataframe thead th {\n",
       "        text-align: right;\n",
       "    }\n",
       "</style>\n",
       "<table border=\"1\" class=\"dataframe\">\n",
       "  <thead>\n",
       "    <tr style=\"text-align: right;\">\n",
       "      <th></th>\n",
       "      <th>City</th>\n",
       "      <th>City Latitude</th>\n",
       "      <th>City Longitude</th>\n",
       "      <th>Venue</th>\n",
       "      <th>Venue Latitude</th>\n",
       "      <th>Venue Longitude</th>\n",
       "      <th>Venue Category</th>\n",
       "    </tr>\n",
       "  </thead>\n",
       "  <tbody>\n",
       "    <tr>\n",
       "      <td>0</td>\n",
       "      <td>Madison, Wisconsin</td>\n",
       "      <td>43.074761</td>\n",
       "      <td>-89.383761</td>\n",
       "      <td>Madison Children's Museum</td>\n",
       "      <td>43.076790</td>\n",
       "      <td>-89.384422</td>\n",
       "      <td>Museum</td>\n",
       "    </tr>\n",
       "    <tr>\n",
       "      <td>1</td>\n",
       "      <td>Madison, Wisconsin</td>\n",
       "      <td>43.074761</td>\n",
       "      <td>-89.383761</td>\n",
       "      <td>Overture Center For The Arts</td>\n",
       "      <td>43.074275</td>\n",
       "      <td>-89.387677</td>\n",
       "      <td>Performing Arts Venue</td>\n",
       "    </tr>\n",
       "    <tr>\n",
       "      <td>2</td>\n",
       "      <td>Madison, Wisconsin</td>\n",
       "      <td>43.074761</td>\n",
       "      <td>-89.383761</td>\n",
       "      <td>Ivory Room Piano Bar</td>\n",
       "      <td>43.074475</td>\n",
       "      <td>-89.387225</td>\n",
       "      <td>Piano Bar</td>\n",
       "    </tr>\n",
       "    <tr>\n",
       "      <td>3</td>\n",
       "      <td>Madison, Wisconsin</td>\n",
       "      <td>43.074761</td>\n",
       "      <td>-89.383761</td>\n",
       "      <td>Comedy Club on State</td>\n",
       "      <td>43.074898</td>\n",
       "      <td>-89.388055</td>\n",
       "      <td>Comedy Club</td>\n",
       "    </tr>\n",
       "    <tr>\n",
       "      <td>4</td>\n",
       "      <td>Madison, Wisconsin</td>\n",
       "      <td>43.074761</td>\n",
       "      <td>-89.383761</td>\n",
       "      <td>Orpheum Theatre</td>\n",
       "      <td>43.075437</td>\n",
       "      <td>-89.388733</td>\n",
       "      <td>Indie Movie Theater</td>\n",
       "    </tr>\n",
       "    <tr>\n",
       "      <td>...</td>\n",
       "      <td>...</td>\n",
       "      <td>...</td>\n",
       "      <td>...</td>\n",
       "      <td>...</td>\n",
       "      <td>...</td>\n",
       "      <td>...</td>\n",
       "      <td>...</td>\n",
       "    </tr>\n",
       "    <tr>\n",
       "      <td>133</td>\n",
       "      <td>Manhattan, Kansas</td>\n",
       "      <td>39.183608</td>\n",
       "      <td>-96.571669</td>\n",
       "      <td>World War II Memorial</td>\n",
       "      <td>39.187907</td>\n",
       "      <td>-96.580025</td>\n",
       "      <td>Memorial Site</td>\n",
       "    </tr>\n",
       "    <tr>\n",
       "      <td>134</td>\n",
       "      <td>Manhattan, Kansas</td>\n",
       "      <td>39.183608</td>\n",
       "      <td>-96.571669</td>\n",
       "      <td>Strecker-Nelson Gallery</td>\n",
       "      <td>39.179560</td>\n",
       "      <td>-96.562255</td>\n",
       "      <td>Art Gallery</td>\n",
       "    </tr>\n",
       "    <tr>\n",
       "      <td>135</td>\n",
       "      <td>Manhattan, Kansas</td>\n",
       "      <td>39.183608</td>\n",
       "      <td>-96.571669</td>\n",
       "      <td>KSU Little Theater</td>\n",
       "      <td>39.188422</td>\n",
       "      <td>-96.582158</td>\n",
       "      <td>Theater</td>\n",
       "    </tr>\n",
       "    <tr>\n",
       "      <td>136</td>\n",
       "      <td>Manhattan, Kansas</td>\n",
       "      <td>39.183608</td>\n",
       "      <td>-96.571669</td>\n",
       "      <td>Purple Masque Theater</td>\n",
       "      <td>39.187771</td>\n",
       "      <td>-96.583593</td>\n",
       "      <td>Theater</td>\n",
       "    </tr>\n",
       "    <tr>\n",
       "      <td>137</td>\n",
       "      <td>Manhattan, Kansas</td>\n",
       "      <td>39.183608</td>\n",
       "      <td>-96.571669</td>\n",
       "      <td>KSU Insect Zoo</td>\n",
       "      <td>39.195279</td>\n",
       "      <td>-96.584845</td>\n",
       "      <td>Science Museum</td>\n",
       "    </tr>\n",
       "  </tbody>\n",
       "</table>\n",
       "<p>138 rows × 7 columns</p>\n",
       "</div>"
      ],
      "text/plain": [
       "                   City  City Latitude  City Longitude  \\\n",
       "0    Madison, Wisconsin      43.074761      -89.383761   \n",
       "1    Madison, Wisconsin      43.074761      -89.383761   \n",
       "2    Madison, Wisconsin      43.074761      -89.383761   \n",
       "3    Madison, Wisconsin      43.074761      -89.383761   \n",
       "4    Madison, Wisconsin      43.074761      -89.383761   \n",
       "..                  ...            ...             ...   \n",
       "133   Manhattan, Kansas      39.183608      -96.571669   \n",
       "134   Manhattan, Kansas      39.183608      -96.571669   \n",
       "135   Manhattan, Kansas      39.183608      -96.571669   \n",
       "136   Manhattan, Kansas      39.183608      -96.571669   \n",
       "137   Manhattan, Kansas      39.183608      -96.571669   \n",
       "\n",
       "                            Venue  Venue Latitude  Venue Longitude  \\\n",
       "0       Madison Children's Museum       43.076790       -89.384422   \n",
       "1    Overture Center For The Arts       43.074275       -89.387677   \n",
       "2            Ivory Room Piano Bar       43.074475       -89.387225   \n",
       "3            Comedy Club on State       43.074898       -89.388055   \n",
       "4                 Orpheum Theatre       43.075437       -89.388733   \n",
       "..                            ...             ...              ...   \n",
       "133         World War II Memorial       39.187907       -96.580025   \n",
       "134       Strecker-Nelson Gallery       39.179560       -96.562255   \n",
       "135            KSU Little Theater       39.188422       -96.582158   \n",
       "136         Purple Masque Theater       39.187771       -96.583593   \n",
       "137                KSU Insect Zoo       39.195279       -96.584845   \n",
       "\n",
       "            Venue Category  \n",
       "0                   Museum  \n",
       "1    Performing Arts Venue  \n",
       "2                Piano Bar  \n",
       "3              Comedy Club  \n",
       "4      Indie Movie Theater  \n",
       "..                     ...  \n",
       "133          Memorial Site  \n",
       "134            Art Gallery  \n",
       "135                Theater  \n",
       "136                Theater  \n",
       "137         Science Museum  \n",
       "\n",
       "[138 rows x 7 columns]"
      ]
     },
     "execution_count": 298,
     "metadata": {},
     "output_type": "execute_result"
    }
   ],
   "source": [
    "city_venues"
   ]
  },
  {
   "cell_type": "code",
   "execution_count": 299,
   "metadata": {},
   "outputs": [
    {
     "name": "stdout",
     "output_type": "stream",
     "text": [
      "Madison venue count:  44\n",
      "Boise venue count:  43\n",
      "Manhattan venue count:  16\n",
      "Lincoln venue count:  35\n"
     ]
    }
   ],
   "source": [
    "#print('Venue count in {}: {}'.format('Madison, Wisconsin', city_venues[city_venues['City']=='Madison, Wisconsin'].shape[0])\n",
    "#print('Madison venue count: 'city_venues[city_venues['City']=='Madison, Wisconsin'])\n",
    "print('Madison venue count: ', city_venues[city_venues['City']=='Madison, Wisconsin'].shape[0])\n",
    "print('Boise venue count: ', city_venues[city_venues['City']=='Boise, Idaho'].shape[0])\n",
    "print('Manhattan venue count: ', city_venues[city_venues['City']=='Manhattan, Kansas'].shape[0])\n",
    "print('Lincoln venue count: ', city_venues[city_venues['City']=='Lincoln, Nebraska'].shape[0])"
   ]
  },
  {
   "cell_type": "markdown",
   "metadata": {},
   "source": [
    "##### Manhattan does not have nearly as many venues within the Arts & Entertainment, Food, and Shop & Service categories"
   ]
  },
  {
   "cell_type": "markdown",
   "metadata": {},
   "source": [
    "### Maps of the four cities' venues to explore venue geographic distribution"
   ]
  },
  {
   "cell_type": "code",
   "execution_count": 300,
   "metadata": {},
   "outputs": [
    {
     "data": {
      "text/html": [
       "<div style=\"width:100%;\"><div style=\"position:relative;width:100%;height:0;padding-bottom:60%;\"><iframe src=\"data:text/html;charset=utf-8;base64,PCFET0NUWVBFIGh0bWw+CjxoZWFkPiAgICAKICAgIDxtZXRhIGh0dHAtZXF1aXY9ImNvbnRlbnQtdHlwZSIgY29udGVudD0idGV4dC9odG1sOyBjaGFyc2V0PVVURi04IiAvPgogICAgPHNjcmlwdD5MX1BSRUZFUl9DQU5WQVMgPSBmYWxzZTsgTF9OT19UT1VDSCA9IGZhbHNlOyBMX0RJU0FCTEVfM0QgPSBmYWxzZTs8L3NjcmlwdD4KICAgIDxzY3JpcHQgc3JjPSJodHRwczovL2Nkbi5qc2RlbGl2ci5uZXQvbnBtL2xlYWZsZXRAMS4yLjAvZGlzdC9sZWFmbGV0LmpzIj48L3NjcmlwdD4KICAgIDxzY3JpcHQgc3JjPSJodHRwczovL2FqYXguZ29vZ2xlYXBpcy5jb20vYWpheC9saWJzL2pxdWVyeS8xLjExLjEvanF1ZXJ5Lm1pbi5qcyI+PC9zY3JpcHQ+CiAgICA8c2NyaXB0IHNyYz0iaHR0cHM6Ly9tYXhjZG4uYm9vdHN0cmFwY2RuLmNvbS9ib290c3RyYXAvMy4yLjAvanMvYm9vdHN0cmFwLm1pbi5qcyI+PC9zY3JpcHQ+CiAgICA8c2NyaXB0IHNyYz0iaHR0cHM6Ly9jZG5qcy5jbG91ZGZsYXJlLmNvbS9hamF4L2xpYnMvTGVhZmxldC5hd2Vzb21lLW1hcmtlcnMvMi4wLjIvbGVhZmxldC5hd2Vzb21lLW1hcmtlcnMuanMiPjwvc2NyaXB0PgogICAgPGxpbmsgcmVsPSJzdHlsZXNoZWV0IiBocmVmPSJodHRwczovL2Nkbi5qc2RlbGl2ci5uZXQvbnBtL2xlYWZsZXRAMS4yLjAvZGlzdC9sZWFmbGV0LmNzcyIvPgogICAgPGxpbmsgcmVsPSJzdHlsZXNoZWV0IiBocmVmPSJodHRwczovL21heGNkbi5ib290c3RyYXBjZG4uY29tL2Jvb3RzdHJhcC8zLjIuMC9jc3MvYm9vdHN0cmFwLm1pbi5jc3MiLz4KICAgIDxsaW5rIHJlbD0ic3R5bGVzaGVldCIgaHJlZj0iaHR0cHM6Ly9tYXhjZG4uYm9vdHN0cmFwY2RuLmNvbS9ib290c3RyYXAvMy4yLjAvY3NzL2Jvb3RzdHJhcC10aGVtZS5taW4uY3NzIi8+CiAgICA8bGluayByZWw9InN0eWxlc2hlZXQiIGhyZWY9Imh0dHBzOi8vbWF4Y2RuLmJvb3RzdHJhcGNkbi5jb20vZm9udC1hd2Vzb21lLzQuNi4zL2Nzcy9mb250LWF3ZXNvbWUubWluLmNzcyIvPgogICAgPGxpbmsgcmVsPSJzdHlsZXNoZWV0IiBocmVmPSJodHRwczovL2NkbmpzLmNsb3VkZmxhcmUuY29tL2FqYXgvbGlicy9MZWFmbGV0LmF3ZXNvbWUtbWFya2Vycy8yLjAuMi9sZWFmbGV0LmF3ZXNvbWUtbWFya2Vycy5jc3MiLz4KICAgIDxsaW5rIHJlbD0ic3R5bGVzaGVldCIgaHJlZj0iaHR0cHM6Ly9yYXdnaXQuY29tL3B5dGhvbi12aXN1YWxpemF0aW9uL2ZvbGl1bS9tYXN0ZXIvZm9saXVtL3RlbXBsYXRlcy9sZWFmbGV0LmF3ZXNvbWUucm90YXRlLmNzcyIvPgogICAgPHN0eWxlPmh0bWwsIGJvZHkge3dpZHRoOiAxMDAlO2hlaWdodDogMTAwJTttYXJnaW46IDA7cGFkZGluZzogMDt9PC9zdHlsZT4KICAgIDxzdHlsZT4jbWFwIHtwb3NpdGlvbjphYnNvbHV0ZTt0b3A6MDtib3R0b206MDtyaWdodDowO2xlZnQ6MDt9PC9zdHlsZT4KICAgIAogICAgICAgICAgICA8c3R5bGU+ICNtYXBfYjc3NmYwZTUwN2JiNDVkZDk2MDQ1ZWE1NGFjODNhYzEgewogICAgICAgICAgICAgICAgcG9zaXRpb24gOiByZWxhdGl2ZTsKICAgICAgICAgICAgICAgIHdpZHRoIDogMTAwLjAlOwogICAgICAgICAgICAgICAgaGVpZ2h0OiAxMDAuMCU7CiAgICAgICAgICAgICAgICBsZWZ0OiAwLjAlOwogICAgICAgICAgICAgICAgdG9wOiAwLjAlOwogICAgICAgICAgICAgICAgfQogICAgICAgICAgICA8L3N0eWxlPgogICAgICAgIAo8L2hlYWQ+Cjxib2R5PiAgICAKICAgIAogICAgICAgICAgICA8ZGl2IGNsYXNzPSJmb2xpdW0tbWFwIiBpZD0ibWFwX2I3NzZmMGU1MDdiYjQ1ZGQ5NjA0NWVhNTRhYzgzYWMxIiA+PC9kaXY+CiAgICAgICAgCjwvYm9keT4KPHNjcmlwdD4gICAgCiAgICAKCiAgICAgICAgICAgIAogICAgICAgICAgICAgICAgdmFyIGJvdW5kcyA9IG51bGw7CiAgICAgICAgICAgIAoKICAgICAgICAgICAgdmFyIG1hcF9iNzc2ZjBlNTA3YmI0NWRkOTYwNDVlYTU0YWM4M2FjMSA9IEwubWFwKAogICAgICAgICAgICAgICAgICAgICAgICAgICAgICAgICAgJ21hcF9iNzc2ZjBlNTA3YmI0NWRkOTYwNDVlYTU0YWM4M2FjMScsCiAgICAgICAgICAgICAgICAgICAgICAgICAgICAgICAgICB7Y2VudGVyOiBbMzkuMTgzNjA4MiwtOTYuNTcxNjY5NF0sCiAgICAgICAgICAgICAgICAgICAgICAgICAgICAgICAgICB6b29tOiAxNCwKICAgICAgICAgICAgICAgICAgICAgICAgICAgICAgICAgIG1heEJvdW5kczogYm91bmRzLAogICAgICAgICAgICAgICAgICAgICAgICAgICAgICAgICAgbGF5ZXJzOiBbXSwKICAgICAgICAgICAgICAgICAgICAgICAgICAgICAgICAgIHdvcmxkQ29weUp1bXA6IGZhbHNlLAogICAgICAgICAgICAgICAgICAgICAgICAgICAgICAgICAgY3JzOiBMLkNSUy5FUFNHMzg1NwogICAgICAgICAgICAgICAgICAgICAgICAgICAgICAgICB9KTsKICAgICAgICAgICAgCiAgICAgICAgCiAgICAKICAgICAgICAgICAgdmFyIHRpbGVfbGF5ZXJfMmFmOWRiZTY4MjAzNDk4MjlkNDQwNjkyOTUxMjZhMDcgPSBMLnRpbGVMYXllcigKICAgICAgICAgICAgICAgICdodHRwczovL3tzfS50aWxlLm9wZW5zdHJlZXRtYXAub3JnL3t6fS97eH0ve3l9LnBuZycsCiAgICAgICAgICAgICAgICB7CiAgImF0dHJpYnV0aW9uIjogbnVsbCwKICAiZGV0ZWN0UmV0aW5hIjogZmFsc2UsCiAgIm1heFpvb20iOiAxOCwKICAibWluWm9vbSI6IDEsCiAgIm5vV3JhcCI6IGZhbHNlLAogICJzdWJkb21haW5zIjogImFiYyIKfQogICAgICAgICAgICAgICAgKS5hZGRUbyhtYXBfYjc3NmYwZTUwN2JiNDVkZDk2MDQ1ZWE1NGFjODNhYzEpOwogICAgICAgIAogICAgCiAgICAgICAgICAgIHZhciBjaXJjbGVfbWFya2VyX2I2ZTIzMzMyMDM3ZTRlZjg4OGEyNTRiNDQ3ZDgyYjZmID0gTC5jaXJjbGVNYXJrZXIoCiAgICAgICAgICAgICAgICBbMzkuMTg2NzIyMjMzMzU1NDgsLTk2LjU3ODU3MjcwNDE1NDEzXSwKICAgICAgICAgICAgICAgIHsKICAiYnViYmxpbmdNb3VzZUV2ZW50cyI6IHRydWUsCiAgImNvbG9yIjogImJsdWUiLAogICJkYXNoQXJyYXkiOiBudWxsLAogICJkYXNoT2Zmc2V0IjogbnVsbCwKICAiZmlsbCI6IHRydWUsCiAgImZpbGxDb2xvciI6ICIjMzE4NmNjIiwKICAiZmlsbE9wYWNpdHkiOiAwLjcsCiAgImZpbGxSdWxlIjogImV2ZW5vZGQiLAogICJsaW5lQ2FwIjogInJvdW5kIiwKICAibGluZUpvaW4iOiAicm91bmQiLAogICJvcGFjaXR5IjogMS4wLAogICJyYWRpdXMiOiA1LAogICJzdHJva2UiOiB0cnVlLAogICJ3ZWlnaHQiOiAzCn0KICAgICAgICAgICAgICAgICkuYWRkVG8obWFwX2I3NzZmMGU1MDdiYjQ1ZGQ5NjA0NWVhNTRhYzgzYWMxKTsKICAgICAgICAgICAgCiAgICAKICAgICAgICAgICAgdmFyIHBvcHVwX2E1NDc1NzFiZGY0ODRkY2M4NjhmM2VlZGJhOWI3ODZkID0gTC5wb3B1cCh7bWF4V2lkdGg6ICczMDAnfSk7CgogICAgICAgICAgICAKICAgICAgICAgICAgICAgIHZhciBodG1sXzA5Y2ExYWY4ZWZjMDQwZTZhMDdjZjZiMDhmZTRjMmQxID0gJCgnPGRpdiBpZD0iaHRtbF8wOWNhMWFmOGVmYzA0MGU2YTA3Y2Y2YjA4ZmU0YzJkMSIgc3R5bGU9IndpZHRoOiAxMDAuMCU7IGhlaWdodDogMTAwLjAlOyI+QmVhY2ggTXVzZXVtIG9mIEFydCwgQXJ0IE11c2V1bTwvZGl2PicpWzBdOwogICAgICAgICAgICAgICAgcG9wdXBfYTU0NzU3MWJkZjQ4NGRjYzg2OGYzZWVkYmE5Yjc4NmQuc2V0Q29udGVudChodG1sXzA5Y2ExYWY4ZWZjMDQwZTZhMDdjZjZiMDhmZTRjMmQxKTsKICAgICAgICAgICAgCgogICAgICAgICAgICBjaXJjbGVfbWFya2VyX2I2ZTIzMzMyMDM3ZTRlZjg4OGEyNTRiNDQ3ZDgyYjZmLmJpbmRQb3B1cChwb3B1cF9hNTQ3NTcxYmRmNDg0ZGNjODY4ZjNlZWRiYTliNzg2ZCk7CgogICAgICAgICAgICAKICAgICAgICAKICAgIAogICAgICAgICAgICB2YXIgY2lyY2xlX21hcmtlcl9lMmYxYzc5MzkwMzA0Nzg3OGRlNDI5MzU4NDhmMGU0MSA9IEwuY2lyY2xlTWFya2VyKAogICAgICAgICAgICAgICAgWzM5LjE4NzIwMDczOTY4MDUzLC05Ni41Nzk3MTU3NjY5ODA0OF0sCiAgICAgICAgICAgICAgICB7CiAgImJ1YmJsaW5nTW91c2VFdmVudHMiOiB0cnVlLAogICJjb2xvciI6ICJibHVlIiwKICAiZGFzaEFycmF5IjogbnVsbCwKICAiZGFzaE9mZnNldCI6IG51bGwsCiAgImZpbGwiOiB0cnVlLAogICJmaWxsQ29sb3IiOiAiIzMxODZjYyIsCiAgImZpbGxPcGFjaXR5IjogMC43LAogICJmaWxsUnVsZSI6ICJldmVub2RkIiwKICAibGluZUNhcCI6ICJyb3VuZCIsCiAgImxpbmVKb2luIjogInJvdW5kIiwKICAib3BhY2l0eSI6IDEuMCwKICAicmFkaXVzIjogNSwKICAic3Ryb2tlIjogdHJ1ZSwKICAid2VpZ2h0IjogMwp9CiAgICAgICAgICAgICAgICApLmFkZFRvKG1hcF9iNzc2ZjBlNTA3YmI0NWRkOTYwNDVlYTU0YWM4M2FjMSk7CiAgICAgICAgICAgIAogICAgCiAgICAgICAgICAgIHZhciBwb3B1cF8wNTIxY2ZhMDI5Y2U0Yzk3YWUyMWU3Y2Y0Zjc1MmViNSA9IEwucG9wdXAoe21heFdpZHRoOiAnMzAwJ30pOwoKICAgICAgICAgICAgCiAgICAgICAgICAgICAgICB2YXIgaHRtbF9hNGFkNmIzMmQ1MzI0NGFhYjJiY2Y1ZDYxZDJiNTgwMyA9ICQoJzxkaXYgaWQ9Imh0bWxfYTRhZDZiMzJkNTMyNDRhYWIyYmNmNWQ2MWQyYjU4MDMiIHN0eWxlPSJ3aWR0aDogMTAwLjAlOyBoZWlnaHQ6IDEwMC4wJTsiPk1jQ2FpbiBBdWRpdG9yaXVtLCBQZXJmb3JtaW5nIEFydHMgVmVudWU8L2Rpdj4nKVswXTsKICAgICAgICAgICAgICAgIHBvcHVwXzA1MjFjZmEwMjljZTRjOTdhZTIxZTdjZjRmNzUyZWI1LnNldENvbnRlbnQoaHRtbF9hNGFkNmIzMmQ1MzI0NGFhYjJiY2Y1ZDYxZDJiNTgwMyk7CiAgICAgICAgICAgIAoKICAgICAgICAgICAgY2lyY2xlX21hcmtlcl9lMmYxYzc5MzkwMzA0Nzg3OGRlNDI5MzU4NDhmMGU0MS5iaW5kUG9wdXAocG9wdXBfMDUyMWNmYTAyOWNlNGM5N2FlMjFlN2NmNGY3NTJlYjUpOwoKICAgICAgICAgICAgCiAgICAgICAgCiAgICAKICAgICAgICAgICAgdmFyIGNpcmNsZV9tYXJrZXJfNzE3OWVmYTgzYjA2NDM0ZWJiZWIzZTBiMmE0MzlkOTEgPSBMLmNpcmNsZU1hcmtlcigKICAgICAgICAgICAgICAgIFszOS4xNzY2MzY0MDMwMDgzNiwtOTYuNTYwMTE4MTQ4NzQwODRdLAogICAgICAgICAgICAgICAgewogICJidWJibGluZ01vdXNlRXZlbnRzIjogdHJ1ZSwKICAiY29sb3IiOiAiYmx1ZSIsCiAgImRhc2hBcnJheSI6IG51bGwsCiAgImRhc2hPZmZzZXQiOiBudWxsLAogICJmaWxsIjogdHJ1ZSwKICAiZmlsbENvbG9yIjogIiMzMTg2Y2MiLAogICJmaWxsT3BhY2l0eSI6IDAuNywKICAiZmlsbFJ1bGUiOiAiZXZlbm9kZCIsCiAgImxpbmVDYXAiOiAicm91bmQiLAogICJsaW5lSm9pbiI6ICJyb3VuZCIsCiAgIm9wYWNpdHkiOiAxLjAsCiAgInJhZGl1cyI6IDUsCiAgInN0cm9rZSI6IHRydWUsCiAgIndlaWdodCI6IDMKfQogICAgICAgICAgICAgICAgKS5hZGRUbyhtYXBfYjc3NmYwZTUwN2JiNDVkZDk2MDQ1ZWE1NGFjODNhYzEpOwogICAgICAgICAgICAKICAgIAogICAgICAgICAgICB2YXIgcG9wdXBfY2UwNzk3MGQyNjg0NDMwYjk2ZjhhNGU5YmZkMDE3N2EgPSBMLnBvcHVwKHttYXhXaWR0aDogJzMwMCd9KTsKCiAgICAgICAgICAgIAogICAgICAgICAgICAgICAgdmFyIGh0bWxfYzZjNTZmODhlNzk1NDQzZGJiZDIyMmFkN2NjNTc1MDUgPSAkKCc8ZGl2IGlkPSJodG1sX2M2YzU2Zjg4ZTc5NTQ0M2RiYmQyMjJhZDdjYzU3NTA1IiBzdHlsZT0id2lkdGg6IDEwMC4wJTsgaGVpZ2h0OiAxMDAuMCU7Ij5GbGludCBIaWxscyBEaXNjb3ZlcnkgQ2VudGVyLCBNdXNldW08L2Rpdj4nKVswXTsKICAgICAgICAgICAgICAgIHBvcHVwX2NlMDc5NzBkMjY4NDQzMGI5NmY4YTRlOWJmZDAxNzdhLnNldENvbnRlbnQoaHRtbF9jNmM1NmY4OGU3OTU0NDNkYmJkMjIyYWQ3Y2M1NzUwNSk7CiAgICAgICAgICAgIAoKICAgICAgICAgICAgY2lyY2xlX21hcmtlcl83MTc5ZWZhODNiMDY0MzRlYmJlYjNlMGIyYTQzOWQ5MS5iaW5kUG9wdXAocG9wdXBfY2UwNzk3MGQyNjg0NDMwYjk2ZjhhNGU5YmZkMDE3N2EpOwoKICAgICAgICAgICAgCiAgICAgICAgCiAgICAKICAgICAgICAgICAgdmFyIGNpcmNsZV9tYXJrZXJfZjNjNWI4ZjFjNjE2NDM5NjkwM2JmYWM2ZDcyYjlmNzkgPSBMLmNpcmNsZU1hcmtlcigKICAgICAgICAgICAgICAgIFszOS4xNzc5ODQ2ODgzMjc3OCwtOTYuNTU4OTIzNzA1NjYxNDNdLAogICAgICAgICAgICAgICAgewogICJidWJibGluZ01vdXNlRXZlbnRzIjogdHJ1ZSwKICAiY29sb3IiOiAiYmx1ZSIsCiAgImRhc2hBcnJheSI6IG51bGwsCiAgImRhc2hPZmZzZXQiOiBudWxsLAogICJmaWxsIjogdHJ1ZSwKICAiZmlsbENvbG9yIjogIiMzMTg2Y2MiLAogICJmaWxsT3BhY2l0eSI6IDAuNywKICAiZmlsbFJ1bGUiOiAiZXZlbm9kZCIsCiAgImxpbmVDYXAiOiAicm91bmQiLAogICJsaW5lSm9pbiI6ICJyb3VuZCIsCiAgIm9wYWNpdHkiOiAxLjAsCiAgInJhZGl1cyI6IDUsCiAgInN0cm9rZSI6IHRydWUsCiAgIndlaWdodCI6IDMKfQogICAgICAgICAgICAgICAgKS5hZGRUbyhtYXBfYjc3NmYwZTUwN2JiNDVkZDk2MDQ1ZWE1NGFjODNhYzEpOwogICAgICAgICAgICAKICAgIAogICAgICAgICAgICB2YXIgcG9wdXBfZGViZGMwZmZmYWU2NGYxZDgyYzBlZGIyZTM3MzFlNjkgPSBMLnBvcHVwKHttYXhXaWR0aDogJzMwMCd9KTsKCiAgICAgICAgICAgIAogICAgICAgICAgICAgICAgdmFyIGh0bWxfOGY5Yjg0NDdlOWY5NGFmOWI5NzU1NmNhMDE4ZmMwNjkgPSAkKCc8ZGl2IGlkPSJodG1sXzhmOWI4NDQ3ZTlmOTRhZjliOTc1NTZjYTAxOGZjMDY5IiBzdHlsZT0id2lkdGg6IDEwMC4wJTsgaGVpZ2h0OiAxMDAuMCU7Ij5Ub3duIENlbnRlciAxMywgTW92aWUgVGhlYXRlcjwvZGl2PicpWzBdOwogICAgICAgICAgICAgICAgcG9wdXBfZGViZGMwZmZmYWU2NGYxZDgyYzBlZGIyZTM3MzFlNjkuc2V0Q29udGVudChodG1sXzhmOWI4NDQ3ZTlmOTRhZjliOTc1NTZjYTAxOGZjMDY5KTsKICAgICAgICAgICAgCgogICAgICAgICAgICBjaXJjbGVfbWFya2VyX2YzYzViOGYxYzYxNjQzOTY5MDNiZmFjNmQ3MmI5Zjc5LmJpbmRQb3B1cChwb3B1cF9kZWJkYzBmZmZhZTY0ZjFkODJjMGVkYjJlMzczMWU2OSk7CgogICAgICAgICAgICAKICAgICAgICAKICAgIAogICAgICAgICAgICB2YXIgY2lyY2xlX21hcmtlcl9lMTdjMjUxMjA4ZjU0NmVmYTk2MTFhMjViNTZjZWYxNCA9IEwuY2lyY2xlTWFya2VyKAogICAgICAgICAgICAgICAgWzM5LjE3NzkxNDgxMTgwMDg4LC05Ni41NTkwNjk4MTk1MDc2NF0sCiAgICAgICAgICAgICAgICB7CiAgImJ1YmJsaW5nTW91c2VFdmVudHMiOiB0cnVlLAogICJjb2xvciI6ICJibHVlIiwKICAiZGFzaEFycmF5IjogbnVsbCwKICAiZGFzaE9mZnNldCI6IG51bGwsCiAgImZpbGwiOiB0cnVlLAogICJmaWxsQ29sb3IiOiAiIzMxODZjYyIsCiAgImZpbGxPcGFjaXR5IjogMC43LAogICJmaWxsUnVsZSI6ICJldmVub2RkIiwKICAibGluZUNhcCI6ICJyb3VuZCIsCiAgImxpbmVKb2luIjogInJvdW5kIiwKICAib3BhY2l0eSI6IDEuMCwKICAicmFkaXVzIjogNSwKICAic3Ryb2tlIjogdHJ1ZSwKICAid2VpZ2h0IjogMwp9CiAgICAgICAgICAgICAgICApLmFkZFRvKG1hcF9iNzc2ZjBlNTA3YmI0NWRkOTYwNDVlYTU0YWM4M2FjMSk7CiAgICAgICAgICAgIAogICAgCiAgICAgICAgICAgIHZhciBwb3B1cF80MzYyMWFmZDMzYjM0ZWUzOGQzYzZkOGM3NmQ2ODA4NyA9IEwucG9wdXAoe21heFdpZHRoOiAnMzAwJ30pOwoKICAgICAgICAgICAgCiAgICAgICAgICAgICAgICB2YXIgaHRtbF8zNTUyNzNiNDgwODg0NjllYTdhODg4ZTg2M2RhN2MwMiA9ICQoJzxkaXYgaWQ9Imh0bWxfMzU1MjczYjQ4MDg4NDY5ZWE3YTg4OGU4NjNkYTdjMDIiIHN0eWxlPSJ3aWR0aDogMTAwLjAlOyBoZWlnaHQ6IDEwMC4wJTsiPkFNQyBEaW5lLUluIE1hbmhhdHRhbiAxMywgTW92aWUgVGhlYXRlcjwvZGl2PicpWzBdOwogICAgICAgICAgICAgICAgcG9wdXBfNDM2MjFhZmQzM2IzNGVlMzhkM2M2ZDhjNzZkNjgwODcuc2V0Q29udGVudChodG1sXzM1NTI3M2I0ODA4ODQ2OWVhN2E4ODhlODYzZGE3YzAyKTsKICAgICAgICAgICAgCgogICAgICAgICAgICBjaXJjbGVfbWFya2VyX2UxN2MyNTEyMDhmNTQ2ZWZhOTYxMWEyNWI1NmNlZjE0LmJpbmRQb3B1cChwb3B1cF80MzYyMWFmZDMzYjM0ZWUzOGQzYzZkOGM3NmQ2ODA4Nyk7CgogICAgICAgICAgICAKICAgICAgICAKICAgIAogICAgICAgICAgICB2YXIgY2lyY2xlX21hcmtlcl9lOTFlNmE3NGNmYzE0ZjViYjgxYjkxODczZmMwYWJlMCA9IEwuY2lyY2xlTWFya2VyKAogICAgICAgICAgICAgICAgWzM5LjE3OTk4NzY4NDU4Njk0LC05Ni41ODEyMDE5MTQzNTE1NV0sCiAgICAgICAgICAgICAgICB7CiAgImJ1YmJsaW5nTW91c2VFdmVudHMiOiB0cnVlLAogICJjb2xvciI6ICJibHVlIiwKICAiZGFzaEFycmF5IjogbnVsbCwKICAiZGFzaE9mZnNldCI6IG51bGwsCiAgImZpbGwiOiB0cnVlLAogICJmaWxsQ29sb3IiOiAiIzMxODZjYyIsCiAgImZpbGxPcGFjaXR5IjogMC43LAogICJmaWxsUnVsZSI6ICJldmVub2RkIiwKICAibGluZUNhcCI6ICJyb3VuZCIsCiAgImxpbmVKb2luIjogInJvdW5kIiwKICAib3BhY2l0eSI6IDEuMCwKICAicmFkaXVzIjogNSwKICAic3Ryb2tlIjogdHJ1ZSwKICAid2VpZ2h0IjogMwp9CiAgICAgICAgICAgICAgICApLmFkZFRvKG1hcF9iNzc2ZjBlNTA3YmI0NWRkOTYwNDVlYTU0YWM4M2FjMSk7CiAgICAgICAgICAgIAogICAgCiAgICAgICAgICAgIHZhciBwb3B1cF9lMGQyN2I4MWIwNDQ0MDExOTk2NzhhN2NkNzgyZjQ5MiA9IEwucG9wdXAoe21heFdpZHRoOiAnMzAwJ30pOwoKICAgICAgICAgICAgCiAgICAgICAgICAgICAgICB2YXIgaHRtbF85NmEzMWI1MWQyZGI0Y2VhYWIwNzU1OTFhYTQ2OGU3NSA9ICQoJzxkaXYgaWQ9Imh0bWxfOTZhMzFiNTFkMmRiNGNlYWFiMDc1NTkxYWE0NjhlNzUiIHN0eWxlPSJ3aWR0aDogMTAwLjAlOyBoZWlnaHQ6IDEwMC4wJTsiPk1hbmhhdHRhbiBBcnRzIENlbnRlciwgUGVyZm9ybWluZyBBcnRzIFZlbnVlPC9kaXY+JylbMF07CiAgICAgICAgICAgICAgICBwb3B1cF9lMGQyN2I4MWIwNDQ0MDExOTk2NzhhN2NkNzgyZjQ5Mi5zZXRDb250ZW50KGh0bWxfOTZhMzFiNTFkMmRiNGNlYWFiMDc1NTkxYWE0NjhlNzUpOwogICAgICAgICAgICAKCiAgICAgICAgICAgIGNpcmNsZV9tYXJrZXJfZTkxZTZhNzRjZmMxNGY1YmI4MWI5MTg3M2ZjMGFiZTAuYmluZFBvcHVwKHBvcHVwX2UwZDI3YjgxYjA0NDQwMTE5OTY3OGE3Y2Q3ODJmNDkyKTsKCiAgICAgICAgICAgIAogICAgICAgIAogICAgCiAgICAgICAgICAgIHZhciBjaXJjbGVfbWFya2VyXzcwN2NjOTI0YjdjZTQyYTM5ZGZiNWJlNTlhNmM5ZGNiID0gTC5jaXJjbGVNYXJrZXIoCiAgICAgICAgICAgICAgICBbMzkuMTc5Nzg2MjIwNjg0OTEsLTk2LjU2MjQ1MDcyNzQ3ODA0XSwKICAgICAgICAgICAgICAgIHsKICAiYnViYmxpbmdNb3VzZUV2ZW50cyI6IHRydWUsCiAgImNvbG9yIjogImJsdWUiLAogICJkYXNoQXJyYXkiOiBudWxsLAogICJkYXNoT2Zmc2V0IjogbnVsbCwKICAiZmlsbCI6IHRydWUsCiAgImZpbGxDb2xvciI6ICIjMzE4NmNjIiwKICAiZmlsbE9wYWNpdHkiOiAwLjcsCiAgImZpbGxSdWxlIjogImV2ZW5vZGQiLAogICJsaW5lQ2FwIjogInJvdW5kIiwKICAibGluZUpvaW4iOiAicm91bmQiLAogICJvcGFjaXR5IjogMS4wLAogICJyYWRpdXMiOiA1LAogICJzdHJva2UiOiB0cnVlLAogICJ3ZWlnaHQiOiAzCn0KICAgICAgICAgICAgICAgICkuYWRkVG8obWFwX2I3NzZmMGU1MDdiYjQ1ZGQ5NjA0NWVhNTRhYzgzYWMxKTsKICAgICAgICAgICAgCiAgICAKICAgICAgICAgICAgdmFyIHBvcHVwXzJlMWRiMmY2ZjQ4NTQwOGZiOTU3NmYyY2UzODg2N2I2ID0gTC5wb3B1cCh7bWF4V2lkdGg6ICczMDAnfSk7CgogICAgICAgICAgICAKICAgICAgICAgICAgICAgIHZhciBodG1sXzU5MTRlYjllNTNiYzRmOWJhNTZjZjZiZTBkNTM3NmNjID0gJCgnPGRpdiBpZD0iaHRtbF81OTE0ZWI5ZTUzYmM0ZjliYTU2Y2Y2YmUwZDUzNzZjYyIgc3R5bGU9IndpZHRoOiAxMDAuMCU7IGhlaWdodDogMTAwLjAlOyI+VGhlIFdhcmVoYW0gT3BlcmEgSG91c2UsIFJvY2sgQ2x1YjwvZGl2PicpWzBdOwogICAgICAgICAgICAgICAgcG9wdXBfMmUxZGIyZjZmNDg1NDA4ZmI5NTc2ZjJjZTM4ODY3YjYuc2V0Q29udGVudChodG1sXzU5MTRlYjllNTNiYzRmOWJhNTZjZjZiZTBkNTM3NmNjKTsKICAgICAgICAgICAgCgogICAgICAgICAgICBjaXJjbGVfbWFya2VyXzcwN2NjOTI0YjdjZTQyYTM5ZGZiNWJlNTlhNmM5ZGNiLmJpbmRQb3B1cChwb3B1cF8yZTFkYjJmNmY0ODU0MDhmYjk1NzZmMmNlMzg4NjdiNik7CgogICAgICAgICAgICAKICAgICAgICAKICAgIAogICAgICAgICAgICB2YXIgY2lyY2xlX21hcmtlcl8wOTYzZTgwMmRiMDI0MTIzYTdkOTVlYTg0MjlkMmRjYiA9IEwuY2lyY2xlTWFya2VyKAogICAgICAgICAgICAgICAgWzM5LjE4NTYwNjQ0MTgwMTMwNSwtOTYuNTc1ODQ5MzE1MjUyMjZdLAogICAgICAgICAgICAgICAgewogICJidWJibGluZ01vdXNlRXZlbnRzIjogdHJ1ZSwKICAiY29sb3IiOiAiYmx1ZSIsCiAgImRhc2hBcnJheSI6IG51bGwsCiAgImRhc2hPZmZzZXQiOiBudWxsLAogICJmaWxsIjogdHJ1ZSwKICAiZmlsbENvbG9yIjogIiMzMTg2Y2MiLAogICJmaWxsT3BhY2l0eSI6IDAuNywKICAiZmlsbFJ1bGUiOiAiZXZlbm9kZCIsCiAgImxpbmVDYXAiOiAicm91bmQiLAogICJsaW5lSm9pbiI6ICJyb3VuZCIsCiAgIm9wYWNpdHkiOiAxLjAsCiAgInJhZGl1cyI6IDUsCiAgInN0cm9rZSI6IHRydWUsCiAgIndlaWdodCI6IDMKfQogICAgICAgICAgICAgICAgKS5hZGRUbyhtYXBfYjc3NmYwZTUwN2JiNDVkZDk2MDQ1ZWE1NGFjODNhYzEpOwogICAgICAgICAgICAKICAgIAogICAgICAgICAgICB2YXIgcG9wdXBfNDZhMDQzZDA3MmQ3NGM0Y2E1MjZjNzM5MmU0N2UyN2MgPSBMLnBvcHVwKHttYXhXaWR0aDogJzMwMCd9KTsKCiAgICAgICAgICAgIAogICAgICAgICAgICAgICAgdmFyIGh0bWxfNjljNTMyZjAzNzkzNDZmZGI0M2Q1ZTM2ODU5ODliZjIgPSAkKCc8ZGl2IGlkPSJodG1sXzY5YzUzMmYwMzc5MzQ2ZmRiNDNkNWUzNjg1OTg5YmYyIiBzdHlsZT0id2lkdGg6IDEwMC4wJTsgaGVpZ2h0OiAxMDAuMCU7Ij5TdHJhaWdodCBVcHAgQ3JlYXRpdmUgU3R1ZGlvcywgQXJ0IEdhbGxlcnk8L2Rpdj4nKVswXTsKICAgICAgICAgICAgICAgIHBvcHVwXzQ2YTA0M2QwNzJkNzRjNGNhNTI2YzczOTJlNDdlMjdjLnNldENvbnRlbnQoaHRtbF82OWM1MzJmMDM3OTM0NmZkYjQzZDVlMzY4NTk4OWJmMik7CiAgICAgICAgICAgIAoKICAgICAgICAgICAgY2lyY2xlX21hcmtlcl8wOTYzZTgwMmRiMDI0MTIzYTdkOTVlYTg0MjlkMmRjYi5iaW5kUG9wdXAocG9wdXBfNDZhMDQzZDA3MmQ3NGM0Y2E1MjZjNzM5MmU0N2UyN2MpOwoKICAgICAgICAgICAgCiAgICAgICAgCiAgICAKICAgICAgICAgICAgdmFyIGNpcmNsZV9tYXJrZXJfYzdmNDMyMjQxNTE3NDg3YWJjMzhkMTUxOTA1OWYxNzEgPSBMLmNpcmNsZU1hcmtlcigKICAgICAgICAgICAgICAgIFszOS4xODc1ODQsLTk2LjU3ODUyXSwKICAgICAgICAgICAgICAgIHsKICAiYnViYmxpbmdNb3VzZUV2ZW50cyI6IHRydWUsCiAgImNvbG9yIjogImJsdWUiLAogICJkYXNoQXJyYXkiOiBudWxsLAogICJkYXNoT2Zmc2V0IjogbnVsbCwKICAiZmlsbCI6IHRydWUsCiAgImZpbGxDb2xvciI6ICIjMzE4NmNjIiwKICAiZmlsbE9wYWNpdHkiOiAwLjcsCiAgImZpbGxSdWxlIjogImV2ZW5vZGQiLAogICJsaW5lQ2FwIjogInJvdW5kIiwKICAibGluZUpvaW4iOiAicm91bmQiLAogICJvcGFjaXR5IjogMS4wLAogICJyYWRpdXMiOiA1LAogICJzdHJva2UiOiB0cnVlLAogICJ3ZWlnaHQiOiAzCn0KICAgICAgICAgICAgICAgICkuYWRkVG8obWFwX2I3NzZmMGU1MDdiYjQ1ZGQ5NjA0NWVhNTRhYzgzYWMxKTsKICAgICAgICAgICAgCiAgICAKICAgICAgICAgICAgdmFyIHBvcHVwXzY5YTg3NzM2YTA1MjQxMzRhODQyYzNhOTZmMzVjZjNjID0gTC5wb3B1cCh7bWF4V2lkdGg6ICczMDAnfSk7CgogICAgICAgICAgICAKICAgICAgICAgICAgICAgIHZhciBodG1sX2FjNzUwNWY1NzIwMDQ0Y2NiZjA4MzczY2NmN2RmMmRlID0gJCgnPGRpdiBpZD0iaHRtbF9hYzc1MDVmNTcyMDA0NGNjYmYwODM3M2NjZjdkZjJkZSIgc3R5bGU9IndpZHRoOiAxMDAuMCU7IGhlaWdodDogMTAwLjAlOyI+VmlldG5hbSBWZXRlcmFucyBNZW1vcmlhbCwgTWVtb3JpYWwgU2l0ZTwvZGl2PicpWzBdOwogICAgICAgICAgICAgICAgcG9wdXBfNjlhODc3MzZhMDUyNDEzNGE4NDJjM2E5NmYzNWNmM2Muc2V0Q29udGVudChodG1sX2FjNzUwNWY1NzIwMDQ0Y2NiZjA4MzczY2NmN2RmMmRlKTsKICAgICAgICAgICAgCgogICAgICAgICAgICBjaXJjbGVfbWFya2VyX2M3ZjQzMjI0MTUxNzQ4N2FiYzM4ZDE1MTkwNTlmMTcxLmJpbmRQb3B1cChwb3B1cF82OWE4NzczNmEwNTI0MTM0YTg0MmMzYTk2ZjM1Y2YzYyk7CgogICAgICAgICAgICAKICAgICAgICAKICAgIAogICAgICAgICAgICB2YXIgY2lyY2xlX21hcmtlcl85MTI2YTE3MmFhNzE0YzRkODdkNTM2Yjk0OTM1MjNiMCA9IEwuY2lyY2xlTWFya2VyKAogICAgICAgICAgICAgICAgWzM5LjE4NDg2NywtOTYuNTYyNjE0XSwKICAgICAgICAgICAgICAgIHsKICAiYnViYmxpbmdNb3VzZUV2ZW50cyI6IHRydWUsCiAgImNvbG9yIjogImJsdWUiLAogICJkYXNoQXJyYXkiOiBudWxsLAogICJkYXNoT2Zmc2V0IjogbnVsbCwKICAiZmlsbCI6IHRydWUsCiAgImZpbGxDb2xvciI6ICIjMzE4NmNjIiwKICAiZmlsbE9wYWNpdHkiOiAwLjcsCiAgImZpbGxSdWxlIjogImV2ZW5vZGQiLAogICJsaW5lQ2FwIjogInJvdW5kIiwKICAibGluZUpvaW4iOiAicm91bmQiLAogICJvcGFjaXR5IjogMS4wLAogICJyYWRpdXMiOiA1LAogICJzdHJva2UiOiB0cnVlLAogICJ3ZWlnaHQiOiAzCn0KICAgICAgICAgICAgICAgICkuYWRkVG8obWFwX2I3NzZmMGU1MDdiYjQ1ZGQ5NjA0NWVhNTRhYzgzYWMxKTsKICAgICAgICAgICAgCiAgICAKICAgICAgICAgICAgdmFyIHBvcHVwXzg4MDllNmU0ZTY1NzQ5ZWViZWJlYjIxYTkxMzE2YzEyID0gTC5wb3B1cCh7bWF4V2lkdGg6ICczMDAnfSk7CgogICAgICAgICAgICAKICAgICAgICAgICAgICAgIHZhciBodG1sX2U4NGNkYjNhNTM2MDRhZGFiYjk4ZjIxZjhkMzdlMjY4ID0gJCgnPGRpdiBpZD0iaHRtbF9lODRjZGIzYTUzNjA0YWRhYmI5OGYyMWY4ZDM3ZTI2OCIgc3R5bGU9IndpZHRoOiAxMDAuMCU7IGhlaWdodDogMTAwLjAlOyI+QmFsbHJvb20gRGFuY2UgU2Nob29sIE1hbmhhdHRhbiwgRGFuY2UgU3R1ZGlvPC9kaXY+JylbMF07CiAgICAgICAgICAgICAgICBwb3B1cF84ODA5ZTZlNGU2NTc0OWVlYmViZWIyMWE5MTMxNmMxMi5zZXRDb250ZW50KGh0bWxfZTg0Y2RiM2E1MzYwNGFkYWJiOThmMjFmOGQzN2UyNjgpOwogICAgICAgICAgICAKCiAgICAgICAgICAgIGNpcmNsZV9tYXJrZXJfOTEyNmExNzJhYTcxNGM0ZDg3ZDUzNmI5NDkzNTIzYjAuYmluZFBvcHVwKHBvcHVwXzg4MDllNmU0ZTY1NzQ5ZWViZWJlYjIxYTkxMzE2YzEyKTsKCiAgICAgICAgICAgIAogICAgICAgIAogICAgCiAgICAgICAgICAgIHZhciBjaXJjbGVfbWFya2VyX2MwOThmODMxYzkwYTQ2MDFhMTNmNGFmMDBlODhjMzZhID0gTC5jaXJjbGVNYXJrZXIoCiAgICAgICAgICAgICAgICBbMzkuMTg2NTg5LC05Ni41ODA3NDddLAogICAgICAgICAgICAgICAgewogICJidWJibGluZ01vdXNlRXZlbnRzIjogdHJ1ZSwKICAiY29sb3IiOiAiYmx1ZSIsCiAgImRhc2hBcnJheSI6IG51bGwsCiAgImRhc2hPZmZzZXQiOiBudWxsLAogICJmaWxsIjogdHJ1ZSwKICAiZmlsbENvbG9yIjogIiMzMTg2Y2MiLAogICJmaWxsT3BhY2l0eSI6IDAuNywKICAiZmlsbFJ1bGUiOiAiZXZlbm9kZCIsCiAgImxpbmVDYXAiOiAicm91bmQiLAogICJsaW5lSm9pbiI6ICJyb3VuZCIsCiAgIm9wYWNpdHkiOiAxLjAsCiAgInJhZGl1cyI6IDUsCiAgInN0cm9rZSI6IHRydWUsCiAgIndlaWdodCI6IDMKfQogICAgICAgICAgICAgICAgKS5hZGRUbyhtYXBfYjc3NmYwZTUwN2JiNDVkZDk2MDQ1ZWE1NGFjODNhYzEpOwogICAgICAgICAgICAKICAgIAogICAgICAgICAgICB2YXIgcG9wdXBfZGRmOWNkNDMyNTQ5NGNlM2I3NjE0MmU4NTg1ZjQxZDIgPSBMLnBvcHVwKHttYXhXaWR0aDogJzMwMCd9KTsKCiAgICAgICAgICAgIAogICAgICAgICAgICAgICAgdmFyIGh0bWxfMTI2YjYwNGYwZjQ5NGIyZmE5MTdkZDUwYWFmNGQ1OGMgPSAkKCc8ZGl2IGlkPSJodG1sXzEyNmI2MDRmMGY0OTRiMmZhOTE3ZGQ1MGFhZjRkNThjIiBzdHlsZT0id2lkdGg6IDEwMC4wJTsgaGVpZ2h0OiAxMDAuMCU7Ij5NYXJrIEEuIENoYXBtYW4gVGhlYXRyZSwgVGhlYXRlcjwvZGl2PicpWzBdOwogICAgICAgICAgICAgICAgcG9wdXBfZGRmOWNkNDMyNTQ5NGNlM2I3NjE0MmU4NTg1ZjQxZDIuc2V0Q29udGVudChodG1sXzEyNmI2MDRmMGY0OTRiMmZhOTE3ZGQ1MGFhZjRkNThjKTsKICAgICAgICAgICAgCgogICAgICAgICAgICBjaXJjbGVfbWFya2VyX2MwOThmODMxYzkwYTQ2MDFhMTNmNGFmMDBlODhjMzZhLmJpbmRQb3B1cChwb3B1cF9kZGY5Y2Q0MzI1NDk0Y2UzYjc2MTQyZTg1ODVmNDFkMik7CgogICAgICAgICAgICAKICAgICAgICAKICAgIAogICAgICAgICAgICB2YXIgY2lyY2xlX21hcmtlcl84ZjJjZTY2ZTE3YWE0YTQ0ODY5MzRmMGQwMmVmMzNhOCA9IEwuY2lyY2xlTWFya2VyKAogICAgICAgICAgICAgICAgWzM5LjE4NzkwNzEyOTY0NzM0LC05Ni41ODAwMjQ2NTk2MzM2NF0sCiAgICAgICAgICAgICAgICB7CiAgImJ1YmJsaW5nTW91c2VFdmVudHMiOiB0cnVlLAogICJjb2xvciI6ICJibHVlIiwKICAiZGFzaEFycmF5IjogbnVsbCwKICAiZGFzaE9mZnNldCI6IG51bGwsCiAgImZpbGwiOiB0cnVlLAogICJmaWxsQ29sb3IiOiAiIzMxODZjYyIsCiAgImZpbGxPcGFjaXR5IjogMC43LAogICJmaWxsUnVsZSI6ICJldmVub2RkIiwKICAibGluZUNhcCI6ICJyb3VuZCIsCiAgImxpbmVKb2luIjogInJvdW5kIiwKICAib3BhY2l0eSI6IDEuMCwKICAicmFkaXVzIjogNSwKICAic3Ryb2tlIjogdHJ1ZSwKICAid2VpZ2h0IjogMwp9CiAgICAgICAgICAgICAgICApLmFkZFRvKG1hcF9iNzc2ZjBlNTA3YmI0NWRkOTYwNDVlYTU0YWM4M2FjMSk7CiAgICAgICAgICAgIAogICAgCiAgICAgICAgICAgIHZhciBwb3B1cF8xM2M3NTc5NWRiZWY0MzBhODM0OTU2YjU0NmUxMDQ5NSA9IEwucG9wdXAoe21heFdpZHRoOiAnMzAwJ30pOwoKICAgICAgICAgICAgCiAgICAgICAgICAgICAgICB2YXIgaHRtbF8zMGM0OGQ4MWUwNTM0NTdlYjg0ODA0ZjM0OGFhNjgyZCA9ICQoJzxkaXYgaWQ9Imh0bWxfMzBjNDhkODFlMDUzNDU3ZWI4NDgwNGYzNDhhYTY4MmQiIHN0eWxlPSJ3aWR0aDogMTAwLjAlOyBoZWlnaHQ6IDEwMC4wJTsiPldvcmxkIFdhciBJSSBNZW1vcmlhbCwgTWVtb3JpYWwgU2l0ZTwvZGl2PicpWzBdOwogICAgICAgICAgICAgICAgcG9wdXBfMTNjNzU3OTVkYmVmNDMwYTgzNDk1NmI1NDZlMTA0OTUuc2V0Q29udGVudChodG1sXzMwYzQ4ZDgxZTA1MzQ1N2ViODQ4MDRmMzQ4YWE2ODJkKTsKICAgICAgICAgICAgCgogICAgICAgICAgICBjaXJjbGVfbWFya2VyXzhmMmNlNjZlMTdhYTRhNDQ4NjkzNGYwZDAyZWYzM2E4LmJpbmRQb3B1cChwb3B1cF8xM2M3NTc5NWRiZWY0MzBhODM0OTU2YjU0NmUxMDQ5NSk7CgogICAgICAgICAgICAKICAgICAgICAKICAgIAogICAgICAgICAgICB2YXIgY2lyY2xlX21hcmtlcl81MmVmYmUyYjZkNTU0MDg4YTlhZmZlN2ZlM2VmMjJlNyA9IEwuY2lyY2xlTWFya2VyKAogICAgICAgICAgICAgICAgWzM5LjE3OTU1OTkyNzU3MTY0LC05Ni41NjIyNTQ3Njk4NTU3XSwKICAgICAgICAgICAgICAgIHsKICAiYnViYmxpbmdNb3VzZUV2ZW50cyI6IHRydWUsCiAgImNvbG9yIjogImJsdWUiLAogICJkYXNoQXJyYXkiOiBudWxsLAogICJkYXNoT2Zmc2V0IjogbnVsbCwKICAiZmlsbCI6IHRydWUsCiAgImZpbGxDb2xvciI6ICIjMzE4NmNjIiwKICAiZmlsbE9wYWNpdHkiOiAwLjcsCiAgImZpbGxSdWxlIjogImV2ZW5vZGQiLAogICJsaW5lQ2FwIjogInJvdW5kIiwKICAibGluZUpvaW4iOiAicm91bmQiLAogICJvcGFjaXR5IjogMS4wLAogICJyYWRpdXMiOiA1LAogICJzdHJva2UiOiB0cnVlLAogICJ3ZWlnaHQiOiAzCn0KICAgICAgICAgICAgICAgICkuYWRkVG8obWFwX2I3NzZmMGU1MDdiYjQ1ZGQ5NjA0NWVhNTRhYzgzYWMxKTsKICAgICAgICAgICAgCiAgICAKICAgICAgICAgICAgdmFyIHBvcHVwXzZhNGRiNmJjNTYyYTRlNjhhNzQ2NDBhMTNiNjVmOWQxID0gTC5wb3B1cCh7bWF4V2lkdGg6ICczMDAnfSk7CgogICAgICAgICAgICAKICAgICAgICAgICAgICAgIHZhciBodG1sX2NiZjY1MGY2YjFlNzQ5N2U4MzA3OWE0NDliOTM3MzdjID0gJCgnPGRpdiBpZD0iaHRtbF9jYmY2NTBmNmIxZTc0OTdlODMwNzlhNDQ5YjkzNzM3YyIgc3R5bGU9IndpZHRoOiAxMDAuMCU7IGhlaWdodDogMTAwLjAlOyI+U3RyZWNrZXItTmVsc29uIEdhbGxlcnksIEFydCBHYWxsZXJ5PC9kaXY+JylbMF07CiAgICAgICAgICAgICAgICBwb3B1cF82YTRkYjZiYzU2MmE0ZTY4YTc0NjQwYTEzYjY1ZjlkMS5zZXRDb250ZW50KGh0bWxfY2JmNjUwZjZiMWU3NDk3ZTgzMDc5YTQ0OWI5MzczN2MpOwogICAgICAgICAgICAKCiAgICAgICAgICAgIGNpcmNsZV9tYXJrZXJfNTJlZmJlMmI2ZDU1NDA4OGE5YWZmZTdmZTNlZjIyZTcuYmluZFBvcHVwKHBvcHVwXzZhNGRiNmJjNTYyYTRlNjhhNzQ2NDBhMTNiNjVmOWQxKTsKCiAgICAgICAgICAgIAogICAgICAgIAogICAgCiAgICAgICAgICAgIHZhciBjaXJjbGVfbWFya2VyX2VhZTU1MmRhOThmMzQyZTM4Zjk3OWNkYWUzMThhMTQ5ID0gTC5jaXJjbGVNYXJrZXIoCiAgICAgICAgICAgICAgICBbMzkuMTg4NDIyMzQ2NTYwMDI0LC05Ni41ODIxNTc1ODU0MTczNV0sCiAgICAgICAgICAgICAgICB7CiAgImJ1YmJsaW5nTW91c2VFdmVudHMiOiB0cnVlLAogICJjb2xvciI6ICJibHVlIiwKICAiZGFzaEFycmF5IjogbnVsbCwKICAiZGFzaE9mZnNldCI6IG51bGwsCiAgImZpbGwiOiB0cnVlLAogICJmaWxsQ29sb3IiOiAiIzMxODZjYyIsCiAgImZpbGxPcGFjaXR5IjogMC43LAogICJmaWxsUnVsZSI6ICJldmVub2RkIiwKICAibGluZUNhcCI6ICJyb3VuZCIsCiAgImxpbmVKb2luIjogInJvdW5kIiwKICAib3BhY2l0eSI6IDEuMCwKICAicmFkaXVzIjogNSwKICAic3Ryb2tlIjogdHJ1ZSwKICAid2VpZ2h0IjogMwp9CiAgICAgICAgICAgICAgICApLmFkZFRvKG1hcF9iNzc2ZjBlNTA3YmI0NWRkOTYwNDVlYTU0YWM4M2FjMSk7CiAgICAgICAgICAgIAogICAgCiAgICAgICAgICAgIHZhciBwb3B1cF8xYzgzMTkzNmYyNDA0ZjNlOGJmN2MwNGUzMGVkMDJmOCA9IEwucG9wdXAoe21heFdpZHRoOiAnMzAwJ30pOwoKICAgICAgICAgICAgCiAgICAgICAgICAgICAgICB2YXIgaHRtbF8wYjE2MjJmYzVjNGE0ZWZkYWJmYWMyNGZiMTZhYTNmZiA9ICQoJzxkaXYgaWQ9Imh0bWxfMGIxNjIyZmM1YzRhNGVmZGFiZmFjMjRmYjE2YWEzZmYiIHN0eWxlPSJ3aWR0aDogMTAwLjAlOyBoZWlnaHQ6IDEwMC4wJTsiPktTVSBMaXR0bGUgVGhlYXRlciwgVGhlYXRlcjwvZGl2PicpWzBdOwogICAgICAgICAgICAgICAgcG9wdXBfMWM4MzE5MzZmMjQwNGYzZThiZjdjMDRlMzBlZDAyZjguc2V0Q29udGVudChodG1sXzBiMTYyMmZjNWM0YTRlZmRhYmZhYzI0ZmIxNmFhM2ZmKTsKICAgICAgICAgICAgCgogICAgICAgICAgICBjaXJjbGVfbWFya2VyX2VhZTU1MmRhOThmMzQyZTM4Zjk3OWNkYWUzMThhMTQ5LmJpbmRQb3B1cChwb3B1cF8xYzgzMTkzNmYyNDA0ZjNlOGJmN2MwNGUzMGVkMDJmOCk7CgogICAgICAgICAgICAKICAgICAgICAKICAgIAogICAgICAgICAgICB2YXIgY2lyY2xlX21hcmtlcl8yYmVjYjY3OWY4MzQ0MzlkYmVhY2Y5NWUyNWE5ZTdmMSA9IEwuY2lyY2xlTWFya2VyKAogICAgICAgICAgICAgICAgWzM5LjE4Nzc3MTM5MTE4OTg3LC05Ni41ODM1OTM0ODgzNzIxOV0sCiAgICAgICAgICAgICAgICB7CiAgImJ1YmJsaW5nTW91c2VFdmVudHMiOiB0cnVlLAogICJjb2xvciI6ICJibHVlIiwKICAiZGFzaEFycmF5IjogbnVsbCwKICAiZGFzaE9mZnNldCI6IG51bGwsCiAgImZpbGwiOiB0cnVlLAogICJmaWxsQ29sb3IiOiAiIzMxODZjYyIsCiAgImZpbGxPcGFjaXR5IjogMC43LAogICJmaWxsUnVsZSI6ICJldmVub2RkIiwKICAibGluZUNhcCI6ICJyb3VuZCIsCiAgImxpbmVKb2luIjogInJvdW5kIiwKICAib3BhY2l0eSI6IDEuMCwKICAicmFkaXVzIjogNSwKICAic3Ryb2tlIjogdHJ1ZSwKICAid2VpZ2h0IjogMwp9CiAgICAgICAgICAgICAgICApLmFkZFRvKG1hcF9iNzc2ZjBlNTA3YmI0NWRkOTYwNDVlYTU0YWM4M2FjMSk7CiAgICAgICAgICAgIAogICAgCiAgICAgICAgICAgIHZhciBwb3B1cF82YmRhYjk5YmJhY2I0Yjg2YTVkNmM3MDBjYWJiZjViMSA9IEwucG9wdXAoe21heFdpZHRoOiAnMzAwJ30pOwoKICAgICAgICAgICAgCiAgICAgICAgICAgICAgICB2YXIgaHRtbF80MTViMGFmNGM2N2Q0ZjA5YTNjZmEyYzM0OTBiNDg1OCA9ICQoJzxkaXYgaWQ9Imh0bWxfNDE1YjBhZjRjNjdkNGYwOWEzY2ZhMmMzNDkwYjQ4NTgiIHN0eWxlPSJ3aWR0aDogMTAwLjAlOyBoZWlnaHQ6IDEwMC4wJTsiPlB1cnBsZSBNYXNxdWUgVGhlYXRlciwgVGhlYXRlcjwvZGl2PicpWzBdOwogICAgICAgICAgICAgICAgcG9wdXBfNmJkYWI5OWJiYWNiNGI4NmE1ZDZjNzAwY2FiYmY1YjEuc2V0Q29udGVudChodG1sXzQxNWIwYWY0YzY3ZDRmMDlhM2NmYTJjMzQ5MGI0ODU4KTsKICAgICAgICAgICAgCgogICAgICAgICAgICBjaXJjbGVfbWFya2VyXzJiZWNiNjc5ZjgzNDQzOWRiZWFjZjk1ZTI1YTllN2YxLmJpbmRQb3B1cChwb3B1cF82YmRhYjk5YmJhY2I0Yjg2YTVkNmM3MDBjYWJiZjViMSk7CgogICAgICAgICAgICAKICAgICAgICAKICAgIAogICAgICAgICAgICB2YXIgY2lyY2xlX21hcmtlcl85OTRlMTQ0NDQ0MDk0ZjA3OTliNGJlOWMyYWI1YTgzZCA9IEwuY2lyY2xlTWFya2VyKAogICAgICAgICAgICAgICAgWzM5LjE5NTI3ODU5NjMzNzk2LC05Ni41ODQ4NDQ1ODkyMzM0XSwKICAgICAgICAgICAgICAgIHsKICAiYnViYmxpbmdNb3VzZUV2ZW50cyI6IHRydWUsCiAgImNvbG9yIjogImJsdWUiLAogICJkYXNoQXJyYXkiOiBudWxsLAogICJkYXNoT2Zmc2V0IjogbnVsbCwKICAiZmlsbCI6IHRydWUsCiAgImZpbGxDb2xvciI6ICIjMzE4NmNjIiwKICAiZmlsbE9wYWNpdHkiOiAwLjcsCiAgImZpbGxSdWxlIjogImV2ZW5vZGQiLAogICJsaW5lQ2FwIjogInJvdW5kIiwKICAibGluZUpvaW4iOiAicm91bmQiLAogICJvcGFjaXR5IjogMS4wLAogICJyYWRpdXMiOiA1LAogICJzdHJva2UiOiB0cnVlLAogICJ3ZWlnaHQiOiAzCn0KICAgICAgICAgICAgICAgICkuYWRkVG8obWFwX2I3NzZmMGU1MDdiYjQ1ZGQ5NjA0NWVhNTRhYzgzYWMxKTsKICAgICAgICAgICAgCiAgICAKICAgICAgICAgICAgdmFyIHBvcHVwX2Q4MmE0NWYwMGUzMDQ4MGJhZjg4ZWU2ZWI2YzM1Yzg5ID0gTC5wb3B1cCh7bWF4V2lkdGg6ICczMDAnfSk7CgogICAgICAgICAgICAKICAgICAgICAgICAgICAgIHZhciBodG1sXzk3ZGFhNWMzY2Y2NTRlNGJiZjdkZWM0M2JmNmFjYjRmID0gJCgnPGRpdiBpZD0iaHRtbF85N2RhYTVjM2NmNjU0ZTRiYmY3ZGVjNDNiZjZhY2I0ZiIgc3R5bGU9IndpZHRoOiAxMDAuMCU7IGhlaWdodDogMTAwLjAlOyI+S1NVIEluc2VjdCBab28sIFNjaWVuY2UgTXVzZXVtPC9kaXY+JylbMF07CiAgICAgICAgICAgICAgICBwb3B1cF9kODJhNDVmMDBlMzA0ODBiYWY4OGVlNmViNmMzNWM4OS5zZXRDb250ZW50KGh0bWxfOTdkYWE1YzNjZjY1NGU0YmJmN2RlYzQzYmY2YWNiNGYpOwogICAgICAgICAgICAKCiAgICAgICAgICAgIGNpcmNsZV9tYXJrZXJfOTk0ZTE0NDQ0NDA5NGYwNzk5YjRiZTljMmFiNWE4M2QuYmluZFBvcHVwKHBvcHVwX2Q4MmE0NWYwMGUzMDQ4MGJhZjg4ZWU2ZWI2YzM1Yzg5KTsKCiAgICAgICAgICAgIAogICAgICAgIAo8L3NjcmlwdD4=\" style=\"position:absolute;width:100%;height:100%;left:0;top:0;border:none !important;\" allowfullscreen webkitallowfullscreen mozallowfullscreen></iframe></div></div>"
      ],
      "text/plain": [
       "<folium.folium.Map at 0x2357c8b0808>"
      ]
     },
     "execution_count": 300,
     "metadata": {},
     "output_type": "execute_result"
    }
   ],
   "source": [
    "# Manhattan, Kansas only locations\n",
    "MK_venues = city_venues[city_venues['City']=='Manhattan, Kansas']\n",
    "\n",
    "# Create map of Manhattan using latitude and longitude values\n",
    "address = 'Manhattan, Kansas'\n",
    "geolocator = Nominatim(user_agent=\"Manhattan_explorer\")\n",
    "location = geolocator.geocode(address)\n",
    "latitude = location.latitude\n",
    "longitude = location.longitude\n",
    "\n",
    "map_Manhattan = folium.Map(location=[latitude, longitude], zoom_start=14)\n",
    "\n",
    "# Add markers to map\n",
    "for lat, lng, city, venue, category in zip(MK_venues['Venue Latitude'], MK_venues['Venue Longitude'], MK_venues['City'], MK_venues['Venue'], MK_venues['Venue Category']):\n",
    "    label = '{}, {}'.format(venue, category)\n",
    "    label = folium.Popup(label, parse_html=True)\n",
    "    folium.CircleMarker(\n",
    "        [lat, lng],\n",
    "        radius=5,\n",
    "        popup=label,\n",
    "        color='blue',\n",
    "        fill=True,\n",
    "        fill_color='#3186cc',\n",
    "        fill_opacity=0.7,\n",
    "        parse_html=False).add_to(map_Manhattan)  \n",
    "    \n",
    "map_Manhattan"
   ]
  },
  {
   "cell_type": "code",
   "execution_count": 301,
   "metadata": {},
   "outputs": [
    {
     "data": {
      "text/html": [
       "<div style=\"width:100%;\"><div style=\"position:relative;width:100%;height:0;padding-bottom:60%;\"><iframe src=\"data:text/html;charset=utf-8;base64,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\" style=\"position:absolute;width:100%;height:100%;left:0;top:0;border:none !important;\" allowfullscreen webkitallowfullscreen mozallowfullscreen></iframe></div></div>"
      ],
      "text/plain": [
       "<folium.folium.Map at 0x2357dc84608>"
      ]
     },
     "execution_count": 301,
     "metadata": {},
     "output_type": "execute_result"
    }
   ],
   "source": [
    "# Madison, Wisconsin only locations\n",
    "MW_venues = city_venues[city_venues['City']=='Madison, Wisconsin']\n",
    "\n",
    "# Create map of Madison using latitude and longitude values\n",
    "address = 'Madison, Wisconsin'\n",
    "geolocator = Nominatim(user_agent=\"Madison_explorer\")\n",
    "location = geolocator.geocode(address)\n",
    "latitude = location.latitude\n",
    "longitude = location.longitude\n",
    "\n",
    "map_Madison = folium.Map(location=[latitude, longitude], zoom_start=14)\n",
    "\n",
    "# Add markers to map\n",
    "for lat, lng, city, venue, category in zip(MW_venues['Venue Latitude'], MW_venues['Venue Longitude'], MW_venues['City'], MW_venues['Venue'], MW_venues['Venue Category']):\n",
    "    label = '{}, {}'.format(venue, category)\n",
    "    label = folium.Popup(label, parse_html=True)\n",
    "    folium.CircleMarker(\n",
    "        [lat, lng],\n",
    "        radius=5,\n",
    "        popup=label,\n",
    "        color='blue',\n",
    "        fill=True,\n",
    "        fill_color='#3186cc',\n",
    "        fill_opacity=0.7,\n",
    "        parse_html=False).add_to(map_Madison)  \n",
    "    \n",
    "map_Madison"
   ]
  },
  {
   "cell_type": "code",
   "execution_count": 302,
   "metadata": {},
   "outputs": [
    {
     "data": {
      "text/html": [
       "<div style=\"width:100%;\"><div style=\"position:relative;width:100%;height:0;padding-bottom:60%;\"><iframe src=\"data:text/html;charset=utf-8;base64,PCFET0NUWVBFIGh0bWw+CjxoZWFkPiAgICAKICAgIDxtZXRhIGh0dHAtZXF1aXY9ImNvbnRlbnQtdHlwZSIgY29udGVudD0idGV4dC9odG1sOyBjaGFyc2V0PVVURi04IiAvPgogICAgPHNjcmlwdD5MX1BSRUZFUl9DQU5WQVMgPSBmYWxzZTsgTF9OT19UT1VDSCA9IGZhbHNlOyBMX0RJU0FCTEVfM0QgPSBmYWxzZTs8L3NjcmlwdD4KICAgIDxzY3JpcHQgc3JjPSJodHRwczovL2Nkbi5qc2RlbGl2ci5uZXQvbnBtL2xlYWZsZXRAMS4yLjAvZGlzdC9sZWFmbGV0LmpzIj48L3NjcmlwdD4KICAgIDxzY3JpcHQgc3JjPSJodHRwczovL2FqYXguZ29vZ2xlYXBpcy5jb20vYWpheC9saWJzL2pxdWVyeS8xLjExLjEvanF1ZXJ5Lm1pbi5qcyI+PC9zY3JpcHQ+CiAgICA8c2NyaXB0IHNyYz0iaHR0cHM6Ly9tYXhjZG4uYm9vdHN0cmFwY2RuLmNvbS9ib290c3RyYXAvMy4yLjAvanMvYm9vdHN0cmFwLm1pbi5qcyI+PC9zY3JpcHQ+CiAgICA8c2NyaXB0IHNyYz0iaHR0cHM6Ly9jZG5qcy5jbG91ZGZsYXJlLmNvbS9hamF4L2xpYnMvTGVhZmxldC5hd2Vzb21lLW1hcmtlcnMvMi4wLjIvbGVhZmxldC5hd2Vzb21lLW1hcmtlcnMuanMiPjwvc2NyaXB0PgogICAgPGxpbmsgcmVsPSJzdHlsZXNoZWV0IiBocmVmPSJodHRwczovL2Nkbi5qc2RlbGl2ci5uZXQvbnBtL2xlYWZsZXRAMS4yLjAvZGlzdC9sZWFmbGV0LmNzcyIvPgogICAgPGxpbmsgcmVsPSJzdHlsZXNoZWV0IiBocmVmPSJodHRwczovL21heGNkbi5ib290c3RyYXBjZG4uY29tL2Jvb3RzdHJhcC8zLjIuMC9jc3MvYm9vdHN0cmFwLm1pbi5jc3MiLz4KICAgIDxsaW5rIHJlbD0ic3R5bGVzaGVldCIgaHJlZj0iaHR0cHM6Ly9tYXhjZG4uYm9vdHN0cmFwY2RuLmNvbS9ib290c3RyYXAvMy4yLjAvY3NzL2Jvb3RzdHJhcC10aGVtZS5taW4uY3NzIi8+CiAgICA8bGluayByZWw9InN0eWxlc2hlZXQiIGhyZWY9Imh0dHBzOi8vbWF4Y2RuLmJvb3RzdHJhcGNkbi5jb20vZm9udC1hd2Vzb21lLzQuNi4zL2Nzcy9mb250LWF3ZXNvbWUubWluLmNzcyIvPgogICAgPGxpbmsgcmVsPSJzdHlsZXNoZWV0IiBocmVmPSJodHRwczovL2NkbmpzLmNsb3VkZmxhcmUuY29tL2FqYXgvbGlicy9MZWFmbGV0LmF3ZXNvbWUtbWFya2Vycy8yLjAuMi9sZWFmbGV0LmF3ZXNvbWUtbWFya2Vycy5jc3MiLz4KICAgIDxsaW5rIHJlbD0ic3R5bGVzaGVldCIgaHJlZj0iaHR0cHM6Ly9yYXdnaXQuY29tL3B5dGhvbi12aXN1YWxpemF0aW9uL2ZvbGl1bS9tYXN0ZXIvZm9saXVtL3RlbXBsYXRlcy9sZWFmbGV0LmF3ZXNvbWUucm90YXRlLmNzcyIvPgogICAgPHN0eWxlPmh0bWwsIGJvZHkge3dpZHRoOiAxMDAlO2hlaWdodDogMTAwJTttYXJnaW46IDA7cGFkZGluZzogMDt9PC9zdHlsZT4KICAgIDxzdHlsZT4jbWFwIHtwb3NpdGlvbjphYnNvbHV0ZTt0b3A6MDtib3R0b206MDtyaWdodDowO2xlZnQ6MDt9PC9zdHlsZT4KICAgIAogICAgICAgICAgICA8c3R5bGU+ICNtYXBfYzYzM2YwMWRiNDc3NDYwYzljMTI3Nzk3NDA2ZTdjZjcgewogICAgICAgICAgICAgICAgcG9zaXRpb24gOiByZWxhdGl2ZTsKICAgICAgICAgICAgICAgIHdpZHRoIDogMTAwLjAlOwogICAgICAgICAgICAgICAgaGVpZ2h0OiAxMDAuMCU7CiAgICAgICAgICAgICAgICBsZWZ0OiAwLjAlOwogICAgICAgICAgICAgICAgdG9wOiAwLjAlOwogICAgICAgICAgICAgICAgfQogICAgICAgICAgICA8L3N0eWxlPgogICAgICAgIAo8L2hlYWQ+Cjxib2R5PiAgICAKICAgIAogICAgICAgICAgICA8ZGl2IGNsYXNzPSJmb2xpdW0tbWFwIiBpZD0ibWFwX2M2MzNmMDFkYjQ3NzQ2MGM5YzEyNzc5NzQwNmU3Y2Y3IiA+PC9kaXY+CiAgICAgICAgCjwvYm9keT4KPHNjcmlwdD4gICAgCiAgICAKCiAgICAgICAgICAgIAogICAgICAgICAgICAgICAgdmFyIGJvdW5kcyA9IG51bGw7CiAgICAgICAgICAgIAoKICAgICAgICAgICAgdmFyIG1hcF9jNjMzZjAxZGI0Nzc0NjBjOWMxMjc3OTc0MDZlN2NmNyA9IEwubWFwKAogICAgICAgICAgICAgICAgICAgICAgICAgICAgICAgICAgJ21hcF9jNjMzZjAxZGI0Nzc0NjBjOWMxMjc3OTc0MDZlN2NmNycsCiAgICAgICAgICAgICAgICAgICAgICAgICAgICAgICAgICB7Y2VudGVyOiBbNDMuNjE2NjE2MywtMTE2LjIwMDg4Nl0sCiAgICAgICAgICAgICAgICAgICAgICAgICAgICAgICAgICB6b29tOiAxNCwKICAgICAgICAgICAgICAgICAgICAgICAgICAgICAgICAgIG1heEJvdW5kczogYm91bmRzLAogICAgICAgICAgICAgICAgICAgICAgICAgICAgICAgICAgbGF5ZXJzOiBbXSwKICAgICAgICAgICAgICAgICAgICAgICAgICAgICAgICAgIHdvcmxkQ29weUp1bXA6IGZhbHNlLAogICAgICAgICAgICAgICAgICAgICAgICAgICAgICAgICAgY3JzOiBMLkNSUy5FUFNHMzg1NwogICAgICAgICAgICAgICAgICAgICAgICAgICAgICAgICB9KTsKICAgICAgICAgICAgCiAgICAgICAgCiAgICAKICAgICAgICAgICAgdmFyIHRpbGVfbGF5ZXJfMDRkN2YwMmM3MjEwNDVmOThlODg4ZGZlM2Y4Mjk4MzIgPSBMLnRpbGVMYXllcigKICAgICAgICAgICAgICAgICdodHRwczovL3tzfS50aWxlLm9wZW5zdHJlZXRtYXAub3JnL3t6fS97eH0ve3l9LnBuZycsCiAgICAgICAgICAgICAgICB7CiAgImF0dHJpYnV0aW9uIjogbnVsbCwKICAiZGV0ZWN0UmV0aW5hIjogZmFsc2UsCiAgIm1heFpvb20iOiAxOCwKICAibWluWm9vbSI6IDEsCiAgIm5vV3JhcCI6IGZhbHNlLAogICJzdWJkb21haW5zIjogImFiYyIKfQogICAgICAgICAgICAgICAgKS5hZGRUbyhtYXBfYzYzM2YwMWRiNDc3NDYwYzljMTI3Nzk3NDA2ZTdjZjcpOwogICAgICAgIAogICAgCiAgICAgICAgICAgIHZhciBjaXJjbGVfbWFya2VyX2ZhYmQ0NTJhZGFmMzQxMTZiZDgxMWIxZWU4NmM0OThhID0gTC5jaXJjbGVNYXJrZXIoCiAgICAgICAgICAgICAgICBbNDMuNjE3MzgxMjI4NzY1NTUsLTExNi4yMDMyNjkzNzQ5NDUzXSwKICAgICAgICAgICAgICAgIHsKICAiYnViYmxpbmdNb3VzZUV2ZW50cyI6IHRydWUsCiAgImNvbG9yIjogImJsdWUiLAogICJkYXNoQXJyYXkiOiBudWxsLAogICJkYXNoT2Zmc2V0IjogbnVsbCwKICAiZmlsbCI6IHRydWUsCiAgImZpbGxDb2xvciI6ICIjMzE4NmNjIiwKICAiZmlsbE9wYWNpdHkiOiAwLjcsCiAgImZpbGxSdWxlIjogImV2ZW5vZGQiLAogICJsaW5lQ2FwIjogInJvdW5kIiwKICAibGluZUpvaW4iOiAicm91bmQiLAogICJvcGFjaXR5IjogMS4wLAogICJyYWRpdXMiOiA1LAogICJzdHJva2UiOiB0cnVlLAogICJ3ZWlnaHQiOiAzCn0KICAgICAgICAgICAgICAgICkuYWRkVG8obWFwX2M2MzNmMDFkYjQ3NzQ2MGM5YzEyNzc5NzQwNmU3Y2Y3KTsKICAgICAgICAgICAgCiAgICAKICAgICAgICAgICAgdmFyIHBvcHVwXzAwZWNkMTZhMzgxMjQxNTJiNTE1MTNkMDI4NjQ4NWIxID0gTC5wb3B1cCh7bWF4V2lkdGg6ICczMDAnfSk7CgogICAgICAgICAgICAKICAgICAgICAgICAgICAgIHZhciBodG1sX2I2ZTA0YjRkMDRjZTQzZDBiNmZhNjRkNzMwN2UwZWMxID0gJCgnPGRpdiBpZD0iaHRtbF9iNmUwNGI0ZDA0Y2U0M2QwYjZmYTY0ZDczMDdlMGVjMSIgc3R5bGU9IndpZHRoOiAxMDAuMCU7IGhlaWdodDogMTAwLjAlOyI+RnJlYWsgQWxsZXksIEFydCBHYWxsZXJ5PC9kaXY+JylbMF07CiAgICAgICAgICAgICAgICBwb3B1cF8wMGVjZDE2YTM4MTI0MTUyYjUxNTEzZDAyODY0ODViMS5zZXRDb250ZW50KGh0bWxfYjZlMDRiNGQwNGNlNDNkMGI2ZmE2NGQ3MzA3ZTBlYzEpOwogICAgICAgICAgICAKCiAgICAgICAgICAgIGNpcmNsZV9tYXJrZXJfZmFiZDQ1MmFkYWYzNDExNmJkODExYjFlZTg2YzQ5OGEuYmluZFBvcHVwKHBvcHVwXzAwZWNkMTZhMzgxMjQxNTJiNTE1MTNkMDI4NjQ4NWIxKTsKCiAgICAgICAgICAgIAogICAgICAgIAogICAgCiAgICAgICAgICAgIHZhciBjaXJjbGVfbWFya2VyXzExN2JjMWVkYTQ5NTQwMDQ4NmU0YjMxMmE4MjI5ZTM0ID0gTC5jaXJjbGVNYXJrZXIoCiAgICAgICAgICAgICAgICBbNDMuNjE1MDkzMjk3MDcxMjMsLTExNi4yMDI2NjM5Njc4MjA3NF0sCiAgICAgICAgICAgICAgICB7CiAgImJ1YmJsaW5nTW91c2VFdmVudHMiOiB0cnVlLAogICJjb2xvciI6ICJibHVlIiwKICAiZGFzaEFycmF5IjogbnVsbCwKICAiZGFzaE9mZnNldCI6IG51bGwsCiAgImZpbGwiOiB0cnVlLAogICJmaWxsQ29sb3IiOiAiIzMxODZjYyIsCiAgImZpbGxPcGFjaXR5IjogMC43LAogICJmaWxsUnVsZSI6ICJldmVub2RkIiwKICAibGluZUNhcCI6ICJyb3VuZCIsCiAgImxpbmVKb2luIjogInJvdW5kIiwKICAib3BhY2l0eSI6IDEuMCwKICAicmFkaXVzIjogNSwKICAic3Ryb2tlIjogdHJ1ZSwKICAid2VpZ2h0IjogMwp9CiAgICAgICAgICAgICAgICApLmFkZFRvKG1hcF9jNjMzZjAxZGI0Nzc0NjBjOWMxMjc3OTc0MDZlN2NmNyk7CiAgICAgICAgICAgIAogICAgCiAgICAgICAgICAgIHZhciBwb3B1cF8zYTlhNTkwYWFmNDQ0NDU0ODQ5OWNkMDE0MDY3ZTE5YyA9IEwucG9wdXAoe21heFdpZHRoOiAnMzAwJ30pOwoKICAgICAgICAgICAgCiAgICAgICAgICAgICAgICB2YXIgaHRtbF8wODE1NDU5M2JjY2U0Mzg3OTQ0M2ExZjZiZmVkNzIzNiA9ICQoJzxkaXYgaWQ9Imh0bWxfMDgxNTQ1OTNiY2NlNDM4Nzk0NDNhMWY2YmZlZDcyMzYiIHN0eWxlPSJ3aWR0aDogMTAwLjAlOyBoZWlnaHQ6IDEwMC4wJTsiPkVneXB0aWFuIFRoZWF0cmUsIE1vdmllIFRoZWF0ZXI8L2Rpdj4nKVswXTsKICAgICAgICAgICAgICAgIHBvcHVwXzNhOWE1OTBhYWY0NDQ0NTQ4NDk5Y2QwMTQwNjdlMTljLnNldENvbnRlbnQoaHRtbF8wODE1NDU5M2JjY2U0Mzg3OTQ0M2ExZjZiZmVkNzIzNik7CiAgICAgICAgICAgIAoKICAgICAgICAgICAgY2lyY2xlX21hcmtlcl8xMTdiYzFlZGE0OTU0MDA0ODZlNGIzMTJhODIyOWUzNC5iaW5kUG9wdXAocG9wdXBfM2E5YTU5MGFhZjQ0NDQ1NDg0OTljZDAxNDA2N2UxOWMpOwoKICAgICAgICAgICAgCiAgICAgICAgCiAgICAKICAgICAgICAgICAgdmFyIGNpcmNsZV9tYXJrZXJfMmM3OWM0MWM3NmY0NGJiOGIxNGRjN2YxMzYwZjFkMzcgPSBMLmNpcmNsZU1hcmtlcigKICAgICAgICAgICAgICAgIFs0My42MTEyMTQyNTg2NzQxNiwtMTE2LjIwNDgwMjc4OTgyODcyXSwKICAgICAgICAgICAgICAgIHsKICAiYnViYmxpbmdNb3VzZUV2ZW50cyI6IHRydWUsCiAgImNvbG9yIjogImJsdWUiLAogICJkYXNoQXJyYXkiOiBudWxsLAogICJkYXNoT2Zmc2V0IjogbnVsbCwKICAiZmlsbCI6IHRydWUsCiAgImZpbGxDb2xvciI6ICIjMzE4NmNjIiwKICAiZmlsbE9wYWNpdHkiOiAwLjcsCiAgImZpbGxSdWxlIjogImV2ZW5vZGQiLAogICJsaW5lQ2FwIjogInJvdW5kIiwKICAibGluZUpvaW4iOiAicm91bmQiLAogICJvcGFjaXR5IjogMS4wLAogICJyYWRpdXMiOiA1LAogICJzdHJva2UiOiB0cnVlLAogICJ3ZWlnaHQiOiAzCn0KICAgICAgICAgICAgICAgICkuYWRkVG8obWFwX2M2MzNmMDFkYjQ3NzQ2MGM5YzEyNzc5NzQwNmU3Y2Y3KTsKICAgICAgICAgICAgCiAgICAKICAgICAgICAgICAgdmFyIHBvcHVwX2I4N2ZlZDFkNWUyMjRlZGM5NzExNDY0OWQyNGNlMTRmID0gTC5wb3B1cCh7bWF4V2lkdGg6ICczMDAnfSk7CgogICAgICAgICAgICAKICAgICAgICAgICAgICAgIHZhciBodG1sX2U2M2Y1MGY2MGE4YjQ1M2FiZDUwMWUwMzA0Njk4YTk2ID0gJCgnPGRpdiBpZD0iaHRtbF9lNjNmNTBmNjBhOGI0NTNhYmQ1MDFlMDMwNDY5OGE5NiIgc3R5bGU9IndpZHRoOiAxMDAuMCU7IGhlaWdodDogMTAwLjAlOyI+VGhlIEZsaWNrcywgTW92aWUgVGhlYXRlcjwvZGl2PicpWzBdOwogICAgICAgICAgICAgICAgcG9wdXBfYjg3ZmVkMWQ1ZTIyNGVkYzk3MTE0NjQ5ZDI0Y2UxNGYuc2V0Q29udGVudChodG1sX2U2M2Y1MGY2MGE4YjQ1M2FiZDUwMWUwMzA0Njk4YTk2KTsKICAgICAgICAgICAgCgogICAgICAgICAgICBjaXJjbGVfbWFya2VyXzJjNzljNDFjNzZmNDRiYjhiMTRkYzdmMTM2MGYxZDM3LmJpbmRQb3B1cChwb3B1cF9iODdmZWQxZDVlMjI0ZWRjOTcxMTQ2NDlkMjRjZTE0Zik7CgogICAgICAgICAgICAKICAgICAgICAKICAgIAogICAgICAgICAgICB2YXIgY2lyY2xlX21hcmtlcl9jNDQzZmYwYjNjMWE0YzE5YjdlNTgyMGE2OTAyMGFlYyA9IEwuY2lyY2xlTWFya2VyKAogICAgICAgICAgICAgICAgWzQzLjYwODU3NzgxODY2MDY4NCwtMTE2LjE5OTE2MTM0Mzg4MDJdLAogICAgICAgICAgICAgICAgewogICJidWJibGluZ01vdXNlRXZlbnRzIjogdHJ1ZSwKICAiY29sb3IiOiAiYmx1ZSIsCiAgImRhc2hBcnJheSI6IG51bGwsCiAgImRhc2hPZmZzZXQiOiBudWxsLAogICJmaWxsIjogdHJ1ZSwKICAiZmlsbENvbG9yIjogIiMzMTg2Y2MiLAogICJmaWxsT3BhY2l0eSI6IDAuNywKICAiZmlsbFJ1bGUiOiAiZXZlbm9kZCIsCiAgImxpbmVDYXAiOiAicm91bmQiLAogICJsaW5lSm9pbiI6ICJyb3VuZCIsCiAgIm9wYWNpdHkiOiAxLjAsCiAgInJhZGl1cyI6IDUsCiAgInN0cm9rZSI6IHRydWUsCiAgIndlaWdodCI6IDMKfQogICAgICAgICAgICAgICAgKS5hZGRUbyhtYXBfYzYzM2YwMWRiNDc3NDYwYzljMTI3Nzk3NDA2ZTdjZjcpOwogICAgICAgICAgICAKICAgIAogICAgICAgICAgICB2YXIgcG9wdXBfNmNlNjc0M2ZkMWRhNDZhY2I3OTZkOWUwZjFlZGRjOTkgPSBMLnBvcHVwKHttYXhXaWR0aDogJzMwMCd9KTsKCiAgICAgICAgICAgIAogICAgICAgICAgICAgICAgdmFyIGh0bWxfMTgzOGI1YzBlNTllNDczMWJhZWZlNWZhZTNlNTQ2NmQgPSAkKCc8ZGl2IGlkPSJodG1sXzE4MzhiNWMwZTU5ZTQ3MzFiYWVmZTVmYWUzZTU0NjZkIiBzdHlsZT0id2lkdGg6IDEwMC4wJTsgaGVpZ2h0OiAxMDAuMCU7Ij5EaXNjb3ZlcnkgQ2VudGVyIG9mIElkYWhvLCBTY2llbmNlIE11c2V1bTwvZGl2PicpWzBdOwogICAgICAgICAgICAgICAgcG9wdXBfNmNlNjc0M2ZkMWRhNDZhY2I3OTZkOWUwZjFlZGRjOTkuc2V0Q29udGVudChodG1sXzE4MzhiNWMwZTU5ZTQ3MzFiYWVmZTVmYWUzZTU0NjZkKTsKICAgICAgICAgICAgCgogICAgICAgICAgICBjaXJjbGVfbWFya2VyX2M0NDNmZjBiM2MxYTRjMTliN2U1ODIwYTY5MDIwYWVjLmJpbmRQb3B1cChwb3B1cF82Y2U2NzQzZmQxZGE0NmFjYjc5NmQ5ZTBmMWVkZGM5OSk7CgogICAgICAgICAgICAKICAgICAgICAKICAgIAogICAgICAgICAgICB2YXIgY2lyY2xlX21hcmtlcl82MDMwOGViNTVlMjE0MWFlYmEwMTFmYWNmZWI4YzU5YiA9IEwuY2lyY2xlTWFya2VyKAogICAgICAgICAgICAgICAgWzQzLjYxMzM0NzcxOTI5NDQ4LC0xMTYuMjA2NDI3MzU2Mzg0NDJdLAogICAgICAgICAgICAgICAgewogICJidWJibGluZ01vdXNlRXZlbnRzIjogdHJ1ZSwKICAiY29sb3IiOiAiYmx1ZSIsCiAgImRhc2hBcnJheSI6IG51bGwsCiAgImRhc2hPZmZzZXQiOiBudWxsLAogICJmaWxsIjogdHJ1ZSwKICAiZmlsbENvbG9yIjogIiMzMTg2Y2MiLAogICJmaWxsT3BhY2l0eSI6IDAuNywKICAiZmlsbFJ1bGUiOiAiZXZlbm9kZCIsCiAgImxpbmVDYXAiOiAicm91bmQiLAogICJsaW5lSm9pbiI6ICJyb3VuZCIsCiAgIm9wYWNpdHkiOiAxLjAsCiAgInJhZGl1cyI6IDUsCiAgInN0cm9rZSI6IHRydWUsCiAgIndlaWdodCI6IDMKfQogICAgICAgICAgICAgICAgKS5hZGRUbyhtYXBfYzYzM2YwMWRiNDc3NDYwYzljMTI3Nzk3NDA2ZTdjZjcpOwogICAgICAgICAgICAKICAgIAogICAgICAgICAgICB2YXIgcG9wdXBfMTJjMTAxODQ0YjJmNGFlMGJlNzEyN2IzNjYwNTBjMGMgPSBMLnBvcHVwKHttYXhXaWR0aDogJzMwMCd9KTsKCiAgICAgICAgICAgIAogICAgICAgICAgICAgICAgdmFyIGh0bWxfNTQzM2JkMzQ4MGVhNDI4OWI1ODIwNzk0NTgxNzY1YWEgPSAkKCc8ZGl2IGlkPSJodG1sXzU0MzNiZDM0ODBlYTQyODliNTgyMDc5NDU4MTc2NWFhIiBzdHlsZT0id2lkdGg6IDEwMC4wJTsgaGVpZ2h0OiAxMDAuMCU7Ij5MaXF1aWQgTGF1Z2hzLCBDb21lZHkgQ2x1YjwvZGl2PicpWzBdOwogICAgICAgICAgICAgICAgcG9wdXBfMTJjMTAxODQ0YjJmNGFlMGJlNzEyN2IzNjYwNTBjMGMuc2V0Q29udGVudChodG1sXzU0MzNiZDM0ODBlYTQyODliNTgyMDc5NDU4MTc2NWFhKTsKICAgICAgICAgICAgCgogICAgICAgICAgICBjaXJjbGVfbWFya2VyXzYwMzA4ZWI1NWUyMTQxYWViYTAxMWZhY2ZlYjhjNTliLmJpbmRQb3B1cChwb3B1cF8xMmMxMDE4NDRiMmY0YWUwYmU3MTI3YjM2NjA1MGMwYyk7CgogICAgICAgICAgICAKICAgICAgICAKICAgIAogICAgICAgICAgICB2YXIgY2lyY2xlX21hcmtlcl80MDZhMTM0M2ViYTU0NjBiYjc2ZjVkOTU3ZmQxYjA4OCA9IEwuY2lyY2xlTWFya2VyKAogICAgICAgICAgICAgICAgWzQzLjYxNDIzOTgxNzc2NSwtMTE2LjIwODAxNjI2MTE0Ml0sCiAgICAgICAgICAgICAgICB7CiAgImJ1YmJsaW5nTW91c2VFdmVudHMiOiB0cnVlLAogICJjb2xvciI6ICJibHVlIiwKICAiZGFzaEFycmF5IjogbnVsbCwKICAiZGFzaE9mZnNldCI6IG51bGwsCiAgImZpbGwiOiB0cnVlLAogICJmaWxsQ29sb3IiOiAiIzMxODZjYyIsCiAgImZpbGxPcGFjaXR5IjogMC43LAogICJmaWxsUnVsZSI6ICJldmVub2RkIiwKICAibGluZUNhcCI6ICJyb3VuZCIsCiAgImxpbmVKb2luIjogInJvdW5kIiwKICAib3BhY2l0eSI6IDEuMCwKICAicmFkaXVzIjogNSwKICAic3Ryb2tlIjogdHJ1ZSwKICAid2VpZ2h0IjogMwp9CiAgICAgICAgICAgICAgICApLmFkZFRvKG1hcF9jNjMzZjAxZGI0Nzc0NjBjOWMxMjc3OTc0MDZlN2NmNyk7CiAgICAgICAgICAgIAogICAgCiAgICAgICAgICAgIHZhciBwb3B1cF9mNTM0NGVjNmEyMDY0NGRiYThmYTVhYTFjNzFmY2FiOSA9IEwucG9wdXAoe21heFdpZHRoOiAnMzAwJ30pOwoKICAgICAgICAgICAgCiAgICAgICAgICAgICAgICB2YXIgaHRtbF80Mjk4OGNhZDJhNGE0MTY4OGNhYmM4NTZmNzhhYzZlZSA9ICQoJzxkaXYgaWQ9Imh0bWxfNDI5ODhjYWQyYTRhNDE2ODhjYWJjODU2Zjc4YWM2ZWUiIHN0eWxlPSJ3aWR0aDogMTAwLjAlOyBoZWlnaHQ6IDEwMC4wJTsiPkpVTVAsIFB1YmxpYyBBcnQ8L2Rpdj4nKVswXTsKICAgICAgICAgICAgICAgIHBvcHVwX2Y1MzQ0ZWM2YTIwNjQ0ZGJhOGZhNWFhMWM3MWZjYWI5LnNldENvbnRlbnQoaHRtbF80Mjk4OGNhZDJhNGE0MTY4OGNhYmM4NTZmNzhhYzZlZSk7CiAgICAgICAgICAgIAoKICAgICAgICAgICAgY2lyY2xlX21hcmtlcl80MDZhMTM0M2ViYTU0NjBiYjc2ZjVkOTU3ZmQxYjA4OC5iaW5kUG9wdXAocG9wdXBfZjUzNDRlYzZhMjA2NDRkYmE4ZmE1YWExYzcxZmNhYjkpOwoKICAgICAgICAgICAgCiAgICAgICAgCiAgICAKICAgICAgICAgICAgdmFyIGNpcmNsZV9tYXJrZXJfNWY3NDQxNGFkYmQ1NDE5ZjkxN2Q0NjI0ZmYwMGI2MDYgPSBMLmNpcmNsZU1hcmtlcigKICAgICAgICAgICAgICAgIFs0My42MDY5NjkyOTM0OTUzNCwtMTE2LjIwNzQ5NDEzOTY3MTMzXSwKICAgICAgICAgICAgICAgIHsKICAiYnViYmxpbmdNb3VzZUV2ZW50cyI6IHRydWUsCiAgImNvbG9yIjogImJsdWUiLAogICJkYXNoQXJyYXkiOiBudWxsLAogICJkYXNoT2Zmc2V0IjogbnVsbCwKICAiZmlsbCI6IHRydWUsCiAgImZpbGxDb2xvciI6ICIjMzE4NmNjIiwKICAiZmlsbE9wYWNpdHkiOiAwLjcsCiAgImZpbGxSdWxlIjogImV2ZW5vZGQiLAogICJsaW5lQ2FwIjogInJvdW5kIiwKICAibGluZUpvaW4iOiAicm91bmQiLAogICJvcGFjaXR5IjogMS4wLAogICJyYWRpdXMiOiA1LAogICJzdHJva2UiOiB0cnVlLAogICJ3ZWlnaHQiOiAzCn0KICAgICAgICAgICAgICAgICkuYWRkVG8obWFwX2M2MzNmMDFkYjQ3NzQ2MGM5YzEyNzc5NzQwNmU3Y2Y3KTsKICAgICAgICAgICAgCiAgICAKICAgICAgICAgICAgdmFyIHBvcHVwX2Q3NTBhNjc4MTRjYTQ5OTA4ZGViZjNjMGUyZDk5NDVmID0gTC5wb3B1cCh7bWF4V2lkdGg6ICczMDAnfSk7CgogICAgICAgICAgICAKICAgICAgICAgICAgICAgIHZhciBodG1sXzFjMTliNDdiZTRiZjQ4OTY5ZmYwMmJhMDg5YjM4ZTIxID0gJCgnPGRpdiBpZD0iaHRtbF8xYzE5YjQ3YmU0YmY0ODk2OWZmMDJiYTA4OWIzOGUyMSIgc3R5bGU9IndpZHRoOiAxMDAuMCU7IGhlaWdodDogMTAwLjAlOyI+TW9ycmlzb24gQ2VudGVyIEZvciBUaGUgUGVyZm9ybWluZyBBcnRzLCBQZXJmb3JtaW5nIEFydHMgVmVudWU8L2Rpdj4nKVswXTsKICAgICAgICAgICAgICAgIHBvcHVwX2Q3NTBhNjc4MTRjYTQ5OTA4ZGViZjNjMGUyZDk5NDVmLnNldENvbnRlbnQoaHRtbF8xYzE5YjQ3YmU0YmY0ODk2OWZmMDJiYTA4OWIzOGUyMSk7CiAgICAgICAgICAgIAoKICAgICAgICAgICAgY2lyY2xlX21hcmtlcl81Zjc0NDE0YWRiZDU0MTlmOTE3ZDQ2MjRmZjAwYjYwNi5iaW5kUG9wdXAocG9wdXBfZDc1MGE2NzgxNGNhNDk5MDhkZWJmM2MwZTJkOTk0NWYpOwoKICAgICAgICAgICAgCiAgICAgICAgCiAgICAKICAgICAgICAgICAgdmFyIGNpcmNsZV9tYXJrZXJfNjQxNWJjNWFmMWFiNGZkM2ExNDNlNzY5ZTFjZTljNGEgPSBMLmNpcmNsZU1hcmtlcigKICAgICAgICAgICAgICAgIFs0My42MDk4MzA4NzQwNzMyNzUsLTExNi4yMDg2MzQzMTk3MTAyNl0sCiAgICAgICAgICAgICAgICB7CiAgImJ1YmJsaW5nTW91c2VFdmVudHMiOiB0cnVlLAogICJjb2xvciI6ICJibHVlIiwKICAiZGFzaEFycmF5IjogbnVsbCwKICAiZGFzaE9mZnNldCI6IG51bGwsCiAgImZpbGwiOiB0cnVlLAogICJmaWxsQ29sb3IiOiAiIzMxODZjYyIsCiAgImZpbGxPcGFjaXR5IjogMC43LAogICJmaWxsUnVsZSI6ICJldmVub2RkIiwKICAibGluZUNhcCI6ICJyb3VuZCIsCiAgImxpbmVKb2luIjogInJvdW5kIiwKICAib3BhY2l0eSI6IDEuMCwKICAicmFkaXVzIjogNSwKICAic3Ryb2tlIjogdHJ1ZSwKICAid2VpZ2h0IjogMwp9CiAgICAgICAgICAgICAgICApLmFkZFRvKG1hcF9jNjMzZjAxZGI0Nzc0NjBjOWMxMjc3OTc0MDZlN2NmNyk7CiAgICAgICAgICAgIAogICAgCiAgICAgICAgICAgIHZhciBwb3B1cF9lYzhjMDdmZjZjYTk0MTc5OTMyNzliYjYxZDhjYTk3YSA9IEwucG9wdXAoe21heFdpZHRoOiAnMzAwJ30pOwoKICAgICAgICAgICAgCiAgICAgICAgICAgICAgICB2YXIgaHRtbF9jYmI4YzQ2MzFkZTM0OTZkOTk1YzIzMGQwYTRmNjYwYSA9ICQoJzxkaXYgaWQ9Imh0bWxfY2JiOGM0NjMxZGUzNDk2ZDk5NWMyMzBkMGE0ZjY2MGEiIHN0eWxlPSJ3aWR0aDogMTAwLjAlOyBoZWlnaHQ6IDEwMC4wJTsiPkFubmUgRnJhbmsgSHVtYW4gUmlnaHRzIE1lbW9yaWFsLCBIaXN0b3J5IE11c2V1bTwvZGl2PicpWzBdOwogICAgICAgICAgICAgICAgcG9wdXBfZWM4YzA3ZmY2Y2E5NDE3OTkzMjc5YmI2MWQ4Y2E5N2Euc2V0Q29udGVudChodG1sX2NiYjhjNDYzMWRlMzQ5NmQ5OTVjMjMwZDBhNGY2NjBhKTsKICAgICAgICAgICAgCgogICAgICAgICAgICBjaXJjbGVfbWFya2VyXzY0MTViYzVhZjFhYjRmZDNhMTQzZTc2OWUxY2U5YzRhLmJpbmRQb3B1cChwb3B1cF9lYzhjMDdmZjZjYTk0MTc5OTMyNzliYjYxZDhjYTk3YSk7CgogICAgICAgICAgICAKICAgICAgICAKICAgIAogICAgICAgICAgICB2YXIgY2lyY2xlX21hcmtlcl85OGI0MzRjMWY4OTc0OTkwYWQ0ODE2NjRhYjFlZjBmYiA9IEwuY2lyY2xlTWFya2VyKAogICAgICAgICAgICAgICAgWzQzLjYxMTM2OSwtMTE2LjIwMzYxM10sCiAgICAgICAgICAgICAgICB7CiAgImJ1YmJsaW5nTW91c2VFdmVudHMiOiB0cnVlLAogICJjb2xvciI6ICJibHVlIiwKICAiZGFzaEFycmF5IjogbnVsbCwKICAiZGFzaE9mZnNldCI6IG51bGwsCiAgImZpbGwiOiB0cnVlLAogICJmaWxsQ29sb3IiOiAiIzMxODZjYyIsCiAgImZpbGxPcGFjaXR5IjogMC43LAogICJmaWxsUnVsZSI6ICJldmVub2RkIiwKICAibGluZUNhcCI6ICJyb3VuZCIsCiAgImxpbmVKb2luIjogInJvdW5kIiwKICAib3BhY2l0eSI6IDEuMCwKICAicmFkaXVzIjogNSwKICAic3Ryb2tlIjogdHJ1ZSwKICAid2VpZ2h0IjogMwp9CiAgICAgICAgICAgICAgICApLmFkZFRvKG1hcF9jNjMzZjAxZGI0Nzc0NjBjOWMxMjc3OTc0MDZlN2NmNyk7CiAgICAgICAgICAgIAogICAgCiAgICAgICAgICAgIHZhciBwb3B1cF9jNzMzMWJiNTljOGE0ZTkyYjBiYWUyNzk4ODE0YTEzYyA9IEwucG9wdXAoe21heFdpZHRoOiAnMzAwJ30pOwoKICAgICAgICAgICAgCiAgICAgICAgICAgICAgICB2YXIgaHRtbF8zNmI3MTEwYTVhNmY0OTA4OWQ3YjE2OWUyZDY2NWUyZiA9ICQoJzxkaXYgaWQ9Imh0bWxfMzZiNzExMGE1YTZmNDkwODlkN2IxNjllMmQ2NjVlMmYiIHN0eWxlPSJ3aWR0aDogMTAwLjAlOyBoZWlnaHQ6IDEwMC4wJTsiPkJvaXNlIEFydCBHbGFzcywgQXJ0IEdhbGxlcnk8L2Rpdj4nKVswXTsKICAgICAgICAgICAgICAgIHBvcHVwX2M3MzMxYmI1OWM4YTRlOTJiMGJhZTI3OTg4MTRhMTNjLnNldENvbnRlbnQoaHRtbF8zNmI3MTEwYTVhNmY0OTA4OWQ3YjE2OWUyZDY2NWUyZik7CiAgICAgICAgICAgIAoKICAgICAgICAgICAgY2lyY2xlX21hcmtlcl85OGI0MzRjMWY4OTc0OTkwYWQ0ODE2NjRhYjFlZjBmYi5iaW5kUG9wdXAocG9wdXBfYzczMzFiYjU5YzhhNGU5MmIwYmFlMjc5ODgxNGExM2MpOwoKICAgICAgICAgICAgCiAgICAgICAgCiAgICAKICAgICAgICAgICAgdmFyIGNpcmNsZV9tYXJrZXJfYWZkZTdiMDRiMmVkNDdjNDhlMzliNTI0NmE0NjBjODggPSBMLmNpcmNsZU1hcmtlcigKICAgICAgICAgICAgICAgIFs0My42MTMyMDMzMTI3NzY4MjUsLTExNi4yMDY2NjE5NjY5Mjc1MV0sCiAgICAgICAgICAgICAgICB7CiAgImJ1YmJsaW5nTW91c2VFdmVudHMiOiB0cnVlLAogICJjb2xvciI6ICJibHVlIiwKICAiZGFzaEFycmF5IjogbnVsbCwKICAiZGFzaE9mZnNldCI6IG51bGwsCiAgImZpbGwiOiB0cnVlLAogICJmaWxsQ29sb3IiOiAiIzMxODZjYyIsCiAgImZpbGxPcGFjaXR5IjogMC43LAogICJmaWxsUnVsZSI6ICJldmVub2RkIiwKICAibGluZUNhcCI6ICJyb3VuZCIsCiAgImxpbmVKb2luIjogInJvdW5kIiwKICAib3BhY2l0eSI6IDEuMCwKICAicmFkaXVzIjogNSwKICAic3Ryb2tlIjogdHJ1ZSwKICAid2VpZ2h0IjogMwp9CiAgICAgICAgICAgICAgICApLmFkZFRvKG1hcF9jNjMzZjAxZGI0Nzc0NjBjOWMxMjc3OTc0MDZlN2NmNyk7CiAgICAgICAgICAgIAogICAgCiAgICAgICAgICAgIHZhciBwb3B1cF8xYWQyZGQyZDIwNjI0NzBjOWU2ZTJjMzcyNGIxYWNjNyA9IEwucG9wdXAoe21heFdpZHRoOiAnMzAwJ30pOwoKICAgICAgICAgICAgCiAgICAgICAgICAgICAgICB2YXIgaHRtbF9jMGViNGQ4OTZiZmE0OTNhOWE3ZWUxMmI5OGMxMmQ0MSA9ICQoJzxkaXYgaWQ9Imh0bWxfYzBlYjRkODk2YmZhNDkzYTlhN2VlMTJiOThjMTJkNDEiIHN0eWxlPSJ3aWR0aDogMTAwLjAlOyBoZWlnaHQ6IDEwMC4wJTsiPktuaXR0aW5nIEZhY3RvcnkgQ29uY2VydCBIb3VzZSwgQ29uY2VydCBIYWxsPC9kaXY+JylbMF07CiAgICAgICAgICAgICAgICBwb3B1cF8xYWQyZGQyZDIwNjI0NzBjOWU2ZTJjMzcyNGIxYWNjNy5zZXRDb250ZW50KGh0bWxfYzBlYjRkODk2YmZhNDkzYTlhN2VlMTJiOThjMTJkNDEpOwogICAgICAgICAgICAKCiAgICAgICAgICAgIGNpcmNsZV9tYXJrZXJfYWZkZTdiMDRiMmVkNDdjNDhlMzliNTI0NmE0NjBjODguYmluZFBvcHVwKHBvcHVwXzFhZDJkZDJkMjA2MjQ3MGM5ZTZlMmMzNzI0YjFhY2M3KTsKCiAgICAgICAgICAgIAogICAgICAgIAogICAgCiAgICAgICAgICAgIHZhciBjaXJjbGVfbWFya2VyX2E1MjNhNjZhYmRjYjQzZTk5ZTdmZWI1YmM2NDk0ZmQxID0gTC5jaXJjbGVNYXJrZXIoCiAgICAgICAgICAgICAgICBbNDMuNjEzMjE5LC0xMTYuMjA1MDgyXSwKICAgICAgICAgICAgICAgIHsKICAiYnViYmxpbmdNb3VzZUV2ZW50cyI6IHRydWUsCiAgImNvbG9yIjogImJsdWUiLAogICJkYXNoQXJyYXkiOiBudWxsLAogICJkYXNoT2Zmc2V0IjogbnVsbCwKICAiZmlsbCI6IHRydWUsCiAgImZpbGxDb2xvciI6ICIjMzE4NmNjIiwKICAiZmlsbE9wYWNpdHkiOiAwLjcsCiAgImZpbGxSdWxlIjogImV2ZW5vZGQiLAogICJsaW5lQ2FwIjogInJvdW5kIiwKICAibGluZUpvaW4iOiAicm91bmQiLAogICJvcGFjaXR5IjogMS4wLAogICJyYWRpdXMiOiA1LAogICJzdHJva2UiOiB0cnVlLAogICJ3ZWlnaHQiOiAzCn0KICAgICAgICAgICAgICAgICkuYWRkVG8obWFwX2M2MzNmMDFkYjQ3NzQ2MGM5YzEyNzc5NzQwNmU3Y2Y3KTsKICAgICAgICAgICAgCiAgICAKICAgICAgICAgICAgdmFyIHBvcHVwXzY2MWQ2YjY1Yzk1NjQ1OTA4MWQ5OTgwNTFmY2FhYjc2ID0gTC5wb3B1cCh7bWF4V2lkdGg6ICczMDAnfSk7CgogICAgICAgICAgICAKICAgICAgICAgICAgICAgIHZhciBodG1sXzM5OTkwMTgwMTcxNDQxNGI4Y2U5NjgxOTBjZWI4MzA4ID0gJCgnPGRpdiBpZD0iaHRtbF8zOTk5MDE4MDE3MTQ0MTRiOGNlOTY4MTkwY2ViODMwOCIgc3R5bGU9IndpZHRoOiAxMDAuMCU7IGhlaWdodDogMTAwLjAlOyI+UmVnYWwgRWR3YXJkcyBCb2lzZSBEb3dudG93biwgTW92aWUgVGhlYXRlcjwvZGl2PicpWzBdOwogICAgICAgICAgICAgICAgcG9wdXBfNjYxZDZiNjVjOTU2NDU5MDgxZDk5ODA1MWZjYWFiNzYuc2V0Q29udGVudChodG1sXzM5OTkwMTgwMTcxNDQxNGI4Y2U5NjgxOTBjZWI4MzA4KTsKICAgICAgICAgICAgCgogICAgICAgICAgICBjaXJjbGVfbWFya2VyX2E1MjNhNjZhYmRjYjQzZTk5ZTdmZWI1YmM2NDk0ZmQxLmJpbmRQb3B1cChwb3B1cF82NjFkNmI2NWM5NTY0NTkwODFkOTk4MDUxZmNhYWI3Nik7CgogICAgICAgICAgICAKICAgICAgICAKICAgIAogICAgICAgICAgICB2YXIgY2lyY2xlX21hcmtlcl9kZDJjYmMwMjk4ZDc0MjE2OWE4MTg0YjZhMTM2YmI1OCA9IEwuY2lyY2xlTWFya2VyKAogICAgICAgICAgICAgICAgWzQzLjYxMjM3MTMyMzg3NTYsLTExNi4yMDc3Nzc5NzI1NjEyM10sCiAgICAgICAgICAgICAgICB7CiAgImJ1YmJsaW5nTW91c2VFdmVudHMiOiB0cnVlLAogICJjb2xvciI6ICJibHVlIiwKICAiZGFzaEFycmF5IjogbnVsbCwKICAiZGFzaE9mZnNldCI6IG51bGwsCiAgImZpbGwiOiB0cnVlLAogICJmaWxsQ29sb3IiOiAiIzMxODZjYyIsCiAgImZpbGxPcGFjaXR5IjogMC43LAogICJmaWxsUnVsZSI6ICJldmVub2RkIiwKICAibGluZUNhcCI6ICJyb3VuZCIsCiAgImxpbmVKb2luIjogInJvdW5kIiwKICAib3BhY2l0eSI6IDEuMCwKICAicmFkaXVzIjogNSwKICAic3Ryb2tlIjogdHJ1ZSwKICAid2VpZ2h0IjogMwp9CiAgICAgICAgICAgICAgICApLmFkZFRvKG1hcF9jNjMzZjAxZGI0Nzc0NjBjOWMxMjc3OTc0MDZlN2NmNyk7CiAgICAgICAgICAgIAogICAgCiAgICAgICAgICAgIHZhciBwb3B1cF82MjIxYTljM2MzNGI0YjJiYjI0OTIzZjY4NDMzMjNmMSA9IEwucG9wdXAoe21heFdpZHRoOiAnMzAwJ30pOwoKICAgICAgICAgICAgCiAgICAgICAgICAgICAgICB2YXIgaHRtbF85N2IxNTc2OThkMmY0YjRlOTRjYjk1Mjk4NGNjOWMzMiA9ICQoJzxkaXYgaWQ9Imh0bWxfOTdiMTU3Njk4ZDJmNGI0ZTk0Y2I5NTI5ODRjYzljMzIiIHN0eWxlPSJ3aWR0aDogMTAwLjAlOyBoZWlnaHQ6IDEwMC4wJTsiPkJvaXNlIENvbnRlbXBvcmFyeSBUaGVhdGVyLCBUaGVhdGVyPC9kaXY+JylbMF07CiAgICAgICAgICAgICAgICBwb3B1cF82MjIxYTljM2MzNGI0YjJiYjI0OTIzZjY4NDMzMjNmMS5zZXRDb250ZW50KGh0bWxfOTdiMTU3Njk4ZDJmNGI0ZTk0Y2I5NTI5ODRjYzljMzIpOwogICAgICAgICAgICAKCiAgICAgICAgICAgIGNpcmNsZV9tYXJrZXJfZGQyY2JjMDI5OGQ3NDIxNjlhODE4NGI2YTEzNmJiNTguYmluZFBvcHVwKHBvcHVwXzYyMjFhOWMzYzM0YjRiMmJiMjQ5MjNmNjg0MzMyM2YxKTsKCiAgICAgICAgICAgIAogICAgICAgIAogICAgCiAgICAgICAgICAgIHZhciBjaXJjbGVfbWFya2VyXzdhNGZmYWY4ZGU2ZjQyNTFhZDVhZTYyYThiYzAyMWZiID0gTC5jaXJjbGVNYXJrZXIoCiAgICAgICAgICAgICAgICBbNDMuNjA5NzQ2NDg3NTk1NzE0LC0xMTYuMjA2NTE3NDYxNjIyNzhdLAogICAgICAgICAgICAgICAgewogICJidWJibGluZ01vdXNlRXZlbnRzIjogdHJ1ZSwKICAiY29sb3IiOiAiYmx1ZSIsCiAgImRhc2hBcnJheSI6IG51bGwsCiAgImRhc2hPZmZzZXQiOiBudWxsLAogICJmaWxsIjogdHJ1ZSwKICAiZmlsbENvbG9yIjogIiMzMTg2Y2MiLAogICJmaWxsT3BhY2l0eSI6IDAuNywKICAiZmlsbFJ1bGUiOiAiZXZlbm9kZCIsCiAgImxpbmVDYXAiOiAicm91bmQiLAogICJsaW5lSm9pbiI6ICJyb3VuZCIsCiAgIm9wYWNpdHkiOiAxLjAsCiAgInJhZGl1cyI6IDUsCiAgInN0cm9rZSI6IHRydWUsCiAgIndlaWdodCI6IDMKfQogICAgICAgICAgICAgICAgKS5hZGRUbyhtYXBfYzYzM2YwMWRiNDc3NDYwYzljMTI3Nzk3NDA2ZTdjZjcpOwogICAgICAgICAgICAKICAgIAogICAgICAgICAgICB2YXIgcG9wdXBfNGFmM2NjMGJmOWJiNDk2MzkwYWMxODk5MjE3NjExNzggPSBMLnBvcHVwKHttYXhXaWR0aDogJzMwMCd9KTsKCiAgICAgICAgICAgIAogICAgICAgICAgICAgICAgdmFyIGh0bWxfNTdiMTM5NWY1ODQ1NDEzODgyMzFiMDE3NGM2NTgyNjkgPSAkKCc8ZGl2IGlkPSJodG1sXzU3YjEzOTVmNTg0NTQxMzg4MjMxYjAxNzRjNjU4MjY5IiBzdHlsZT0id2lkdGg6IDEwMC4wJTsgaGVpZ2h0OiAxMDAuMCU7Ij5Cb2lzZSBBcnQgTXVzZXVtLCBBcnQgR2FsbGVyeTwvZGl2PicpWzBdOwogICAgICAgICAgICAgICAgcG9wdXBfNGFmM2NjMGJmOWJiNDk2MzkwYWMxODk5MjE3NjExNzguc2V0Q29udGVudChodG1sXzU3YjEzOTVmNTg0NTQxMzg4MjMxYjAxNzRjNjU4MjY5KTsKICAgICAgICAgICAgCgogICAgICAgICAgICBjaXJjbGVfbWFya2VyXzdhNGZmYWY4ZGU2ZjQyNTFhZDVhZTYyYThiYzAyMWZiLmJpbmRQb3B1cChwb3B1cF80YWYzY2MwYmY5YmI0OTYzOTBhYzE4OTkyMTc2MTE3OCk7CgogICAgICAgICAgICAKICAgICAgICAKICAgIAogICAgICAgICAgICB2YXIgY2lyY2xlX21hcmtlcl9jMzI3ZDlmMmE4Zjg0ZTUwYTZiMDc3MjIwODM1MzNlNyA9IEwuY2lyY2xlTWFya2VyKAogICAgICAgICAgICAgICAgWzQzLjYxMzkzMTczMTg1MjU1LC0xMTYuMjAyNTQ5Njc0Mzk0MV0sCiAgICAgICAgICAgICAgICB7CiAgImJ1YmJsaW5nTW91c2VFdmVudHMiOiB0cnVlLAogICJjb2xvciI6ICJibHVlIiwKICAiZGFzaEFycmF5IjogbnVsbCwKICAiZGFzaE9mZnNldCI6IG51bGwsCiAgImZpbGwiOiB0cnVlLAogICJmaWxsQ29sb3IiOiAiIzMxODZjYyIsCiAgImZpbGxPcGFjaXR5IjogMC43LAogICJmaWxsUnVsZSI6ICJldmVub2RkIiwKICAibGluZUNhcCI6ICJyb3VuZCIsCiAgImxpbmVKb2luIjogInJvdW5kIiwKICAib3BhY2l0eSI6IDEuMCwKICAicmFkaXVzIjogNSwKICAic3Ryb2tlIjogdHJ1ZSwKICAid2VpZ2h0IjogMwp9CiAgICAgICAgICAgICAgICApLmFkZFRvKG1hcF9jNjMzZjAxZGI0Nzc0NjBjOWMxMjc3OTc0MDZlN2NmNyk7CiAgICAgICAgICAgIAogICAgCiAgICAgICAgICAgIHZhciBwb3B1cF81YzU2Mzk2NzdhM2M0MzQ5YTk5MDZmYjZkZTg0Yzc4NyA9IEwucG9wdXAoe21heFdpZHRoOiAnMzAwJ30pOwoKICAgICAgICAgICAgCiAgICAgICAgICAgICAgICB2YXIgaHRtbF9iNDY4Y2U4ZmIzMzI0YmE4OTExM2NjN2JlNmYwNjJkNSA9ICQoJzxkaXYgaWQ9Imh0bWxfYjQ2OGNlOGZiMzMyNGJhODkxMTNjYzdiZTZmMDYyZDUiIHN0eWxlPSJ3aWR0aDogMTAwLjAlOyBoZWlnaHQ6IDEwMC4wJTsiPkJhc3F1ZSBNdXNldW0gJmFtcDsgQ3VsdHVyYWwgQ2VudGVyLCBNdXNldW08L2Rpdj4nKVswXTsKICAgICAgICAgICAgICAgIHBvcHVwXzVjNTYzOTY3N2EzYzQzNDlhOTkwNmZiNmRlODRjNzg3LnNldENvbnRlbnQoaHRtbF9iNDY4Y2U4ZmIzMzI0YmE4OTExM2NjN2JlNmYwNjJkNSk7CiAgICAgICAgICAgIAoKICAgICAgICAgICAgY2lyY2xlX21hcmtlcl9jMzI3ZDlmMmE4Zjg0ZTUwYTZiMDc3MjIwODM1MzNlNy5iaW5kUG9wdXAocG9wdXBfNWM1NjM5Njc3YTNjNDM0OWE5OTA2ZmI2ZGU4NGM3ODcpOwoKICAgICAgICAgICAgCiAgICAgICAgCiAgICAKICAgICAgICAgICAgdmFyIGNpcmNsZV9tYXJrZXJfZDUzZTRiMWM3Nzk1NDI1MTlkZGRkOTM0NTExMWI2NTYgPSBMLmNpcmNsZU1hcmtlcigKICAgICAgICAgICAgICAgIFs0My42MTMzMjMxOTIwNTIyODUsLTExNi4yMDg3NTE2OTI1OTYxMV0sCiAgICAgICAgICAgICAgICB7CiAgImJ1YmJsaW5nTW91c2VFdmVudHMiOiB0cnVlLAogICJjb2xvciI6ICJibHVlIiwKICAiZGFzaEFycmF5IjogbnVsbCwKICAiZGFzaE9mZnNldCI6IG51bGwsCiAgImZpbGwiOiB0cnVlLAogICJmaWxsQ29sb3IiOiAiIzMxODZjYyIsCiAgImZpbGxPcGFjaXR5IjogMC43LAogICJmaWxsUnVsZSI6ICJldmVub2RkIiwKICAibGluZUNhcCI6ICJyb3VuZCIsCiAgImxpbmVKb2luIjogInJvdW5kIiwKICAib3BhY2l0eSI6IDEuMCwKICAicmFkaXVzIjogNSwKICAic3Ryb2tlIjogdHJ1ZSwKICAid2VpZ2h0IjogMwp9CiAgICAgICAgICAgICAgICApLmFkZFRvKG1hcF9jNjMzZjAxZGI0Nzc0NjBjOWMxMjc3OTc0MDZlN2NmNyk7CiAgICAgICAgICAgIAogICAgCiAgICAgICAgICAgIHZhciBwb3B1cF81MTA4Zjg5ZjU5YjY0YzVhYjdjYzRmYWU4MTBiMmJkOCA9IEwucG9wdXAoe21heFdpZHRoOiAnMzAwJ30pOwoKICAgICAgICAgICAgCiAgICAgICAgICAgICAgICB2YXIgaHRtbF81MTc0NmEwZjY4NjI0YjZkOGJiMjU1NGVhMDgzOGU5MCA9ICQoJzxkaXYgaWQ9Imh0bWxfNTE3NDZhMGY2ODYyNGI2ZDhiYjI1NTRlYTA4MzhlOTAiIHN0eWxlPSJ3aWR0aDogMTAwLjAlOyBoZWlnaHQ6IDEwMC4wJTsiPlRoZSBTaHJlZGRlciwgTXVzaWMgVmVudWU8L2Rpdj4nKVswXTsKICAgICAgICAgICAgICAgIHBvcHVwXzUxMDhmODlmNTliNjRjNWFiN2NjNGZhZTgxMGIyYmQ4LnNldENvbnRlbnQoaHRtbF81MTc0NmEwZjY4NjI0YjZkOGJiMjU1NGVhMDgzOGU5MCk7CiAgICAgICAgICAgIAoKICAgICAgICAgICAgY2lyY2xlX21hcmtlcl9kNTNlNGIxYzc3OTU0MjUxOWRkZGQ5MzQ1MTExYjY1Ni5iaW5kUG9wdXAocG9wdXBfNTEwOGY4OWY1OWI2NGM1YWI3Y2M0ZmFlODEwYjJiZDgpOwoKICAgICAgICAgICAgCiAgICAgICAgCiAgICAKICAgICAgICAgICAgdmFyIGNpcmNsZV9tYXJrZXJfOTcwY2FjMTY1ZDE5NGFlMmI4OTVjNGYyMTczMGFjODMgPSBMLmNpcmNsZU1hcmtlcigKICAgICAgICAgICAgICAgIFs0My42MTY1OTc3Mjg2Nzk4OCwtMTE2LjIwMjU5NjQyNjAxMDEyXSwKICAgICAgICAgICAgICAgIHsKICAiYnViYmxpbmdNb3VzZUV2ZW50cyI6IHRydWUsCiAgImNvbG9yIjogImJsdWUiLAogICJkYXNoQXJyYXkiOiBudWxsLAogICJkYXNoT2Zmc2V0IjogbnVsbCwKICAiZmlsbCI6IHRydWUsCiAgImZpbGxDb2xvciI6ICIjMzE4NmNjIiwKICAiZmlsbE9wYWNpdHkiOiAwLjcsCiAgImZpbGxSdWxlIjogImV2ZW5vZGQiLAogICJsaW5lQ2FwIjogInJvdW5kIiwKICAibGluZUpvaW4iOiAicm91bmQiLAogICJvcGFjaXR5IjogMS4wLAogICJyYWRpdXMiOiA1LAogICJzdHJva2UiOiB0cnVlLAogICJ3ZWlnaHQiOiAzCn0KICAgICAgICAgICAgICAgICkuYWRkVG8obWFwX2M2MzNmMDFkYjQ3NzQ2MGM5YzEyNzc5NzQwNmU3Y2Y3KTsKICAgICAgICAgICAgCiAgICAKICAgICAgICAgICAgdmFyIHBvcHVwXzViODRjYmM4Y2FmNTQyZTA4OGI3Y2I1Mzk1NjkzNDMxID0gTC5wb3B1cCh7bWF4V2lkdGg6ICczMDAnfSk7CgogICAgICAgICAgICAKICAgICAgICAgICAgICAgIHZhciBodG1sXzBmODA3NjE0Njk5NzQyZmVhMTRkYWNhZDZkODEyNjcyID0gJCgnPGRpdiBpZD0iaHRtbF8wZjgwNzYxNDY5OTc0MmZlYTE0ZGFjYWQ2ZDgxMjY3MiIgc3R5bGU9IndpZHRoOiAxMDAuMCU7IGhlaWdodDogMTAwLjAlOyI+SW5kdWxnZSBCb2lzZSBGb29kIFRvdXJzLCBUb3VyIFByb3ZpZGVyPC9kaXY+JylbMF07CiAgICAgICAgICAgICAgICBwb3B1cF81Yjg0Y2JjOGNhZjU0MmUwODhiN2NiNTM5NTY5MzQzMS5zZXRDb250ZW50KGh0bWxfMGY4MDc2MTQ2OTk3NDJmZWExNGRhY2FkNmQ4MTI2NzIpOwogICAgICAgICAgICAKCiAgICAgICAgICAgIGNpcmNsZV9tYXJrZXJfOTcwY2FjMTY1ZDE5NGFlMmI4OTVjNGYyMTczMGFjODMuYmluZFBvcHVwKHBvcHVwXzViODRjYmM4Y2FmNTQyZTA4OGI3Y2I1Mzk1NjkzNDMxKTsKCiAgICAgICAgICAgIAogICAgICAgIAogICAgCiAgICAgICAgICAgIHZhciBjaXJjbGVfbWFya2VyXzFmOWYxNWEwMDBjNDRkMzVhMDFhNjlkNzJkNTdjY2MwID0gTC5jaXJjbGVNYXJrZXIoCiAgICAgICAgICAgICAgICBbNDMuNjE2NjAxLC0xMTYuMjAwNzM3XSwKICAgICAgICAgICAgICAgIHsKICAiYnViYmxpbmdNb3VzZUV2ZW50cyI6IHRydWUsCiAgImNvbG9yIjogImJsdWUiLAogICJkYXNoQXJyYXkiOiBudWxsLAogICJkYXNoT2Zmc2V0IjogbnVsbCwKICAiZmlsbCI6IHRydWUsCiAgImZpbGxDb2xvciI6ICIjMzE4NmNjIiwKICAiZmlsbE9wYWNpdHkiOiAwLjcsCiAgImZpbGxSdWxlIjogImV2ZW5vZGQiLAogICJsaW5lQ2FwIjogInJvdW5kIiwKICAibGluZUpvaW4iOiAicm91bmQiLAogICJvcGFjaXR5IjogMS4wLAogICJyYWRpdXMiOiA1LAogICJzdHJva2UiOiB0cnVlLAogICJ3ZWlnaHQiOiAzCn0KICAgICAgICAgICAgICAgICkuYWRkVG8obWFwX2M2MzNmMDFkYjQ3NzQ2MGM5YzEyNzc5NzQwNmU3Y2Y3KTsKICAgICAgICAgICAgCiAgICAKICAgICAgICAgICAgdmFyIHBvcHVwXzJkZWFlYjJjOWU3MTRlY2M4YTJiMDI5ZjgzODNhMjc5ID0gTC5wb3B1cCh7bWF4V2lkdGg6ICczMDAnfSk7CgogICAgICAgICAgICAKICAgICAgICAgICAgICAgIHZhciBodG1sXzJhOGE0ZTg4OTMxZjQwYjVhODk0NTk2ZmU4ZTU1ZTliID0gJCgnPGRpdiBpZD0iaHRtbF8yYThhNGU4ODkzMWY0MGI1YTg5NDU5NmZlOGU1NWU5YiIgc3R5bGU9IndpZHRoOiAxMDAuMCU7IGhlaWdodDogMTAwLjAlOyI+QWJyYWhhbSBMaW5jb2xuIFN0YXR1ZSwgT3V0ZG9vciBTY3VscHR1cmU8L2Rpdj4nKVswXTsKICAgICAgICAgICAgICAgIHBvcHVwXzJkZWFlYjJjOWU3MTRlY2M4YTJiMDI5ZjgzODNhMjc5LnNldENvbnRlbnQoaHRtbF8yYThhNGU4ODkzMWY0MGI1YTg5NDU5NmZlOGU1NWU5Yik7CiAgICAgICAgICAgIAoKICAgICAgICAgICAgY2lyY2xlX21hcmtlcl8xZjlmMTVhMDAwYzQ0ZDM1YTAxYTY5ZDcyZDU3Y2NjMC5iaW5kUG9wdXAocG9wdXBfMmRlYWViMmM5ZTcxNGVjYzhhMmIwMjlmODM4M2EyNzkpOwoKICAgICAgICAgICAgCiAgICAgICAgCiAgICAKICAgICAgICAgICAgdmFyIGNpcmNsZV9tYXJrZXJfYTBlZDM2MDk0YTc2NGNjMzg2ZTNkMmE0ZDIzMDJkNWMgPSBMLmNpcmNsZU1hcmtlcigKICAgICAgICAgICAgICAgIFs0My42MTQ4Mjc0NzUsLTExNi4yMDEzMDI2NF0sCiAgICAgICAgICAgICAgICB7CiAgImJ1YmJsaW5nTW91c2VFdmVudHMiOiB0cnVlLAogICJjb2xvciI6ICJibHVlIiwKICAiZGFzaEFycmF5IjogbnVsbCwKICAiZGFzaE9mZnNldCI6IG51bGwsCiAgImZpbGwiOiB0cnVlLAogICJmaWxsQ29sb3IiOiAiIzMxODZjYyIsCiAgImZpbGxPcGFjaXR5IjogMC43LAogICJmaWxsUnVsZSI6ICJldmVub2RkIiwKICAibGluZUNhcCI6ICJyb3VuZCIsCiAgImxpbmVKb2luIjogInJvdW5kIiwKICAib3BhY2l0eSI6IDEuMCwKICAicmFkaXVzIjogNSwKICAic3Ryb2tlIjogdHJ1ZSwKICAid2VpZ2h0IjogMwp9CiAgICAgICAgICAgICAgICApLmFkZFRvKG1hcF9jNjMzZjAxZGI0Nzc0NjBjOWMxMjc3OTc0MDZlN2NmNyk7CiAgICAgICAgICAgIAogICAgCiAgICAgICAgICAgIHZhciBwb3B1cF9kMWE4YmQ0ZDg0N2U0YjI4YWRkZTAwYzE2ODQ0M2NmNSA9IEwucG9wdXAoe21heFdpZHRoOiAnMzAwJ30pOwoKICAgICAgICAgICAgCiAgICAgICAgICAgICAgICB2YXIgaHRtbF8zZmQ3Yjc4YmRkMmM0YTMxOTQ4ZDNiMDJlNTU2NjZhYyA9ICQoJzxkaXYgaWQ9Imh0bWxfM2ZkN2I3OGJkZDJjNGEzMTk0OGQzYjAyZTU1NjY2YWMiIHN0eWxlPSJ3aWR0aDogMTAwLjAlOyBoZWlnaHQ6IDEwMC4wJTsiPkRlcGFydG1lbnQgT2YgQXJ0cyAmYW1wOyBIaXN0b3J5LCBBcnRzICZhbXA7IEVudGVydGFpbm1lbnQ8L2Rpdj4nKVswXTsKICAgICAgICAgICAgICAgIHBvcHVwX2QxYThiZDRkODQ3ZTRiMjhhZGRlMDBjMTY4NDQzY2Y1LnNldENvbnRlbnQoaHRtbF8zZmQ3Yjc4YmRkMmM0YTMxOTQ4ZDNiMDJlNTU2NjZhYyk7CiAgICAgICAgICAgIAoKICAgICAgICAgICAgY2lyY2xlX21hcmtlcl9hMGVkMzYwOTRhNzY0Y2MzODZlM2QyYTRkMjMwMmQ1Yy5iaW5kUG9wdXAocG9wdXBfZDFhOGJkNGQ4NDdlNGIyOGFkZGUwMGMxNjg0NDNjZjUpOwoKICAgICAgICAgICAgCiAgICAgICAgCiAgICAKICAgICAgICAgICAgdmFyIGNpcmNsZV9tYXJrZXJfZmNkNTcyZmUwODZlNDcyMGI2NzBjMzJiNjViOTJmYTggPSBMLmNpcmNsZU1hcmtlcigKICAgICAgICAgICAgICAgIFs0My42MTU4NzY0NjY2NjY2NywtMTE2LjIwNDMxNDMzXSwKICAgICAgICAgICAgICAgIHsKICAiYnViYmxpbmdNb3VzZUV2ZW50cyI6IHRydWUsCiAgImNvbG9yIjogImJsdWUiLAogICJkYXNoQXJyYXkiOiBudWxsLAogICJkYXNoT2Zmc2V0IjogbnVsbCwKICAiZmlsbCI6IHRydWUsCiAgImZpbGxDb2xvciI6ICIjMzE4NmNjIiwKICAiZmlsbE9wYWNpdHkiOiAwLjcsCiAgImZpbGxSdWxlIjogImV2ZW5vZGQiLAogICJsaW5lQ2FwIjogInJvdW5kIiwKICAibGluZUpvaW4iOiAicm91bmQiLAogICJvcGFjaXR5IjogMS4wLAogICJyYWRpdXMiOiA1LAogICJzdHJva2UiOiB0cnVlLAogICJ3ZWlnaHQiOiAzCn0KICAgICAgICAgICAgICAgICkuYWRkVG8obWFwX2M2MzNmMDFkYjQ3NzQ2MGM5YzEyNzc5NzQwNmU3Y2Y3KTsKICAgICAgICAgICAgCiAgICAKICAgICAgICAgICAgdmFyIHBvcHVwXzNmNjFiNWY0MTM3MTQxMDdhYjE1Yjk1Y2RlZTE2MWZmID0gTC5wb3B1cCh7bWF4V2lkdGg6ICczMDAnfSk7CgogICAgICAgICAgICAKICAgICAgICAgICAgICAgIHZhciBodG1sXzZhODNjNGI4Njk0NjRkMmY5NTdkZDdkZWVjMTA4ZDliID0gJCgnPGRpdiBpZD0iaHRtbF82YTgzYzRiODY5NDY0ZDJmOTU3ZGQ3ZGVlYzEwOGQ5YiIgc3R5bGU9IndpZHRoOiAxMDAuMCU7IGhlaWdodDogMTAwLjAlOyI+TGlzayBHYWxsZXJ5LCBBcnQgR2FsbGVyeTwvZGl2PicpWzBdOwogICAgICAgICAgICAgICAgcG9wdXBfM2Y2MWI1ZjQxMzcxNDEwN2FiMTViOTVjZGVlMTYxZmYuc2V0Q29udGVudChodG1sXzZhODNjNGI4Njk0NjRkMmY5NTdkZDdkZWVjMTA4ZDliKTsKICAgICAgICAgICAgCgogICAgICAgICAgICBjaXJjbGVfbWFya2VyX2ZjZDU3MmZlMDg2ZTQ3MjBiNjcwYzMyYjY1YjkyZmE4LmJpbmRQb3B1cChwb3B1cF8zZjYxYjVmNDEzNzE0MTA3YWIxNWI5NWNkZWUxNjFmZik7CgogICAgICAgICAgICAKICAgICAgICAKICAgIAogICAgICAgICAgICB2YXIgY2lyY2xlX21hcmtlcl9hZjExYjE3NTkzMWQ0MGZjOTlhMTFkOWU4YjAzOTVmMSA9IEwuY2lyY2xlTWFya2VyKAogICAgICAgICAgICAgICAgWzQzLjYxNDAyNzY1MTM4MDgsLTExNi4yMDA1MjUzOTgwMTEyNF0sCiAgICAgICAgICAgICAgICB7CiAgImJ1YmJsaW5nTW91c2VFdmVudHMiOiB0cnVlLAogICJjb2xvciI6ICJibHVlIiwKICAiZGFzaEFycmF5IjogbnVsbCwKICAiZGFzaE9mZnNldCI6IG51bGwsCiAgImZpbGwiOiB0cnVlLAogICJmaWxsQ29sb3IiOiAiIzMxODZjYyIsCiAgImZpbGxPcGFjaXR5IjogMC43LAogICJmaWxsUnVsZSI6ICJldmVub2RkIiwKICAibGluZUNhcCI6ICJyb3VuZCIsCiAgImxpbmVKb2luIjogInJvdW5kIiwKICAib3BhY2l0eSI6IDEuMCwKICAicmFkaXVzIjogNSwKICAic3Ryb2tlIjogdHJ1ZSwKICAid2VpZ2h0IjogMwp9CiAgICAgICAgICAgICAgICApLmFkZFRvKG1hcF9jNjMzZjAxZGI0Nzc0NjBjOWMxMjc3OTc0MDZlN2NmNyk7CiAgICAgICAgICAgIAogICAgCiAgICAgICAgICAgIHZhciBwb3B1cF85NjNhMDZlODRmYjI0MDhiODQ3NDAxMmIxYTg3ZTY0OSA9IEwucG9wdXAoe21heFdpZHRoOiAnMzAwJ30pOwoKICAgICAgICAgICAgCiAgICAgICAgICAgICAgICB2YXIgaHRtbF83NjQ1NDI5OTM1ZGQ0MGM5OWFkYTE2ZGVlMzAyN2QwYyA9ICQoJzxkaXYgaWQ9Imh0bWxfNzY0NTQyOTkzNWRkNDBjOTlhZGExNmRlZTMwMjdkMGMiIHN0eWxlPSJ3aWR0aDogMTAwLjAlOyBoZWlnaHQ6IDEwMC4wJTsiPlNhbW15JiMzOTtzLCBSb2NrIENsdWI8L2Rpdj4nKVswXTsKICAgICAgICAgICAgICAgIHBvcHVwXzk2M2EwNmU4NGZiMjQwOGI4NDc0MDEyYjFhODdlNjQ5LnNldENvbnRlbnQoaHRtbF83NjQ1NDI5OTM1ZGQ0MGM5OWFkYTE2ZGVlMzAyN2QwYyk7CiAgICAgICAgICAgIAoKICAgICAgICAgICAgY2lyY2xlX21hcmtlcl9hZjExYjE3NTkzMWQ0MGZjOTlhMTFkOWU4YjAzOTVmMS5iaW5kUG9wdXAocG9wdXBfOTYzYTA2ZTg0ZmIyNDA4Yjg0NzQwMTJiMWE4N2U2NDkpOwoKICAgICAgICAgICAgCiAgICAgICAgCiAgICAKICAgICAgICAgICAgdmFyIGNpcmNsZV9tYXJrZXJfYmVhMTg0MzBmNTE0NDQzYzg5NTA4NDhjMTk1YzdlYWMgPSBMLmNpcmNsZU1hcmtlcigKICAgICAgICAgICAgICAgIFs0My42MTcxMjk0MzMzMzMzMywtMTE2LjIwNTYyMTE2NjY2NjY2XSwKICAgICAgICAgICAgICAgIHsKICAiYnViYmxpbmdNb3VzZUV2ZW50cyI6IHRydWUsCiAgImNvbG9yIjogImJsdWUiLAogICJkYXNoQXJyYXkiOiBudWxsLAogICJkYXNoT2Zmc2V0IjogbnVsbCwKICAiZmlsbCI6IHRydWUsCiAgImZpbGxDb2xvciI6ICIjMzE4NmNjIiwKICAiZmlsbE9wYWNpdHkiOiAwLjcsCiAgImZpbGxSdWxlIjogImV2ZW5vZGQiLAogICJsaW5lQ2FwIjogInJvdW5kIiwKICAibGluZUpvaW4iOiAicm91bmQiLAogICJvcGFjaXR5IjogMS4wLAogICJyYWRpdXMiOiA1LAogICJzdHJva2UiOiB0cnVlLAogICJ3ZWlnaHQiOiAzCn0KICAgICAgICAgICAgICAgICkuYWRkVG8obWFwX2M2MzNmMDFkYjQ3NzQ2MGM5YzEyNzc5NzQwNmU3Y2Y3KTsKICAgICAgICAgICAgCiAgICAKICAgICAgICAgICAgdmFyIHBvcHVwX2NmODBjMTY0YmE4MTQ2OWViNjlkOWY1NDI0NDYzNzllID0gTC5wb3B1cCh7bWF4V2lkdGg6ICczMDAnfSk7CgogICAgICAgICAgICAKICAgICAgICAgICAgICAgIHZhciBodG1sX2UyZjdhZDc2MGU3MzQ2YzNhZGU5MTA0MTNhZmRiNzFhID0gJCgnPGRpdiBpZD0iaHRtbF9lMmY3YWQ3NjBlNzM0NmMzYWRlOTEwNDEzYWZkYjcxYSIgc3R5bGU9IndpZHRoOiAxMDAuMCU7IGhlaWdodDogMTAwLjAlOyI+UGVyZmVjdGlvbiBJbWFnZSBTdHVkaW9zLCBBcnQgR2FsbGVyeTwvZGl2PicpWzBdOwogICAgICAgICAgICAgICAgcG9wdXBfY2Y4MGMxNjRiYTgxNDY5ZWI2OWQ5ZjU0MjQ0NjM3OWUuc2V0Q29udGVudChodG1sX2UyZjdhZDc2MGU3MzQ2YzNhZGU5MTA0MTNhZmRiNzFhKTsKICAgICAgICAgICAgCgogICAgICAgICAgICBjaXJjbGVfbWFya2VyX2JlYTE4NDMwZjUxNDQ0M2M4OTUwODQ4YzE5NWM3ZWFjLmJpbmRQb3B1cChwb3B1cF9jZjgwYzE2NGJhODE0NjllYjY5ZDlmNTQyNDQ2Mzc5ZSk7CgogICAgICAgICAgICAKICAgICAgICAKICAgIAogICAgICAgICAgICB2YXIgY2lyY2xlX21hcmtlcl85N2YwM2JlNDg2MzU0MTUzOWMxNThiNWY5ZDI5NGU4OCA9IEwuY2lyY2xlTWFya2VyKAogICAgICAgICAgICAgICAgWzQzLjYxMTM2OSwtMTE2LjIwMzYxM10sCiAgICAgICAgICAgICAgICB7CiAgImJ1YmJsaW5nTW91c2VFdmVudHMiOiB0cnVlLAogICJjb2xvciI6ICJibHVlIiwKICAiZGFzaEFycmF5IjogbnVsbCwKICAiZGFzaE9mZnNldCI6IG51bGwsCiAgImZpbGwiOiB0cnVlLAogICJmaWxsQ29sb3IiOiAiIzMxODZjYyIsCiAgImZpbGxPcGFjaXR5IjogMC43LAogICJmaWxsUnVsZSI6ICJldmVub2RkIiwKICAibGluZUNhcCI6ICJyb3VuZCIsCiAgImxpbmVKb2luIjogInJvdW5kIiwKICAib3BhY2l0eSI6IDEuMCwKICAicmFkaXVzIjogNSwKICAic3Ryb2tlIjogdHJ1ZSwKICAid2VpZ2h0IjogMwp9CiAgICAgICAgICAgICAgICApLmFkZFRvKG1hcF9jNjMzZjAxZGI0Nzc0NjBjOWMxMjc3OTc0MDZlN2NmNyk7CiAgICAgICAgICAgIAogICAgCiAgICAgICAgICAgIHZhciBwb3B1cF85OTk4ZThjMTdiYTI0ZTI0OWExOTAyMGI3MTJiM2JmNyA9IEwucG9wdXAoe21heFdpZHRoOiAnMzAwJ30pOwoKICAgICAgICAgICAgCiAgICAgICAgICAgICAgICB2YXIgaHRtbF9hZWQ2YTYxYmNkNTU0OWFhODc1YjM5YTY1ZjI4ZmUwNCA9ICQoJzxkaXYgaWQ9Imh0bWxfYWVkNmE2MWJjZDU1NDlhYTg3NWIzOWE2NWYyOGZlMDQiIHN0eWxlPSJ3aWR0aDogMTAwLjAlOyBoZWlnaHQ6IDEwMC4wJTsiPk1JTkcgU3R1ZGlvcywgUHVibGljIEFydDwvZGl2PicpWzBdOwogICAgICAgICAgICAgICAgcG9wdXBfOTk5OGU4YzE3YmEyNGUyNDlhMTkwMjBiNzEyYjNiZjcuc2V0Q29udGVudChodG1sX2FlZDZhNjFiY2Q1NTQ5YWE4NzViMzlhNjVmMjhmZTA0KTsKICAgICAgICAgICAgCgogICAgICAgICAgICBjaXJjbGVfbWFya2VyXzk3ZjAzYmU0ODYzNTQxNTM5YzE1OGI1ZjlkMjk0ZTg4LmJpbmRQb3B1cChwb3B1cF85OTk4ZThjMTdiYTI0ZTI0OWExOTAyMGI3MTJiM2JmNyk7CgogICAgICAgICAgICAKICAgICAgICAKICAgIAogICAgICAgICAgICB2YXIgY2lyY2xlX21hcmtlcl82ODM4OGU3ZTk0OTQ0YWM3ODlmNTQ1NTZlMTQyMGJlMSA9IEwuY2lyY2xlTWFya2VyKAogICAgICAgICAgICAgICAgWzQzLjYxMjY2MSwtMTE2LjIwNzYyNV0sCiAgICAgICAgICAgICAgICB7CiAgImJ1YmJsaW5nTW91c2VFdmVudHMiOiB0cnVlLAogICJjb2xvciI6ICJibHVlIiwKICAiZGFzaEFycmF5IjogbnVsbCwKICAiZGFzaE9mZnNldCI6IG51bGwsCiAgImZpbGwiOiB0cnVlLAogICJmaWxsQ29sb3IiOiAiIzMxODZjYyIsCiAgImZpbGxPcGFjaXR5IjogMC43LAogICJmaWxsUnVsZSI6ICJldmVub2RkIiwKICAibGluZUNhcCI6ICJyb3VuZCIsCiAgImxpbmVKb2luIjogInJvdW5kIiwKICAib3BhY2l0eSI6IDEuMCwKICAicmFkaXVzIjogNSwKICAic3Ryb2tlIjogdHJ1ZSwKICAid2VpZ2h0IjogMwp9CiAgICAgICAgICAgICAgICApLmFkZFRvKG1hcF9jNjMzZjAxZGI0Nzc0NjBjOWMxMjc3OTc0MDZlN2NmNyk7CiAgICAgICAgICAgIAogICAgCiAgICAgICAgICAgIHZhciBwb3B1cF9lODM2NzU0NTA0OWY0Yjk2Yjg2MDg0MmYxNGIwY2Q0NSA9IEwucG9wdXAoe21heFdpZHRoOiAnMzAwJ30pOwoKICAgICAgICAgICAgCiAgICAgICAgICAgICAgICB2YXIgaHRtbF84ZGU3ZWJiNDQzNjE0MDE5OTkzMDJkNDA5ZTMxZTA2ZSA9ICQoJzxkaXYgaWQ9Imh0bWxfOGRlN2ViYjQ0MzYxNDAxOTk5MzAyZDQwOWUzMWUwNmUiIHN0eWxlPSJ3aWR0aDogMTAwLjAlOyBoZWlnaHQ6IDEwMC4wJTsiPkJvaXNlIFBoaWxoYXJtb25pYywgTXVzaWMgVmVudWU8L2Rpdj4nKVswXTsKICAgICAgICAgICAgICAgIHBvcHVwX2U4MzY3NTQ1MDQ5ZjRiOTZiODYwODQyZjE0YjBjZDQ1LnNldENvbnRlbnQoaHRtbF84ZGU3ZWJiNDQzNjE0MDE5OTkzMDJkNDA5ZTMxZTA2ZSk7CiAgICAgICAgICAgIAoKICAgICAgICAgICAgY2lyY2xlX21hcmtlcl82ODM4OGU3ZTk0OTQ0YWM3ODlmNTQ1NTZlMTQyMGJlMS5iaW5kUG9wdXAocG9wdXBfZTgzNjc1NDUwNDlmNGI5NmI4NjA4NDJmMTRiMGNkNDUpOwoKICAgICAgICAgICAgCiAgICAgICAgCiAgICAKICAgICAgICAgICAgdmFyIGNpcmNsZV9tYXJrZXJfMzMxYzEyYWJhOTRlNDVmMjgxMDE5MjkwNTI1MTQ2YmQgPSBMLmNpcmNsZU1hcmtlcigKICAgICAgICAgICAgICAgIFs0My42MTA2MDI2ODQyNDkyNjUsLTExNi4yMDU2MzE3MjA5MjA4XSwKICAgICAgICAgICAgICAgIHsKICAiYnViYmxpbmdNb3VzZUV2ZW50cyI6IHRydWUsCiAgImNvbG9yIjogImJsdWUiLAogICJkYXNoQXJyYXkiOiBudWxsLAogICJkYXNoT2Zmc2V0IjogbnVsbCwKICAiZmlsbCI6IHRydWUsCiAgImZpbGxDb2xvciI6ICIjMzE4NmNjIiwKICAiZmlsbE9wYWNpdHkiOiAwLjcsCiAgImZpbGxSdWxlIjogImV2ZW5vZGQiLAogICJsaW5lQ2FwIjogInJvdW5kIiwKICAibGluZUpvaW4iOiAicm91bmQiLAogICJvcGFjaXR5IjogMS4wLAogICJyYWRpdXMiOiA1LAogICJzdHJva2UiOiB0cnVlLAogICJ3ZWlnaHQiOiAzCn0KICAgICAgICAgICAgICAgICkuYWRkVG8obWFwX2M2MzNmMDFkYjQ3NzQ2MGM5YzEyNzc5NzQwNmU3Y2Y3KTsKICAgICAgICAgICAgCiAgICAKICAgICAgICAgICAgdmFyIHBvcHVwXzVmMDExNTViNjMxZjRhMDM4ZDA4MjcxODYxYjBlNzRlID0gTC5wb3B1cCh7bWF4V2lkdGg6ICczMDAnfSk7CgogICAgICAgICAgICAKICAgICAgICAgICAgICAgIHZhciBodG1sXzE0MjM2NGQ1MmY5MzQ2ODdhNzgzOTE4NDE0YTRiYmI1ID0gJCgnPGRpdiBpZD0iaHRtbF8xNDIzNjRkNTJmOTM0Njg3YTc4MzkxODQxNGE0YmJiNSIgc3R5bGU9IndpZHRoOiAxMDAuMCU7IGhlaWdodDogMTAwLjAlOyI+SWRhaG8gSGlzdG9yaWNhbCBNdXNldW0sIEhpc3RvcnkgTXVzZXVtPC9kaXY+JylbMF07CiAgICAgICAgICAgICAgICBwb3B1cF81ZjAxMTU1YjYzMWY0YTAzOGQwODI3MTg2MWIwZTc0ZS5zZXRDb250ZW50KGh0bWxfMTQyMzY0ZDUyZjkzNDY4N2E3ODM5MTg0MTRhNGJiYjUpOwogICAgICAgICAgICAKCiAgICAgICAgICAgIGNpcmNsZV9tYXJrZXJfMzMxYzEyYWJhOTRlNDVmMjgxMDE5MjkwNTI1MTQ2YmQuYmluZFBvcHVwKHBvcHVwXzVmMDExNTViNjMxZjRhMDM4ZDA4MjcxODYxYjBlNzRlKTsKCiAgICAgICAgICAgIAogICAgICAgIAogICAgCiAgICAgICAgICAgIHZhciBjaXJjbGVfbWFya2VyXzA2MjZjMzI0ZGI2MzRmOWE4NDYxZWNhZTE2YTcxOGM1ID0gTC5jaXJjbGVNYXJrZXIoCiAgICAgICAgICAgICAgICBbNDMuNjExMjY2LC0xMTYuMjA3MTg1XSwKICAgICAgICAgICAgICAgIHsKICAiYnViYmxpbmdNb3VzZUV2ZW50cyI6IHRydWUsCiAgImNvbG9yIjogImJsdWUiLAogICJkYXNoQXJyYXkiOiBudWxsLAogICJkYXNoT2Zmc2V0IjogbnVsbCwKICAiZmlsbCI6IHRydWUsCiAgImZpbGxDb2xvciI6ICIjMzE4NmNjIiwKICAiZmlsbE9wYWNpdHkiOiAwLjcsCiAgImZpbGxSdWxlIjogImV2ZW5vZGQiLAogICJsaW5lQ2FwIjogInJvdW5kIiwKICAibGluZUpvaW4iOiAicm91bmQiLAogICJvcGFjaXR5IjogMS4wLAogICJyYWRpdXMiOiA1LAogICJzdHJva2UiOiB0cnVlLAogICJ3ZWlnaHQiOiAzCn0KICAgICAgICAgICAgICAgICkuYWRkVG8obWFwX2M2MzNmMDFkYjQ3NzQ2MGM5YzEyNzc5NzQwNmU3Y2Y3KTsKICAgICAgICAgICAgCiAgICAKICAgICAgICAgICAgdmFyIHBvcHVwX2FkZDE0NjRmNzIzODRkZDY4YTZmMmZjNDU0ODUyNWY1ID0gTC5wb3B1cCh7bWF4V2lkdGg6ICczMDAnfSk7CgogICAgICAgICAgICAKICAgICAgICAgICAgICAgIHZhciBodG1sXzFmNTA0ZjM1MzMwODQ4OGJiMmE4NWNhN2UzYjc4ODU1ID0gJCgnPGRpdiBpZD0iaHRtbF8xZjUwNGYzNTMzMDg0ODhiYjJhODVjYTdlM2I3ODg1NSIgc3R5bGU9IndpZHRoOiAxMDAuMCU7IGhlaWdodDogMTAwLjAlOyI+VHJleSBNY0ludHlyZSBQcm9qZWN0LCBEYW5jZSBTdHVkaW88L2Rpdj4nKVswXTsKICAgICAgICAgICAgICAgIHBvcHVwX2FkZDE0NjRmNzIzODRkZDY4YTZmMmZjNDU0ODUyNWY1LnNldENvbnRlbnQoaHRtbF8xZjUwNGYzNTMzMDg0ODhiYjJhODVjYTdlM2I3ODg1NSk7CiAgICAgICAgICAgIAoKICAgICAgICAgICAgY2lyY2xlX21hcmtlcl8wNjI2YzMyNGRiNjM0ZjlhODQ2MWVjYWUxNmE3MThjNS5iaW5kUG9wdXAocG9wdXBfYWRkMTQ2NGY3MjM4NGRkNjhhNmYyZmM0NTQ4NTI1ZjUpOwoKICAgICAgICAgICAgCiAgICAgICAgCiAgICAKICAgICAgICAgICAgdmFyIGNpcmNsZV9tYXJrZXJfOGQ0OGNkYmQ5ZDRlNGUyNDlhMDhiZDAxMjc2MzBkZTEgPSBMLmNpcmNsZU1hcmtlcigKICAgICAgICAgICAgICAgIFs0My42MTAwODk0NzI4MzM4NiwtMTE2LjIwNTkwMjIwMjEzMjI2XSwKICAgICAgICAgICAgICAgIHsKICAiYnViYmxpbmdNb3VzZUV2ZW50cyI6IHRydWUsCiAgImNvbG9yIjogImJsdWUiLAogICJkYXNoQXJyYXkiOiBudWxsLAogICJkYXNoT2Zmc2V0IjogbnVsbCwKICAiZmlsbCI6IHRydWUsCiAgImZpbGxDb2xvciI6ICIjMzE4NmNjIiwKICAiZmlsbE9wYWNpdHkiOiAwLjcsCiAgImZpbGxSdWxlIjogImV2ZW5vZGQiLAogICJsaW5lQ2FwIjogInJvdW5kIiwKICAibGluZUpvaW4iOiAicm91bmQiLAogICJvcGFjaXR5IjogMS4wLAogICJyYWRpdXMiOiA1LAogICJzdHJva2UiOiB0cnVlLAogICJ3ZWlnaHQiOiAzCn0KICAgICAgICAgICAgICAgICkuYWRkVG8obWFwX2M2MzNmMDFkYjQ3NzQ2MGM5YzEyNzc5NzQwNmU3Y2Y3KTsKICAgICAgICAgICAgCiAgICAKICAgICAgICAgICAgdmFyIHBvcHVwX2Q4NTExNDg1MjhkOTQzZGZiODdjZGI5NGIwZThmOTdlID0gTC5wb3B1cCh7bWF4V2lkdGg6ICczMDAnfSk7CgogICAgICAgICAgICAKICAgICAgICAgICAgICAgIHZhciBodG1sXzE1M2JmNTY5YmMwYjQ4Njk4MDBmNTkzN2JiOTUzMGZlID0gJCgnPGRpdiBpZD0iaHRtbF8xNTNiZjU2OWJjMGI0ODY5ODAwZjU5MzdiYjk1MzBmZSIgc3R5bGU9IndpZHRoOiAxMDAuMCU7IGhlaWdodDogMTAwLjAlOyI+SWRhaG8gQmxhY2sgSGlzdG9yeSBNdXNldW0sIEhpc3RvcnkgTXVzZXVtPC9kaXY+JylbMF07CiAgICAgICAgICAgICAgICBwb3B1cF9kODUxMTQ4NTI4ZDk0M2RmYjg3Y2RiOTRiMGU4Zjk3ZS5zZXRDb250ZW50KGh0bWxfMTUzYmY1NjliYzBiNDg2OTgwMGY1OTM3YmI5NTMwZmUpOwogICAgICAgICAgICAKCiAgICAgICAgICAgIGNpcmNsZV9tYXJrZXJfOGQ0OGNkYmQ5ZDRlNGUyNDlhMDhiZDAxMjc2MzBkZTEuYmluZFBvcHVwKHBvcHVwX2Q4NTExNDg1MjhkOTQzZGZiODdjZGI5NGIwZThmOTdlKTsKCiAgICAgICAgICAgIAogICAgICAgIAogICAgCiAgICAgICAgICAgIHZhciBjaXJjbGVfbWFya2VyXzQ5YjAyMmZjMDFkMTQzNzBhZjYwNjkxNzg0Nzk2MTJjID0gTC5jaXJjbGVNYXJrZXIoCiAgICAgICAgICAgICAgICBbNDMuNjA4NzM1LC0xMTYuMTk5MTM1XSwKICAgICAgICAgICAgICAgIHsKICAiYnViYmxpbmdNb3VzZUV2ZW50cyI6IHRydWUsCiAgImNvbG9yIjogImJsdWUiLAogICJkYXNoQXJyYXkiOiBudWxsLAogICJkYXNoT2Zmc2V0IjogbnVsbCwKICAiZmlsbCI6IHRydWUsCiAgImZpbGxDb2xvciI6ICIjMzE4NmNjIiwKICAiZmlsbE9wYWNpdHkiOiAwLjcsCiAgImZpbGxSdWxlIjogImV2ZW5vZGQiLAogICJsaW5lQ2FwIjogInJvdW5kIiwKICAibGluZUpvaW4iOiAicm91bmQiLAogICJvcGFjaXR5IjogMS4wLAogICJyYWRpdXMiOiA1LAogICJzdHJva2UiOiB0cnVlLAogICJ3ZWlnaHQiOiAzCn0KICAgICAgICAgICAgICAgICkuYWRkVG8obWFwX2M2MzNmMDFkYjQ3NzQ2MGM5YzEyNzc5NzQwNmU3Y2Y3KTsKICAgICAgICAgICAgCiAgICAKICAgICAgICAgICAgdmFyIHBvcHVwXzUyNjlhN2QzNGZiYjRhNWY4MDdhN2VmNWFjYzE2MzE1ID0gTC5wb3B1cCh7bWF4V2lkdGg6ICczMDAnfSk7CgogICAgICAgICAgICAKICAgICAgICAgICAgICAgIHZhciBodG1sXzI2MWQ0OTc3YmE0NjQzMjFiMjc1MDU1MTg2ZDkzY2Y0ID0gJCgnPGRpdiBpZD0iaHRtbF8yNjFkNDk3N2JhNDY0MzIxYjI3NTA1NTE4NmQ5M2NmNCIgc3R5bGU9IndpZHRoOiAxMDAuMCU7IGhlaWdodDogMTAwLjAlOyI+VGhlIERpc2NvdmVyeSBDZW50ZXIgT2YgSWRhaG8sIE11c2V1bTwvZGl2PicpWzBdOwogICAgICAgICAgICAgICAgcG9wdXBfNTI2OWE3ZDM0ZmJiNGE1ZjgwN2E3ZWY1YWNjMTYzMTUuc2V0Q29udGVudChodG1sXzI2MWQ0OTc3YmE0NjQzMjFiMjc1MDU1MTg2ZDkzY2Y0KTsKICAgICAgICAgICAgCgogICAgICAgICAgICBjaXJjbGVfbWFya2VyXzQ5YjAyMmZjMDFkMTQzNzBhZjYwNjkxNzg0Nzk2MTJjLmJpbmRQb3B1cChwb3B1cF81MjY5YTdkMzRmYmI0YTVmODA3YTdlZjVhY2MxNjMxNSk7CgogICAgICAgICAgICAKICAgICAgICAKICAgIAogICAgICAgICAgICB2YXIgY2lyY2xlX21hcmtlcl9kODJjN2E1MDEwYTU0YmJlODE0MWE3MjIxZjg4MDYzNyA9IEwuY2lyY2xlTWFya2VyKAogICAgICAgICAgICAgICAgWzQzLjYyMDAxLC0xMTYuMjEyNzk1XSwKICAgICAgICAgICAgICAgIHsKICAiYnViYmxpbmdNb3VzZUV2ZW50cyI6IHRydWUsCiAgImNvbG9yIjogImJsdWUiLAogICJkYXNoQXJyYXkiOiBudWxsLAogICJkYXNoT2Zmc2V0IjogbnVsbCwKICAiZmlsbCI6IHRydWUsCiAgImZpbGxDb2xvciI6ICIjMzE4NmNjIiwKICAiZmlsbE9wYWNpdHkiOiAwLjcsCiAgImZpbGxSdWxlIjogImV2ZW5vZGQiLAogICJsaW5lQ2FwIjogInJvdW5kIiwKICAibGluZUpvaW4iOiAicm91bmQiLAogICJvcGFjaXR5IjogMS4wLAogICJyYWRpdXMiOiA1LAogICJzdHJva2UiOiB0cnVlLAogICJ3ZWlnaHQiOiAzCn0KICAgICAgICAgICAgICAgICkuYWRkVG8obWFwX2M2MzNmMDFkYjQ3NzQ2MGM5YzEyNzc5NzQwNmU3Y2Y3KTsKICAgICAgICAgICAgCiAgICAKICAgICAgICAgICAgdmFyIHBvcHVwXzhkZDYyZmFjNzc5ZjRjMTliODNkOWQ5MDc3YzRiMzdmID0gTC5wb3B1cCh7bWF4V2lkdGg6ICczMDAnfSk7CgogICAgICAgICAgICAKICAgICAgICAgICAgICAgIHZhciBodG1sXzBkYzI4MGFmNTNkYTQxZTM5NmViNTAzZDQ1NzE2MmEyID0gJCgnPGRpdiBpZD0iaHRtbF8wZGMyODBhZjUzZGE0MWUzOTZlYjUwM2Q0NTcxNjJhMiIgc3R5bGU9IndpZHRoOiAxMDAuMCU7IGhlaWdodDogMTAwLjAlOyI+Q3JhenkgSG9yc2UsIE11c2ljIFZlbnVlPC9kaXY+JylbMF07CiAgICAgICAgICAgICAgICBwb3B1cF84ZGQ2MmZhYzc3OWY0YzE5YjgzZDlkOTA3N2M0YjM3Zi5zZXRDb250ZW50KGh0bWxfMGRjMjgwYWY1M2RhNDFlMzk2ZWI1MDNkNDU3MTYyYTIpOwogICAgICAgICAgICAKCiAgICAgICAgICAgIGNpcmNsZV9tYXJrZXJfZDgyYzdhNTAxMGE1NGJiZTgxNDFhNzIyMWY4ODA2MzcuYmluZFBvcHVwKHBvcHVwXzhkZDYyZmFjNzc5ZjRjMTliODNkOWQ5MDc3YzRiMzdmKTsKCiAgICAgICAgICAgIAogICAgICAgIAogICAgCiAgICAgICAgICAgIHZhciBjaXJjbGVfbWFya2VyXzVmOWNmNGExNzk0NTQyNzlhZDYwNjZmMWM4ODI2MmVmID0gTC5jaXJjbGVNYXJrZXIoCiAgICAgICAgICAgICAgICBbNDMuNjE3MzQ5MzYzNzQ2NzA1LC0xMTYuMjAzMTAzNDgxNzczODddLAogICAgICAgICAgICAgICAgewogICJidWJibGluZ01vdXNlRXZlbnRzIjogdHJ1ZSwKICAiY29sb3IiOiAiYmx1ZSIsCiAgImRhc2hBcnJheSI6IG51bGwsCiAgImRhc2hPZmZzZXQiOiBudWxsLAogICJmaWxsIjogdHJ1ZSwKICAiZmlsbENvbG9yIjogIiMzMTg2Y2MiLAogICJmaWxsT3BhY2l0eSI6IDAuNywKICAiZmlsbFJ1bGUiOiAiZXZlbm9kZCIsCiAgImxpbmVDYXAiOiAicm91bmQiLAogICJsaW5lSm9pbiI6ICJyb3VuZCIsCiAgIm9wYWNpdHkiOiAxLjAsCiAgInJhZGl1cyI6IDUsCiAgInN0cm9rZSI6IHRydWUsCiAgIndlaWdodCI6IDMKfQogICAgICAgICAgICAgICAgKS5hZGRUbyhtYXBfYzYzM2YwMWRiNDc3NDYwYzljMTI3Nzk3NDA2ZTdjZjcpOwogICAgICAgICAgICAKICAgIAogICAgICAgICAgICB2YXIgcG9wdXBfZmVkZDQwOGRiMTA3NDI5MTljNTE1YTljN2ZiMTVlOWUgPSBMLnBvcHVwKHttYXhXaWR0aDogJzMwMCd9KTsKCiAgICAgICAgICAgIAogICAgICAgICAgICAgICAgdmFyIGh0bWxfOTkxMGYyYTUwZjA5NDY5Mjg3YmZiNjExNmMyMjY0ZDEgPSAkKCc8ZGl2IGlkPSJodG1sXzk5MTBmMmE1MGYwOTQ2OTI4N2JmYjYxMTZjMjI2NGQxIiBzdHlsZT0id2lkdGg6IDEwMC4wJTsgaGVpZ2h0OiAxMDAuMCU7Ij5GcmVhayBBbGxleSBNdXJhbCBQcm9qZWN0LCBBcnQgR2FsbGVyeTwvZGl2PicpWzBdOwogICAgICAgICAgICAgICAgcG9wdXBfZmVkZDQwOGRiMTA3NDI5MTljNTE1YTljN2ZiMTVlOWUuc2V0Q29udGVudChodG1sXzk5MTBmMmE1MGYwOTQ2OTI4N2JmYjYxMTZjMjI2NGQxKTsKICAgICAgICAgICAgCgogICAgICAgICAgICBjaXJjbGVfbWFya2VyXzVmOWNmNGExNzk0NTQyNzlhZDYwNjZmMWM4ODI2MmVmLmJpbmRQb3B1cChwb3B1cF9mZWRkNDA4ZGIxMDc0MjkxOWM1MTVhOWM3ZmIxNWU5ZSk7CgogICAgICAgICAgICAKICAgICAgICAKICAgIAogICAgICAgICAgICB2YXIgY2lyY2xlX21hcmtlcl9mMDU5NjI3MDQ2YWY0ZTM0OWQyNGUyNWY3OGM1M2M2OSA9IEwuY2lyY2xlTWFya2VyKAogICAgICAgICAgICAgICAgWzQzLjYxNjE1MDY4MzcwNTkyNSwtMTE2LjIwMjM0OTg5Mzg1MDU3XSwKICAgICAgICAgICAgICAgIHsKICAiYnViYmxpbmdNb3VzZUV2ZW50cyI6IHRydWUsCiAgImNvbG9yIjogImJsdWUiLAogICJkYXNoQXJyYXkiOiBudWxsLAogICJkYXNoT2Zmc2V0IjogbnVsbCwKICAiZmlsbCI6IHRydWUsCiAgImZpbGxDb2xvciI6ICIjMzE4NmNjIiwKICAiZmlsbE9wYWNpdHkiOiAwLjcsCiAgImZpbGxSdWxlIjogImV2ZW5vZGQiLAogICJsaW5lQ2FwIjogInJvdW5kIiwKICAibGluZUpvaW4iOiAicm91bmQiLAogICJvcGFjaXR5IjogMS4wLAogICJyYWRpdXMiOiA1LAogICJzdHJva2UiOiB0cnVlLAogICJ3ZWlnaHQiOiAzCn0KICAgICAgICAgICAgICAgICkuYWRkVG8obWFwX2M2MzNmMDFkYjQ3NzQ2MGM5YzEyNzc5NzQwNmU3Y2Y3KTsKICAgICAgICAgICAgCiAgICAKICAgICAgICAgICAgdmFyIHBvcHVwXzhkMTk0MDUxM2RhNDQ2N2Y5YjYzZmYyZTQ1ZmMxY2ZkID0gTC5wb3B1cCh7bWF4V2lkdGg6ICczMDAnfSk7CgogICAgICAgICAgICAKICAgICAgICAgICAgICAgIHZhciBodG1sXzdmNGEyNjQ2M2NmMTQ1YTNhYzNlZDUyNDI4NWUwY2Y4ID0gJCgnPGRpdiBpZD0iaHRtbF83ZjRhMjY0NjNjZjE0NWEzYWMzZWQ1MjQyODVlMGNmOCIgc3R5bGU9IndpZHRoOiAxMDAuMCU7IGhlaWdodDogMTAwLjAlOyI+SGVpcmxvb20gRGFuY2UgU3R1ZGlvLCBEYW5jZSBTdHVkaW88L2Rpdj4nKVswXTsKICAgICAgICAgICAgICAgIHBvcHVwXzhkMTk0MDUxM2RhNDQ2N2Y5YjYzZmYyZTQ1ZmMxY2ZkLnNldENvbnRlbnQoaHRtbF83ZjRhMjY0NjNjZjE0NWEzYWMzZWQ1MjQyODVlMGNmOCk7CiAgICAgICAgICAgIAoKICAgICAgICAgICAgY2lyY2xlX21hcmtlcl9mMDU5NjI3MDQ2YWY0ZTM0OWQyNGUyNWY3OGM1M2M2OS5iaW5kUG9wdXAocG9wdXBfOGQxOTQwNTEzZGE0NDY3ZjliNjNmZjJlNDVmYzFjZmQpOwoKICAgICAgICAgICAgCiAgICAgICAgCiAgICAKICAgICAgICAgICAgdmFyIGNpcmNsZV9tYXJrZXJfNDNjYjgyYWNhMjA3NGJjYjgyMjFkYWRhMDhkZTg1NTIgPSBMLmNpcmNsZU1hcmtlcigKICAgICAgICAgICAgICAgIFs0My42MTcyNTYxNjQ1NTA3OCwtMTE2LjIwMDMzMjY0MTYwMTU2XSwKICAgICAgICAgICAgICAgIHsKICAiYnViYmxpbmdNb3VzZUV2ZW50cyI6IHRydWUsCiAgImNvbG9yIjogImJsdWUiLAogICJkYXNoQXJyYXkiOiBudWxsLAogICJkYXNoT2Zmc2V0IjogbnVsbCwKICAiZmlsbCI6IHRydWUsCiAgImZpbGxDb2xvciI6ICIjMzE4NmNjIiwKICAiZmlsbE9wYWNpdHkiOiAwLjcsCiAgImZpbGxSdWxlIjogImV2ZW5vZGQiLAogICJsaW5lQ2FwIjogInJvdW5kIiwKICAibGluZUpvaW4iOiAicm91bmQiLAogICJvcGFjaXR5IjogMS4wLAogICJyYWRpdXMiOiA1LAogICJzdHJva2UiOiB0cnVlLAogICJ3ZWlnaHQiOiAzCn0KICAgICAgICAgICAgICAgICkuYWRkVG8obWFwX2M2MzNmMDFkYjQ3NzQ2MGM5YzEyNzc5NzQwNmU3Y2Y3KTsKICAgICAgICAgICAgCiAgICAKICAgICAgICAgICAgdmFyIHBvcHVwX2I1NzFiZmZmMmZjMzRmODNiZjNkMTZhMGM5MTVhNzFhID0gTC5wb3B1cCh7bWF4V2lkdGg6ICczMDAnfSk7CgogICAgICAgICAgICAKICAgICAgICAgICAgICAgIHZhciBodG1sXzg4OWQ0NDA2Mjg0YTRhOWY5ODYwMmVmNzZhYTFmOTMzID0gJCgnPGRpdiBpZD0iaHRtbF84ODlkNDQwNjI4NGE0YTlmOTg2MDJlZjc2YWExZjkzMyIgc3R5bGU9IndpZHRoOiAxMDAuMCU7IGhlaWdodDogMTAwLjAlOyI+RnJhbmsgU3RldW5lbmJlcmcgU3RhdHVlLCBPdXRkb29yIFNjdWxwdHVyZTwvZGl2PicpWzBdOwogICAgICAgICAgICAgICAgcG9wdXBfYjU3MWJmZmYyZmMzNGY4M2JmM2QxNmEwYzkxNWE3MWEuc2V0Q29udGVudChodG1sXzg4OWQ0NDA2Mjg0YTRhOWY5ODYwMmVmNzZhYTFmOTMzKTsKICAgICAgICAgICAgCgogICAgICAgICAgICBjaXJjbGVfbWFya2VyXzQzY2I4MmFjYTIwNzRiY2I4MjIxZGFkYTA4ZGU4NTUyLmJpbmRQb3B1cChwb3B1cF9iNTcxYmZmZjJmYzM0ZjgzYmYzZDE2YTBjOTE1YTcxYSk7CgogICAgICAgICAgICAKICAgICAgICAKICAgIAogICAgICAgICAgICB2YXIgY2lyY2xlX21hcmtlcl9mYjgwNWZlZTM5OTE0NzQ1YmFiODQzMTc0ODEyODQxMCA9IEwuY2lyY2xlTWFya2VyKAogICAgICAgICAgICAgICAgWzQzLjYxNjg1LC0xMTYuMjAxMDFdLAogICAgICAgICAgICAgICAgewogICJidWJibGluZ01vdXNlRXZlbnRzIjogdHJ1ZSwKICAiY29sb3IiOiAiYmx1ZSIsCiAgImRhc2hBcnJheSI6IG51bGwsCiAgImRhc2hPZmZzZXQiOiBudWxsLAogICJmaWxsIjogdHJ1ZSwKICAiZmlsbENvbG9yIjogIiMzMTg2Y2MiLAogICJmaWxsT3BhY2l0eSI6IDAuNywKICAiZmlsbFJ1bGUiOiAiZXZlbm9kZCIsCiAgImxpbmVDYXAiOiAicm91bmQiLAogICJsaW5lSm9pbiI6ICJyb3VuZCIsCiAgIm9wYWNpdHkiOiAxLjAsCiAgInJhZGl1cyI6IDUsCiAgInN0cm9rZSI6IHRydWUsCiAgIndlaWdodCI6IDMKfQogICAgICAgICAgICAgICAgKS5hZGRUbyhtYXBfYzYzM2YwMWRiNDc3NDYwYzljMTI3Nzk3NDA2ZTdjZjcpOwogICAgICAgICAgICAKICAgIAogICAgICAgICAgICB2YXIgcG9wdXBfM2I2N2JlZGVjZDY1NDc5ZWI5MTI4Mzk5MjUxZTQwZDIgPSBMLnBvcHVwKHttYXhXaWR0aDogJzMwMCd9KTsKCiAgICAgICAgICAgIAogICAgICAgICAgICAgICAgdmFyIGh0bWxfMTljNmFjNDQ5NzY1NDVlYzhmYmQ1Y2JjZTQyNzRiYmUgPSAkKCc8ZGl2IGlkPSJodG1sXzE5YzZhYzQ0OTc2NTQ1ZWM4ZmJkNWNiY2U0Mjc0YmJlIiBzdHlsZT0id2lkdGg6IDEwMC4wJTsgaGVpZ2h0OiAxMDAuMCU7Ij5Ib3NwaXRhbGl0eSBvZiB0aGUgTmV6IFBlcmNlLCBPdXRkb29yIFNjdWxwdHVyZTwvZGl2PicpWzBdOwogICAgICAgICAgICAgICAgcG9wdXBfM2I2N2JlZGVjZDY1NDc5ZWI5MTI4Mzk5MjUxZTQwZDIuc2V0Q29udGVudChodG1sXzE5YzZhYzQ0OTc2NTQ1ZWM4ZmJkNWNiY2U0Mjc0YmJlKTsKICAgICAgICAgICAgCgogICAgICAgICAgICBjaXJjbGVfbWFya2VyX2ZiODA1ZmVlMzk5MTQ3NDViYWI4NDMxNzQ4MTI4NDEwLmJpbmRQb3B1cChwb3B1cF8zYjY3YmVkZWNkNjU0NzllYjkxMjgzOTkyNTFlNDBkMik7CgogICAgICAgICAgICAKICAgICAgICAKICAgIAogICAgICAgICAgICB2YXIgY2lyY2xlX21hcmtlcl9mZDcyMmU4YTNkNzM0NjhhOWQ1YjRmMTJiMWMxNThiYSA9IEwuY2lyY2xlTWFya2VyKAogICAgICAgICAgICAgICAgWzQzLjYwNjQyODYxODU1MDI0LC0xMTYuMjA3OTc3NzU1NTQ4MjFdLAogICAgICAgICAgICAgICAgewogICJidWJibGluZ01vdXNlRXZlbnRzIjogdHJ1ZSwKICAiY29sb3IiOiAiYmx1ZSIsCiAgImRhc2hBcnJheSI6IG51bGwsCiAgImRhc2hPZmZzZXQiOiBudWxsLAogICJmaWxsIjogdHJ1ZSwKICAiZmlsbENvbG9yIjogIiMzMTg2Y2MiLAogICJmaWxsT3BhY2l0eSI6IDAuNywKICAiZmlsbFJ1bGUiOiAiZXZlbm9kZCIsCiAgImxpbmVDYXAiOiAicm91bmQiLAogICJsaW5lSm9pbiI6ICJyb3VuZCIsCiAgIm9wYWNpdHkiOiAxLjAsCiAgInJhZGl1cyI6IDUsCiAgInN0cm9rZSI6IHRydWUsCiAgIndlaWdodCI6IDMKfQogICAgICAgICAgICAgICAgKS5hZGRUbyhtYXBfYzYzM2YwMWRiNDc3NDYwYzljMTI3Nzk3NDA2ZTdjZjcpOwogICAgICAgICAgICAKICAgIAogICAgICAgICAgICB2YXIgcG9wdXBfOGMyZGExMTUyYzBhNDE1NWE2MWEzNzM5YWMzZjZjY2UgPSBMLnBvcHVwKHttYXhXaWR0aDogJzMwMCd9KTsKCiAgICAgICAgICAgIAogICAgICAgICAgICAgICAgdmFyIGh0bWxfOWRmOTU3ODY0NTBiNDFmMmE1OGI4Y2MyYzU4MWYxYjkgPSAkKCc8ZGl2IGlkPSJodG1sXzlkZjk1Nzg2NDUwYjQxZjJhNThiOGNjMmM1ODFmMWI5IiBzdHlsZT0id2lkdGg6IDEwMC4wJTsgaGVpZ2h0OiAxMDAuMCU7Ij5tb3JyaXNvbiBjZW50ZXIgcGFya2luZyBsb3QsIFRoZWF0ZXI8L2Rpdj4nKVswXTsKICAgICAgICAgICAgICAgIHBvcHVwXzhjMmRhMTE1MmMwYTQxNTVhNjFhMzczOWFjM2Y2Y2NlLnNldENvbnRlbnQoaHRtbF85ZGY5NTc4NjQ1MGI0MWYyYTU4YjhjYzJjNTgxZjFiOSk7CiAgICAgICAgICAgIAoKICAgICAgICAgICAgY2lyY2xlX21hcmtlcl9mZDcyMmU4YTNkNzM0NjhhOWQ1YjRmMTJiMWMxNThiYS5iaW5kUG9wdXAocG9wdXBfOGMyZGExMTUyYzBhNDE1NWE2MWEzNzM5YWMzZjZjY2UpOwoKICAgICAgICAgICAgCiAgICAgICAgCiAgICAKICAgICAgICAgICAgdmFyIGNpcmNsZV9tYXJrZXJfMzQwMGExODdjMGMzNDg2YWI3ZTM1ZjUyM2NjZTk5MWQgPSBMLmNpcmNsZU1hcmtlcigKICAgICAgICAgICAgICAgIFs0My42MTE3NzkwNTUyOTg3MDUsLTExNi4yMDMwMTgyMzU1Nzk1OV0sCiAgICAgICAgICAgICAgICB7CiAgImJ1YmJsaW5nTW91c2VFdmVudHMiOiB0cnVlLAogICJjb2xvciI6ICJibHVlIiwKICAiZGFzaEFycmF5IjogbnVsbCwKICAiZGFzaE9mZnNldCI6IG51bGwsCiAgImZpbGwiOiB0cnVlLAogICJmaWxsQ29sb3IiOiAiIzMxODZjYyIsCiAgImZpbGxPcGFjaXR5IjogMC43LAogICJmaWxsUnVsZSI6ICJldmVub2RkIiwKICAibGluZUNhcCI6ICJyb3VuZCIsCiAgImxpbmVKb2luIjogInJvdW5kIiwKICAib3BhY2l0eSI6IDEuMCwKICAicmFkaXVzIjogNSwKICAic3Ryb2tlIjogdHJ1ZSwKICAid2VpZ2h0IjogMwp9CiAgICAgICAgICAgICAgICApLmFkZFRvKG1hcF9jNjMzZjAxZGI0Nzc0NjBjOWMxMjc3OTc0MDZlN2NmNyk7CiAgICAgICAgICAgIAogICAgCiAgICAgICAgICAgIHZhciBwb3B1cF82MzYwZDZiMjIyNzQ0ZDkzOTJmNWExMGNmZDQ4YWNlZCA9IEwucG9wdXAoe21heFdpZHRoOiAnMzAwJ30pOwoKICAgICAgICAgICAgCiAgICAgICAgICAgICAgICB2YXIgaHRtbF9iYjYyNmQ5ODc1YWI0OTQwYjQyMzM1MTJiYmUyYTQyYSA9ICQoJzxkaXYgaWQ9Imh0bWxfYmI2MjZkOTg3NWFiNDk0MGI0MjMzNTEyYmJlMmE0MmEiIHN0eWxlPSJ3aWR0aDogMTAwLjAlOyBoZWlnaHQ6IDEwMC4wJTsiPlRoZSBWZW51ZSwgUm9jayBDbHViPC9kaXY+JylbMF07CiAgICAgICAgICAgICAgICBwb3B1cF82MzYwZDZiMjIyNzQ0ZDkzOTJmNWExMGNmZDQ4YWNlZC5zZXRDb250ZW50KGh0bWxfYmI2MjZkOTg3NWFiNDk0MGI0MjMzNTEyYmJlMmE0MmEpOwogICAgICAgICAgICAKCiAgICAgICAgICAgIGNpcmNsZV9tYXJrZXJfMzQwMGExODdjMGMzNDg2YWI3ZTM1ZjUyM2NjZTk5MWQuYmluZFBvcHVwKHBvcHVwXzYzNjBkNmIyMjI3NDRkOTM5MmY1YTEwY2ZkNDhhY2VkKTsKCiAgICAgICAgICAgIAogICAgICAgIAogICAgCiAgICAgICAgICAgIHZhciBjaXJjbGVfbWFya2VyX2I0ZDM4YjMwZGY0NDRjMzJhYmFjMmE5ODZjOWYzZGU3ID0gTC5jaXJjbGVNYXJrZXIoCiAgICAgICAgICAgICAgICBbNDMuNjEyNzY4NzM2NTMzMzU0LC0xMTYuMjA3MTQ0MjIyODcyMjRdLAogICAgICAgICAgICAgICAgewogICJidWJibGluZ01vdXNlRXZlbnRzIjogdHJ1ZSwKICAiY29sb3IiOiAiYmx1ZSIsCiAgImRhc2hBcnJheSI6IG51bGwsCiAgImRhc2hPZmZzZXQiOiBudWxsLAogICJmaWxsIjogdHJ1ZSwKICAiZmlsbENvbG9yIjogIiMzMTg2Y2MiLAogICJmaWxsT3BhY2l0eSI6IDAuNywKICAiZmlsbFJ1bGUiOiAiZXZlbm9kZCIsCiAgImxpbmVDYXAiOiAicm91bmQiLAogICJsaW5lSm9pbiI6ICJyb3VuZCIsCiAgIm9wYWNpdHkiOiAxLjAsCiAgInJhZGl1cyI6IDUsCiAgInN0cm9rZSI6IHRydWUsCiAgIndlaWdodCI6IDMKfQogICAgICAgICAgICAgICAgKS5hZGRUbyhtYXBfYzYzM2YwMWRiNDc3NDYwYzljMTI3Nzk3NDA2ZTdjZjcpOwogICAgICAgICAgICAKICAgIAogICAgICAgICAgICB2YXIgcG9wdXBfMDE2ZGNlZmJkZGE0NDBjNDkxYWJiYjM1Njg1NTE5NzggPSBMLnBvcHVwKHttYXhXaWR0aDogJzMwMCd9KTsKCiAgICAgICAgICAgIAogICAgICAgICAgICAgICAgdmFyIGh0bWxfODFlZDJmZjNhNjI4NGMxOGJmNDE2OTU0NDM2MjNjM2YgPSAkKCc8ZGl2IGlkPSJodG1sXzgxZWQyZmYzYTYyODRjMThiZjQxNjk1NDQzNjIzYzNmIiBzdHlsZT0id2lkdGg6IDEwMC4wJTsgaGVpZ2h0OiAxMDAuMCU7Ij5CYWxsZXQgSWRhaG8sIERhbmNlIFN0dWRpbzwvZGl2PicpWzBdOwogICAgICAgICAgICAgICAgcG9wdXBfMDE2ZGNlZmJkZGE0NDBjNDkxYWJiYjM1Njg1NTE5Nzguc2V0Q29udGVudChodG1sXzgxZWQyZmYzYTYyODRjMThiZjQxNjk1NDQzNjIzYzNmKTsKICAgICAgICAgICAgCgogICAgICAgICAgICBjaXJjbGVfbWFya2VyX2I0ZDM4YjMwZGY0NDRjMzJhYmFjMmE5ODZjOWYzZGU3LmJpbmRQb3B1cChwb3B1cF8wMTZkY2VmYmRkYTQ0MGM0OTFhYmJiMzU2ODU1MTk3OCk7CgogICAgICAgICAgICAKICAgICAgICAKICAgIAogICAgICAgICAgICB2YXIgY2lyY2xlX21hcmtlcl82YTUwODY1NGUwZTI0YmNlOThhMDhjMTA5Njg5YWY5YiA9IEwuY2lyY2xlTWFya2VyKAogICAgICAgICAgICAgICAgWzQzLjYxNjYxLC0xMTYuMjA5MjM3XSwKICAgICAgICAgICAgICAgIHsKICAiYnViYmxpbmdNb3VzZUV2ZW50cyI6IHRydWUsCiAgImNvbG9yIjogImJsdWUiLAogICJkYXNoQXJyYXkiOiBudWxsLAogICJkYXNoT2Zmc2V0IjogbnVsbCwKICAiZmlsbCI6IHRydWUsCiAgImZpbGxDb2xvciI6ICIjMzE4NmNjIiwKICAiZmlsbE9wYWNpdHkiOiAwLjcsCiAgImZpbGxSdWxlIjogImV2ZW5vZGQiLAogICJsaW5lQ2FwIjogInJvdW5kIiwKICAibGluZUpvaW4iOiAicm91bmQiLAogICJvcGFjaXR5IjogMS4wLAogICJyYWRpdXMiOiA1LAogICJzdHJva2UiOiB0cnVlLAogICJ3ZWlnaHQiOiAzCn0KICAgICAgICAgICAgICAgICkuYWRkVG8obWFwX2M2MzNmMDFkYjQ3NzQ2MGM5YzEyNzc5NzQwNmU3Y2Y3KTsKICAgICAgICAgICAgCiAgICAKICAgICAgICAgICAgdmFyIHBvcHVwX2NjMWVhZjBmYWNhZDQwZTk5NzJiZTFlNmYxMGZkYTFkID0gTC5wb3B1cCh7bWF4V2lkdGg6ICczMDAnfSk7CgogICAgICAgICAgICAKICAgICAgICAgICAgICAgIHZhciBodG1sX2Q0NjViZjI0YTdmMjQ0NjViMDE3ODY3ZWFmZmQxOTA1ID0gJCgnPGRpdiBpZD0iaHRtbF9kNDY1YmYyNGE3ZjI0NDY1YjAxNzg2N2VhZmZkMTkwNSIgc3R5bGU9IndpZHRoOiAxMDAuMCU7IGhlaWdodDogMTAwLjAlOyI+Qm9pc2UgQXJ0IEdsYXNzLCBBcnQgR2FsbGVyeTwvZGl2PicpWzBdOwogICAgICAgICAgICAgICAgcG9wdXBfY2MxZWFmMGZhY2FkNDBlOTk3MmJlMWU2ZjEwZmRhMWQuc2V0Q29udGVudChodG1sX2Q0NjViZjI0YTdmMjQ0NjViMDE3ODY3ZWFmZmQxOTA1KTsKICAgICAgICAgICAgCgogICAgICAgICAgICBjaXJjbGVfbWFya2VyXzZhNTA4NjU0ZTBlMjRiY2U5OGEwOGMxMDk2ODlhZjliLmJpbmRQb3B1cChwb3B1cF9jYzFlYWYwZmFjYWQ0MGU5OTcyYmUxZTZmMTBmZGExZCk7CgogICAgICAgICAgICAKICAgICAgICAKICAgIAogICAgICAgICAgICB2YXIgY2lyY2xlX21hcmtlcl8xN2QwNWFhMDcyYmE0ZDQwOWJjZjFlZTI4M2JjYTZiOSA9IEwuY2lyY2xlTWFya2VyKAogICAgICAgICAgICAgICAgWzQzLjYxNDc3MzYyNTMwODE5NiwtMTE2LjE5MTIzNDMyODYyMjg4XSwKICAgICAgICAgICAgICAgIHsKICAiYnViYmxpbmdNb3VzZUV2ZW50cyI6IHRydWUsCiAgImNvbG9yIjogImJsdWUiLAogICJkYXNoQXJyYXkiOiBudWxsLAogICJkYXNoT2Zmc2V0IjogbnVsbCwKICAiZmlsbCI6IHRydWUsCiAgImZpbGxDb2xvciI6ICIjMzE4NmNjIiwKICAiZmlsbE9wYWNpdHkiOiAwLjcsCiAgImZpbGxSdWxlIjogImV2ZW5vZGQiLAogICJsaW5lQ2FwIjogInJvdW5kIiwKICAibGluZUpvaW4iOiAicm91bmQiLAogICJvcGFjaXR5IjogMS4wLAogICJyYWRpdXMiOiA1LAogICJzdHJva2UiOiB0cnVlLAogICJ3ZWlnaHQiOiAzCn0KICAgICAgICAgICAgICAgICkuYWRkVG8obWFwX2M2MzNmMDFkYjQ3NzQ2MGM5YzEyNzc5NzQwNmU3Y2Y3KTsKICAgICAgICAgICAgCiAgICAKICAgICAgICAgICAgdmFyIHBvcHVwXzRlYzIxMWNkNmIyNzRlMDJhMDJiNTA3NmZiZTgwMmU1ID0gTC5wb3B1cCh7bWF4V2lkdGg6ICczMDAnfSk7CgogICAgICAgICAgICAKICAgICAgICAgICAgICAgIHZhciBodG1sXzBkNzQ2NGQ3N2VkMTQ2YmRhZjhjMzA2NGIyYzdjNDY1ID0gJCgnPGRpdiBpZD0iaHRtbF8wZDc0NjRkNzdlZDE0NmJkYWY4YzMwNjRiMmM3YzQ2NSIgc3R5bGU9IndpZHRoOiAxMDAuMCU7IGhlaWdodDogMTAwLjAlOyI+Qm9pc2UgTGl0dGxlIFRoZWF0ZXIsIFRoZWF0ZXI8L2Rpdj4nKVswXTsKICAgICAgICAgICAgICAgIHBvcHVwXzRlYzIxMWNkNmIyNzRlMDJhMDJiNTA3NmZiZTgwMmU1LnNldENvbnRlbnQoaHRtbF8wZDc0NjRkNzdlZDE0NmJkYWY4YzMwNjRiMmM3YzQ2NSk7CiAgICAgICAgICAgIAoKICAgICAgICAgICAgY2lyY2xlX21hcmtlcl8xN2QwNWFhMDcyYmE0ZDQwOWJjZjFlZTI4M2JjYTZiOS5iaW5kUG9wdXAocG9wdXBfNGVjMjExY2Q2YjI3NGUwMmEwMmI1MDc2ZmJlODAyZTUpOwoKICAgICAgICAgICAgCiAgICAgICAgCiAgICAKICAgICAgICAgICAgdmFyIGNpcmNsZV9tYXJrZXJfZDgzNjQwNzg2ZmMxNDVjYzllNGJlMzY2YTdlN2ViZTggPSBMLmNpcmNsZU1hcmtlcigKICAgICAgICAgICAgICAgIFs0My42MTczMzE5MzQwMjUzLC0xMTYuMjA2MzkxMjg2MTg1NjhdLAogICAgICAgICAgICAgICAgewogICJidWJibGluZ01vdXNlRXZlbnRzIjogdHJ1ZSwKICAiY29sb3IiOiAiYmx1ZSIsCiAgImRhc2hBcnJheSI6IG51bGwsCiAgImRhc2hPZmZzZXQiOiBudWxsLAogICJmaWxsIjogdHJ1ZSwKICAiZmlsbENvbG9yIjogIiMzMTg2Y2MiLAogICJmaWxsT3BhY2l0eSI6IDAuNywKICAiZmlsbFJ1bGUiOiAiZXZlbm9kZCIsCiAgImxpbmVDYXAiOiAicm91bmQiLAogICJsaW5lSm9pbiI6ICJyb3VuZCIsCiAgIm9wYWNpdHkiOiAxLjAsCiAgInJhZGl1cyI6IDUsCiAgInN0cm9rZSI6IHRydWUsCiAgIndlaWdodCI6IDMKfQogICAgICAgICAgICAgICAgKS5hZGRUbyhtYXBfYzYzM2YwMWRiNDc3NDYwYzljMTI3Nzk3NDA2ZTdjZjcpOwogICAgICAgICAgICAKICAgIAogICAgICAgICAgICB2YXIgcG9wdXBfOWQ4MTMzMTYwZmYxNDk1NThmODlkYTBiM2U5MmE0NTUgPSBMLnBvcHVwKHttYXhXaWR0aDogJzMwMCd9KTsKCiAgICAgICAgICAgIAogICAgICAgICAgICAgICAgdmFyIGh0bWxfYWQwNTYxNjA0ZjYxNDcyMThmMzE2MjRiNTQyY2E4MTAgPSAkKCc8ZGl2IGlkPSJodG1sX2FkMDU2MTYwNGY2MTQ3MjE4ZjMxNjI0YjU0MmNhODEwIiBzdHlsZT0id2lkdGg6IDEwMC4wJTsgaGVpZ2h0OiAxMDAuMCU7Ij5UaGUgQm91cXVldCwgUm9jayBDbHViPC9kaXY+JylbMF07CiAgICAgICAgICAgICAgICBwb3B1cF85ZDgxMzMxNjBmZjE0OTU1OGY4OWRhMGIzZTkyYTQ1NS5zZXRDb250ZW50KGh0bWxfYWQwNTYxNjA0ZjYxNDcyMThmMzE2MjRiNTQyY2E4MTApOwogICAgICAgICAgICAKCiAgICAgICAgICAgIGNpcmNsZV9tYXJrZXJfZDgzNjQwNzg2ZmMxNDVjYzllNGJlMzY2YTdlN2ViZTguYmluZFBvcHVwKHBvcHVwXzlkODEzMzE2MGZmMTQ5NTU4Zjg5ZGEwYjNlOTJhNDU1KTsKCiAgICAgICAgICAgIAogICAgICAgIAogICAgCiAgICAgICAgICAgIHZhciBjaXJjbGVfbWFya2VyX2I0NmFmNjE5OGExYTQ2MTFhZTY1YTQ4MzY0YTNiYzJjID0gTC5jaXJjbGVNYXJrZXIoCiAgICAgICAgICAgICAgICBbNDMuNjA0NzgwOTc1NTU5NjQsLTExNi4yMTY5ODg3Mjc0MTI1XSwKICAgICAgICAgICAgICAgIHsKICAiYnViYmxpbmdNb3VzZUV2ZW50cyI6IHRydWUsCiAgImNvbG9yIjogImJsdWUiLAogICJkYXNoQXJyYXkiOiBudWxsLAogICJkYXNoT2Zmc2V0IjogbnVsbCwKICAiZmlsbCI6IHRydWUsCiAgImZpbGxDb2xvciI6ICIjMzE4NmNjIiwKICAiZmlsbE9wYWNpdHkiOiAwLjcsCiAgImZpbGxSdWxlIjogImV2ZW5vZGQiLAogICJsaW5lQ2FwIjogInJvdW5kIiwKICAibGluZUpvaW4iOiAicm91bmQiLAogICJvcGFjaXR5IjogMS4wLAogICJyYWRpdXMiOiA1LAogICJzdHJva2UiOiB0cnVlLAogICJ3ZWlnaHQiOiAzCn0KICAgICAgICAgICAgICAgICkuYWRkVG8obWFwX2M2MzNmMDFkYjQ3NzQ2MGM5YzEyNzc5NzQwNmU3Y2Y3KTsKICAgICAgICAgICAgCiAgICAKICAgICAgICAgICAgdmFyIHBvcHVwXzhlNmM4YmY3YzE3NjRjYjc5ZGNlZWUxMzFiNjc0NTY1ID0gTC5wb3B1cCh7bWF4V2lkdGg6ICczMDAnfSk7CgogICAgICAgICAgICAKICAgICAgICAgICAgICAgIHZhciBodG1sXzRkZjQ3NTU2NTkyMTQyNDBiZjQ1NTlmNjk4ODhhNjlmID0gJCgnPGRpdiBpZD0iaHRtbF80ZGY0NzU1NjU5MjE0MjQwYmY0NTU5ZjY5ODg4YTY5ZiIgc3R5bGU9IndpZHRoOiAxMDAuMCU7IGhlaWdodDogMTAwLjAlOyI+QW5uIE1vcmlzc29uIERpc2MgR29sZiwgRGlzYyBHb2xmPC9kaXY+JylbMF07CiAgICAgICAgICAgICAgICBwb3B1cF84ZTZjOGJmN2MxNzY0Y2I3OWRjZWVlMTMxYjY3NDU2NS5zZXRDb250ZW50KGh0bWxfNGRmNDc1NTY1OTIxNDI0MGJmNDU1OWY2OTg4OGE2OWYpOwogICAgICAgICAgICAKCiAgICAgICAgICAgIGNpcmNsZV9tYXJrZXJfYjQ2YWY2MTk4YTFhNDYxMWFlNjVhNDgzNjRhM2JjMmMuYmluZFBvcHVwKHBvcHVwXzhlNmM4YmY3YzE3NjRjYjc5ZGNlZWUxMzFiNjc0NTY1KTsKCiAgICAgICAgICAgIAogICAgICAgIAogICAgCiAgICAgICAgICAgIHZhciBjaXJjbGVfbWFya2VyXzYyYTM1ZDg4ZDNkMjQ1M2U5OTEzZGUxYzlhNWQ3ZTNiID0gTC5jaXJjbGVNYXJrZXIoCiAgICAgICAgICAgICAgICBbNDMuNjA4MTYxNzY1MDIxOTksLTExNi4xOTc3NzkxNzg2MTkzOF0sCiAgICAgICAgICAgICAgICB7CiAgImJ1YmJsaW5nTW91c2VFdmVudHMiOiB0cnVlLAogICJjb2xvciI6ICJibHVlIiwKICAiZGFzaEFycmF5IjogbnVsbCwKICAiZGFzaE9mZnNldCI6IG51bGwsCiAgImZpbGwiOiB0cnVlLAogICJmaWxsQ29sb3IiOiAiIzMxODZjYyIsCiAgImZpbGxPcGFjaXR5IjogMC43LAogICJmaWxsUnVsZSI6ICJldmVub2RkIiwKICAibGluZUNhcCI6ICJyb3VuZCIsCiAgImxpbmVKb2luIjogInJvdW5kIiwKICAib3BhY2l0eSI6IDEuMCwKICAicmFkaXVzIjogNSwKICAic3Ryb2tlIjogdHJ1ZSwKICAid2VpZ2h0IjogMwp9CiAgICAgICAgICAgICAgICApLmFkZFRvKG1hcF9jNjMzZjAxZGI0Nzc0NjBjOWMxMjc3OTc0MDZlN2NmNyk7CiAgICAgICAgICAgIAogICAgCiAgICAgICAgICAgIHZhciBwb3B1cF8yMDU1OGYwNDNjZWQ0Zjc5YjUwNDM4ZWQ5MjFlZjczOSA9IEwucG9wdXAoe21heFdpZHRoOiAnMzAwJ30pOwoKICAgICAgICAgICAgCiAgICAgICAgICAgICAgICB2YXIgaHRtbF8wMmFlNjZkOGM4NTQ0NjIyOTcwMjA3Y2IyOGVlNGJkOCA9ICQoJzxkaXYgaWQ9Imh0bWxfMDJhZTY2ZDhjODU0NDYyMjk3MDIwN2NiMjhlZTRiZDgiIHN0eWxlPSJ3aWR0aDogMTAwLjAlOyBoZWlnaHQ6IDEwMC4wJTsiPkJvZGllcyBSZXZlYWxlZCwgTXVzZXVtPC9kaXY+JylbMF07CiAgICAgICAgICAgICAgICBwb3B1cF8yMDU1OGYwNDNjZWQ0Zjc5YjUwNDM4ZWQ5MjFlZjczOS5zZXRDb250ZW50KGh0bWxfMDJhZTY2ZDhjODU0NDYyMjk3MDIwN2NiMjhlZTRiZDgpOwogICAgICAgICAgICAKCiAgICAgICAgICAgIGNpcmNsZV9tYXJrZXJfNjJhMzVkODhkM2QyNDUzZTk5MTNkZTFjOWE1ZDdlM2IuYmluZFBvcHVwKHBvcHVwXzIwNTU4ZjA0M2NlZDRmNzliNTA0MzhlZDkyMWVmNzM5KTsKCiAgICAgICAgICAgIAogICAgICAgIAogICAgCiAgICAgICAgICAgIHZhciBjaXJjbGVfbWFya2VyX2Q2NzQ3ZWZkMDE1YTRlY2Y5MDJlYTA2NTEwNDNjY2U3ID0gTC5jaXJjbGVNYXJrZXIoCiAgICAgICAgICAgICAgICBbNDMuNjM0MzY3MDQxMDc4NDg0LC0xMTYuMjAyODA1Njc3MzA3NjddLAogICAgICAgICAgICAgICAgewogICJidWJibGluZ01vdXNlRXZlbnRzIjogdHJ1ZSwKICAiY29sb3IiOiAiYmx1ZSIsCiAgImRhc2hBcnJheSI6IG51bGwsCiAgImRhc2hPZmZzZXQiOiBudWxsLAogICJmaWxsIjogdHJ1ZSwKICAiZmlsbENvbG9yIjogIiMzMTg2Y2MiLAogICJmaWxsT3BhY2l0eSI6IDAuNywKICAiZmlsbFJ1bGUiOiAiZXZlbm9kZCIsCiAgImxpbmVDYXAiOiAicm91bmQiLAogICJsaW5lSm9pbiI6ICJyb3VuZCIsCiAgIm9wYWNpdHkiOiAxLjAsCiAgInJhZGl1cyI6IDUsCiAgInN0cm9rZSI6IHRydWUsCiAgIndlaWdodCI6IDMKfQogICAgICAgICAgICAgICAgKS5hZGRUbyhtYXBfYzYzM2YwMWRiNDc3NDYwYzljMTI3Nzk3NDA2ZTdjZjcpOwogICAgICAgICAgICAKICAgIAogICAgICAgICAgICB2YXIgcG9wdXBfZTNiYzAyMzM1YzY5NDcxYTkwODZhNTFiNjMxOTRhY2YgPSBMLnBvcHVwKHttYXhXaWR0aDogJzMwMCd9KTsKCiAgICAgICAgICAgIAogICAgICAgICAgICAgICAgdmFyIGh0bWxfODNlNjZiN2YzYjhkNDEwMGIzYjU3MDM3OWYzNzk2MTUgPSAkKCc8ZGl2IGlkPSJodG1sXzgzZTY2YjdmM2I4ZDQxMDBiM2I1NzAzNzlmMzc5NjE1IiBzdHlsZT0id2lkdGg6IDEwMC4wJTsgaGVpZ2h0OiAxMDAuMCU7Ij5IeWRlIFBhcmsgU3RyZWV0IEZhaXIsIFBlcmZvcm1pbmcgQXJ0cyBWZW51ZTwvZGl2PicpWzBdOwogICAgICAgICAgICAgICAgcG9wdXBfZTNiYzAyMzM1YzY5NDcxYTkwODZhNTFiNjMxOTRhY2Yuc2V0Q29udGVudChodG1sXzgzZTY2YjdmM2I4ZDQxMDBiM2I1NzAzNzlmMzc5NjE1KTsKICAgICAgICAgICAgCgogICAgICAgICAgICBjaXJjbGVfbWFya2VyX2Q2NzQ3ZWZkMDE1YTRlY2Y5MDJlYTA2NTEwNDNjY2U3LmJpbmRQb3B1cChwb3B1cF9lM2JjMDIzMzVjNjk0NzFhOTA4NmE1MWI2MzE5NGFjZik7CgogICAgICAgICAgICAKICAgICAgICAKICAgIAogICAgICAgICAgICB2YXIgY2lyY2xlX21hcmtlcl85MzM1MDYxZGVkNWQ0NDBhOGJlM2YzZjBlNzc2ZWVmMiA9IEwuY2lyY2xlTWFya2VyKAogICAgICAgICAgICAgICAgWzQzLjYyOTg4NiwtMTE2LjIwMzY0N10sCiAgICAgICAgICAgICAgICB7CiAgImJ1YmJsaW5nTW91c2VFdmVudHMiOiB0cnVlLAogICJjb2xvciI6ICJibHVlIiwKICAiZGFzaEFycmF5IjogbnVsbCwKICAiZGFzaE9mZnNldCI6IG51bGwsCiAgImZpbGwiOiB0cnVlLAogICJmaWxsQ29sb3IiOiAiIzMxODZjYyIsCiAgImZpbGxPcGFjaXR5IjogMC43LAogICJmaWxsUnVsZSI6ICJldmVub2RkIiwKICAibGluZUNhcCI6ICJyb3VuZCIsCiAgImxpbmVKb2luIjogInJvdW5kIiwKICAib3BhY2l0eSI6IDEuMCwKICAicmFkaXVzIjogNSwKICAic3Ryb2tlIjogdHJ1ZSwKICAid2VpZ2h0IjogMwp9CiAgICAgICAgICAgICAgICApLmFkZFRvKG1hcF9jNjMzZjAxZGI0Nzc0NjBjOWMxMjc3OTc0MDZlN2NmNyk7CiAgICAgICAgICAgIAogICAgCiAgICAgICAgICAgIHZhciBwb3B1cF84NWE1NTMxZTU0YTI0ZWU5YmM2ZWI0NDU5MzczZjYxZiA9IEwucG9wdXAoe21heFdpZHRoOiAnMzAwJ30pOwoKICAgICAgICAgICAgCiAgICAgICAgICAgICAgICB2YXIgaHRtbF9kZjRlNThlMDc1Yzg0NWQ1YTM0ZjJjOGU3MWQ2MjJiNyA9ICQoJzxkaXYgaWQ9Imh0bWxfZGY0ZTU4ZTA3NWM4NDVkNWEzNGYyYzhlNzFkNjIyYjciIHN0eWxlPSJ3aWR0aDogMTAwLjAlOyBoZWlnaHQ6IDEwMC4wJTsiPkJydW1maWVsZCYjMzk7cyBHYWxsZXJ5LCBBcnQgR2FsbGVyeTwvZGl2PicpWzBdOwogICAgICAgICAgICAgICAgcG9wdXBfODVhNTUzMWU1NGEyNGVlOWJjNmViNDQ1OTM3M2Y2MWYuc2V0Q29udGVudChodG1sX2RmNGU1OGUwNzVjODQ1ZDVhMzRmMmM4ZTcxZDYyMmI3KTsKICAgICAgICAgICAgCgogICAgICAgICAgICBjaXJjbGVfbWFya2VyXzkzMzUwNjFkZWQ1ZDQ0MGE4YmUzZjNmMGU3NzZlZWYyLmJpbmRQb3B1cChwb3B1cF84NWE1NTMxZTU0YTI0ZWU5YmM2ZWI0NDU5MzczZjYxZik7CgogICAgICAgICAgICAKICAgICAgICAKICAgIAogICAgICAgICAgICB2YXIgY2lyY2xlX21hcmtlcl85N2NlNTcyNGVhNWI0YjNiODc1NzU5NGZjMTk0ZDNmMCA9IEwuY2lyY2xlTWFya2VyKAogICAgICAgICAgICAgICAgWzQzLjYwMjMzMDQ4NjY2NzQ2LC0xMTYuMjAyNDIyNzI1NzEwODNdLAogICAgICAgICAgICAgICAgewogICJidWJibGluZ01vdXNlRXZlbnRzIjogdHJ1ZSwKICAiY29sb3IiOiAiYmx1ZSIsCiAgImRhc2hBcnJheSI6IG51bGwsCiAgImRhc2hPZmZzZXQiOiBudWxsLAogICJmaWxsIjogdHJ1ZSwKICAiZmlsbENvbG9yIjogIiMzMTg2Y2MiLAogICJmaWxsT3BhY2l0eSI6IDAuNywKICAiZmlsbFJ1bGUiOiAiZXZlbm9kZCIsCiAgImxpbmVDYXAiOiAicm91bmQiLAogICJsaW5lSm9pbiI6ICJyb3VuZCIsCiAgIm9wYWNpdHkiOiAxLjAsCiAgInJhZGl1cyI6IDUsCiAgInN0cm9rZSI6IHRydWUsCiAgIndlaWdodCI6IDMKfQogICAgICAgICAgICAgICAgKS5hZGRUbyhtYXBfYzYzM2YwMWRiNDc3NDYwYzljMTI3Nzk3NDA2ZTdjZjcpOwogICAgICAgICAgICAKICAgIAogICAgICAgICAgICB2YXIgcG9wdXBfZmFhZTZhY2IzZjU0NDAxNDg3MGRkYTJmZDM3ZmQ0NjEgPSBMLnBvcHVwKHttYXhXaWR0aDogJzMwMCd9KTsKCiAgICAgICAgICAgIAogICAgICAgICAgICAgICAgdmFyIGh0bWxfNDFiYzYxNjI1OGQ3NDQ1M2I5NDFlMmRjYmUwMjYxMGEgPSAkKCc8ZGl2IGlkPSJodG1sXzQxYmM2MTYyNThkNzQ0NTNiOTQxZTJkY2JlMDI2MTBhIiBzdHlsZT0id2lkdGg6IDEwMC4wJTsgaGVpZ2h0OiAxMDAuMCU7Ij5TcGVjaWFsIEV2ZW50IENlbnRlciwgUGVyZm9ybWluZyBBcnRzIFZlbnVlPC9kaXY+JylbMF07CiAgICAgICAgICAgICAgICBwb3B1cF9mYWFlNmFjYjNmNTQ0MDE0ODcwZGRhMmZkMzdmZDQ2MS5zZXRDb250ZW50KGh0bWxfNDFiYzYxNjI1OGQ3NDQ1M2I5NDFlMmRjYmUwMjYxMGEpOwogICAgICAgICAgICAKCiAgICAgICAgICAgIGNpcmNsZV9tYXJrZXJfOTdjZTU3MjRlYTViNGIzYjg3NTc1OTRmYzE5NGQzZjAuYmluZFBvcHVwKHBvcHVwX2ZhYWU2YWNiM2Y1NDQwMTQ4NzBkZGEyZmQzN2ZkNDYxKTsKCiAgICAgICAgICAgIAogICAgICAgIAo8L3NjcmlwdD4=\" style=\"position:absolute;width:100%;height:100%;left:0;top:0;border:none !important;\" allowfullscreen webkitallowfullscreen mozallowfullscreen></iframe></div></div>"
      ],
      "text/plain": [
       "<folium.folium.Map at 0x2357c817088>"
      ]
     },
     "execution_count": 302,
     "metadata": {},
     "output_type": "execute_result"
    }
   ],
   "source": [
    "# Boise, Idaho only locations\n",
    "BI_venues = city_venues[city_venues['City']=='Boise, Idaho']\n",
    "\n",
    "# Create map of Boise using latitude and longitude values\n",
    "address = 'Boise, Idaho'\n",
    "geolocator = Nominatim(user_agent=\"Boise_explorer\")\n",
    "location = geolocator.geocode(address)\n",
    "latitude = location.latitude\n",
    "longitude = location.longitude\n",
    "\n",
    "map_Boise = folium.Map(location=[latitude, longitude], zoom_start=14)\n",
    "\n",
    "# Add markers to map\n",
    "for lat, lng, city, venue, category in zip(BI_venues['Venue Latitude'], BI_venues['Venue Longitude'], BI_venues['City'], BI_venues['Venue'], BI_venues['Venue Category']):\n",
    "    label = '{}, {}'.format(venue, category)\n",
    "    label = folium.Popup(label, parse_html=True)\n",
    "    folium.CircleMarker(\n",
    "        [lat, lng],\n",
    "        radius=5,\n",
    "        popup=label,\n",
    "        color='blue',\n",
    "        fill=True,\n",
    "        fill_color='#3186cc',\n",
    "        fill_opacity=0.7,\n",
    "        parse_html=False).add_to(map_Boise)  \n",
    "    \n",
    "map_Boise"
   ]
  },
  {
   "cell_type": "code",
   "execution_count": 303,
   "metadata": {},
   "outputs": [
    {
     "data": {
      "text/html": [
       "<div style=\"width:100%;\"><div style=\"position:relative;width:100%;height:0;padding-bottom:60%;\"><iframe src=\"data:text/html;charset=utf-8;base64,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\" style=\"position:absolute;width:100%;height:100%;left:0;top:0;border:none !important;\" allowfullscreen webkitallowfullscreen mozallowfullscreen></iframe></div></div>"
      ],
      "text/plain": [
       "<folium.folium.Map at 0x2357a409648>"
      ]
     },
     "execution_count": 303,
     "metadata": {},
     "output_type": "execute_result"
    }
   ],
   "source": [
    "# Lincoln, Nebraska only locations\n",
    "LN_venues = city_venues[city_venues['City']=='Lincoln, Nebraska']\n",
    "\n",
    "# Create map of Overland Park using latitude and longitude values\n",
    "address = 'Lincoln, Nebraska'\n",
    "geolocator = Nominatim(user_agent=\"LN_explorer\")\n",
    "location = geolocator.geocode(address)\n",
    "latitude = location.latitude\n",
    "longitude = location.longitude\n",
    "\n",
    "map_LN = folium.Map(location=[latitude, longitude], zoom_start=14)\n",
    "\n",
    "# Add markers to map\n",
    "for lat, lng, city, venue, category in zip(LN_venues['Venue Latitude'], LN_venues['Venue Longitude'], LN_venues['City'], LN_venues['Venue'], LN_venues['Venue Category']):\n",
    "    label = '{}, {}'.format(venue, category)\n",
    "    label = folium.Popup(label, parse_html=True)\n",
    "    folium.CircleMarker(\n",
    "        [lat, lng],\n",
    "        radius=5,\n",
    "        popup=label,\n",
    "        color='blue',\n",
    "        fill=True,\n",
    "        fill_color='#3186cc',\n",
    "        fill_opacity=0.7,\n",
    "        parse_html=False).add_to(map_LN)  \n",
    "    \n",
    "map_LN"
   ]
  },
  {
   "cell_type": "markdown",
   "metadata": {},
   "source": [
    "## Methodology <a name=\"methodology\"></a>"
   ]
  },
  {
   "cell_type": "markdown",
   "metadata": {},
   "source": [
    "#### Now that I have data about venue categories and locations, I will now combine and categorize the city data to prepare the data for comparison"
   ]
  },
  {
   "cell_type": "markdown",
   "metadata": {},
   "source": [
    "### Combine and categorize city data"
   ]
  },
  {
   "cell_type": "markdown",
   "metadata": {},
   "source": [
    "#### Count of unique venue categories in each city"
   ]
  },
  {
   "cell_type": "code",
   "execution_count": 304,
   "metadata": {},
   "outputs": [
    {
     "name": "stdout",
     "output_type": "stream",
     "text": [
      "Unique category count for Madison, Wisconsin: 16\n",
      "Unique category count for Boise, Idaho: 17\n",
      "Unique category count for Lincoln, Nebraska: 14\n",
      "Unique category count for Manhattan, Kansas: 10\n"
     ]
    }
   ],
   "source": [
    "for city in range(0,len(cities)):\n",
    "    this_venue = city_venues[city_venues['City']==city_latlong.iloc[city,0]]\n",
    "    print('Unique category count for {}: {}'.format(cities[city], len(this_venue['Venue Category'].unique())))"
   ]
  },
  {
   "cell_type": "markdown",
   "metadata": {},
   "source": [
    "#### Set up dataframe with dummy variables for clustering"
   ]
  },
  {
   "cell_type": "code",
   "execution_count": 305,
   "metadata": {},
   "outputs": [
    {
     "data": {
      "text/html": [
       "<div>\n",
       "<style scoped>\n",
       "    .dataframe tbody tr th:only-of-type {\n",
       "        vertical-align: middle;\n",
       "    }\n",
       "\n",
       "    .dataframe tbody tr th {\n",
       "        vertical-align: top;\n",
       "    }\n",
       "\n",
       "    .dataframe thead th {\n",
       "        text-align: right;\n",
       "    }\n",
       "</style>\n",
       "<table border=\"1\" class=\"dataframe\">\n",
       "  <thead>\n",
       "    <tr style=\"text-align: right;\">\n",
       "      <th></th>\n",
       "      <th>City</th>\n",
       "      <th>Art Gallery</th>\n",
       "      <th>Art Museum</th>\n",
       "      <th>Arts &amp; Entertainment</th>\n",
       "      <th>Comedy Club</th>\n",
       "      <th>Concert Hall</th>\n",
       "      <th>Dance Studio</th>\n",
       "      <th>Disc Golf</th>\n",
       "      <th>History Museum</th>\n",
       "      <th>Indie Movie Theater</th>\n",
       "      <th>...</th>\n",
       "      <th>Outdoor Sculpture</th>\n",
       "      <th>Performing Arts Venue</th>\n",
       "      <th>Piano Bar</th>\n",
       "      <th>Planetarium</th>\n",
       "      <th>Public Art</th>\n",
       "      <th>Racecourse</th>\n",
       "      <th>Rock Club</th>\n",
       "      <th>Science Museum</th>\n",
       "      <th>Theater</th>\n",
       "      <th>Tour Provider</th>\n",
       "    </tr>\n",
       "  </thead>\n",
       "  <tbody>\n",
       "    <tr>\n",
       "      <td>0</td>\n",
       "      <td>Madison, Wisconsin</td>\n",
       "      <td>0</td>\n",
       "      <td>0</td>\n",
       "      <td>0</td>\n",
       "      <td>0</td>\n",
       "      <td>0</td>\n",
       "      <td>0</td>\n",
       "      <td>0</td>\n",
       "      <td>0</td>\n",
       "      <td>0</td>\n",
       "      <td>...</td>\n",
       "      <td>0</td>\n",
       "      <td>0</td>\n",
       "      <td>0</td>\n",
       "      <td>0</td>\n",
       "      <td>0</td>\n",
       "      <td>0</td>\n",
       "      <td>0</td>\n",
       "      <td>0</td>\n",
       "      <td>0</td>\n",
       "      <td>0</td>\n",
       "    </tr>\n",
       "    <tr>\n",
       "      <td>1</td>\n",
       "      <td>Madison, Wisconsin</td>\n",
       "      <td>0</td>\n",
       "      <td>0</td>\n",
       "      <td>0</td>\n",
       "      <td>0</td>\n",
       "      <td>0</td>\n",
       "      <td>0</td>\n",
       "      <td>0</td>\n",
       "      <td>0</td>\n",
       "      <td>0</td>\n",
       "      <td>...</td>\n",
       "      <td>0</td>\n",
       "      <td>1</td>\n",
       "      <td>0</td>\n",
       "      <td>0</td>\n",
       "      <td>0</td>\n",
       "      <td>0</td>\n",
       "      <td>0</td>\n",
       "      <td>0</td>\n",
       "      <td>0</td>\n",
       "      <td>0</td>\n",
       "    </tr>\n",
       "    <tr>\n",
       "      <td>2</td>\n",
       "      <td>Madison, Wisconsin</td>\n",
       "      <td>0</td>\n",
       "      <td>0</td>\n",
       "      <td>0</td>\n",
       "      <td>0</td>\n",
       "      <td>0</td>\n",
       "      <td>0</td>\n",
       "      <td>0</td>\n",
       "      <td>0</td>\n",
       "      <td>0</td>\n",
       "      <td>...</td>\n",
       "      <td>0</td>\n",
       "      <td>0</td>\n",
       "      <td>1</td>\n",
       "      <td>0</td>\n",
       "      <td>0</td>\n",
       "      <td>0</td>\n",
       "      <td>0</td>\n",
       "      <td>0</td>\n",
       "      <td>0</td>\n",
       "      <td>0</td>\n",
       "    </tr>\n",
       "    <tr>\n",
       "      <td>3</td>\n",
       "      <td>Madison, Wisconsin</td>\n",
       "      <td>0</td>\n",
       "      <td>0</td>\n",
       "      <td>0</td>\n",
       "      <td>1</td>\n",
       "      <td>0</td>\n",
       "      <td>0</td>\n",
       "      <td>0</td>\n",
       "      <td>0</td>\n",
       "      <td>0</td>\n",
       "      <td>...</td>\n",
       "      <td>0</td>\n",
       "      <td>0</td>\n",
       "      <td>0</td>\n",
       "      <td>0</td>\n",
       "      <td>0</td>\n",
       "      <td>0</td>\n",
       "      <td>0</td>\n",
       "      <td>0</td>\n",
       "      <td>0</td>\n",
       "      <td>0</td>\n",
       "    </tr>\n",
       "    <tr>\n",
       "      <td>4</td>\n",
       "      <td>Madison, Wisconsin</td>\n",
       "      <td>0</td>\n",
       "      <td>0</td>\n",
       "      <td>0</td>\n",
       "      <td>0</td>\n",
       "      <td>0</td>\n",
       "      <td>0</td>\n",
       "      <td>0</td>\n",
       "      <td>0</td>\n",
       "      <td>1</td>\n",
       "      <td>...</td>\n",
       "      <td>0</td>\n",
       "      <td>0</td>\n",
       "      <td>0</td>\n",
       "      <td>0</td>\n",
       "      <td>0</td>\n",
       "      <td>0</td>\n",
       "      <td>0</td>\n",
       "      <td>0</td>\n",
       "      <td>0</td>\n",
       "      <td>0</td>\n",
       "    </tr>\n",
       "  </tbody>\n",
       "</table>\n",
       "<p>5 rows × 25 columns</p>\n",
       "</div>"
      ],
      "text/plain": [
       "                 City  Art Gallery  Art Museum  Arts & Entertainment  \\\n",
       "0  Madison, Wisconsin            0           0                     0   \n",
       "1  Madison, Wisconsin            0           0                     0   \n",
       "2  Madison, Wisconsin            0           0                     0   \n",
       "3  Madison, Wisconsin            0           0                     0   \n",
       "4  Madison, Wisconsin            0           0                     0   \n",
       "\n",
       "   Comedy Club  Concert Hall  Dance Studio  Disc Golf  History Museum  \\\n",
       "0            0             0             0          0               0   \n",
       "1            0             0             0          0               0   \n",
       "2            0             0             0          0               0   \n",
       "3            1             0             0          0               0   \n",
       "4            0             0             0          0               0   \n",
       "\n",
       "   Indie Movie Theater  ...  Outdoor Sculpture  Performing Arts Venue  \\\n",
       "0                    0  ...                  0                      0   \n",
       "1                    0  ...                  0                      1   \n",
       "2                    0  ...                  0                      0   \n",
       "3                    0  ...                  0                      0   \n",
       "4                    1  ...                  0                      0   \n",
       "\n",
       "   Piano Bar  Planetarium  Public Art  Racecourse  Rock Club  Science Museum  \\\n",
       "0          0            0           0           0          0               0   \n",
       "1          0            0           0           0          0               0   \n",
       "2          1            0           0           0          0               0   \n",
       "3          0            0           0           0          0               0   \n",
       "4          0            0           0           0          0               0   \n",
       "\n",
       "   Theater  Tour Provider  \n",
       "0        0              0  \n",
       "1        0              0  \n",
       "2        0              0  \n",
       "3        0              0  \n",
       "4        0              0  \n",
       "\n",
       "[5 rows x 25 columns]"
      ]
     },
     "execution_count": 305,
     "metadata": {},
     "output_type": "execute_result"
    }
   ],
   "source": [
    "# one hot encoding\n",
    "df_onehot = pd.get_dummies(city_venues[['Venue Category']], prefix=\"\", prefix_sep=\"\")\n",
    "\n",
    "# add City column back to dataframe\n",
    "df_onehot['City'] = city_venues['City'] \n",
    "\n",
    "# move City column to the first column\n",
    "fixed_columns = [df_onehot.columns[-1]] + list(df_onehot.columns[:-1])\n",
    "df_onehot = df_onehot[fixed_columns]\n",
    "\n",
    "df_onehot.head()"
   ]
  },
  {
   "cell_type": "code",
   "execution_count": 306,
   "metadata": {},
   "outputs": [
    {
     "name": "stdout",
     "output_type": "stream",
     "text": [
      "Column count checks out with 24 venue categories.\n"
     ]
    }
   ],
   "source": [
    "# Compare column count of unique categories to dataframe columns. Should be one more than unique category count.\n",
    "if df_onehot.shape[1] - 1 ==  len(city_venues['Venue Category'].unique()):\n",
    "    print('Column count checks out with {} venue categories.'.format(df_onehot.shape[1] - 1))\n",
    "else:\n",
    "    print('Check columns')"
   ]
  },
  {
   "cell_type": "markdown",
   "metadata": {},
   "source": [
    "#### Group cities and get mean of venue frequency"
   ]
  },
  {
   "cell_type": "code",
   "execution_count": 307,
   "metadata": {},
   "outputs": [
    {
     "data": {
      "text/html": [
       "<div>\n",
       "<style scoped>\n",
       "    .dataframe tbody tr th:only-of-type {\n",
       "        vertical-align: middle;\n",
       "    }\n",
       "\n",
       "    .dataframe tbody tr th {\n",
       "        vertical-align: top;\n",
       "    }\n",
       "\n",
       "    .dataframe thead th {\n",
       "        text-align: right;\n",
       "    }\n",
       "</style>\n",
       "<table border=\"1\" class=\"dataframe\">\n",
       "  <thead>\n",
       "    <tr style=\"text-align: right;\">\n",
       "      <th></th>\n",
       "      <th>City</th>\n",
       "      <th>Art Gallery</th>\n",
       "      <th>Art Museum</th>\n",
       "      <th>Arts &amp; Entertainment</th>\n",
       "      <th>Comedy Club</th>\n",
       "      <th>Concert Hall</th>\n",
       "      <th>Dance Studio</th>\n",
       "      <th>Disc Golf</th>\n",
       "      <th>History Museum</th>\n",
       "      <th>Indie Movie Theater</th>\n",
       "      <th>...</th>\n",
       "      <th>Outdoor Sculpture</th>\n",
       "      <th>Performing Arts Venue</th>\n",
       "      <th>Piano Bar</th>\n",
       "      <th>Planetarium</th>\n",
       "      <th>Public Art</th>\n",
       "      <th>Racecourse</th>\n",
       "      <th>Rock Club</th>\n",
       "      <th>Science Museum</th>\n",
       "      <th>Theater</th>\n",
       "      <th>Tour Provider</th>\n",
       "    </tr>\n",
       "  </thead>\n",
       "  <tbody>\n",
       "    <tr>\n",
       "      <td>0</td>\n",
       "      <td>Boise, Idaho</td>\n",
       "      <td>0.186047</td>\n",
       "      <td>0.000000</td>\n",
       "      <td>0.023256</td>\n",
       "      <td>0.023256</td>\n",
       "      <td>0.023256</td>\n",
       "      <td>0.069767</td>\n",
       "      <td>0.023256</td>\n",
       "      <td>0.069767</td>\n",
       "      <td>0.000000</td>\n",
       "      <td>...</td>\n",
       "      <td>0.069767</td>\n",
       "      <td>0.069767</td>\n",
       "      <td>0.000000</td>\n",
       "      <td>0.000000</td>\n",
       "      <td>0.046512</td>\n",
       "      <td>0.000000</td>\n",
       "      <td>0.069767</td>\n",
       "      <td>0.023256</td>\n",
       "      <td>0.069767</td>\n",
       "      <td>0.023256</td>\n",
       "    </tr>\n",
       "    <tr>\n",
       "      <td>1</td>\n",
       "      <td>Lincoln, Nebraska</td>\n",
       "      <td>0.257143</td>\n",
       "      <td>0.028571</td>\n",
       "      <td>0.028571</td>\n",
       "      <td>0.000000</td>\n",
       "      <td>0.085714</td>\n",
       "      <td>0.028571</td>\n",
       "      <td>0.000000</td>\n",
       "      <td>0.028571</td>\n",
       "      <td>0.000000</td>\n",
       "      <td>...</td>\n",
       "      <td>0.000000</td>\n",
       "      <td>0.000000</td>\n",
       "      <td>0.000000</td>\n",
       "      <td>0.028571</td>\n",
       "      <td>0.000000</td>\n",
       "      <td>0.000000</td>\n",
       "      <td>0.057143</td>\n",
       "      <td>0.057143</td>\n",
       "      <td>0.228571</td>\n",
       "      <td>0.000000</td>\n",
       "    </tr>\n",
       "    <tr>\n",
       "      <td>2</td>\n",
       "      <td>Madison, Wisconsin</td>\n",
       "      <td>0.090909</td>\n",
       "      <td>0.045455</td>\n",
       "      <td>0.000000</td>\n",
       "      <td>0.045455</td>\n",
       "      <td>0.022727</td>\n",
       "      <td>0.045455</td>\n",
       "      <td>0.000000</td>\n",
       "      <td>0.045455</td>\n",
       "      <td>0.068182</td>\n",
       "      <td>...</td>\n",
       "      <td>0.000000</td>\n",
       "      <td>0.022727</td>\n",
       "      <td>0.022727</td>\n",
       "      <td>0.000000</td>\n",
       "      <td>0.000000</td>\n",
       "      <td>0.022727</td>\n",
       "      <td>0.045455</td>\n",
       "      <td>0.022727</td>\n",
       "      <td>0.227273</td>\n",
       "      <td>0.022727</td>\n",
       "    </tr>\n",
       "    <tr>\n",
       "      <td>3</td>\n",
       "      <td>Manhattan, Kansas</td>\n",
       "      <td>0.125000</td>\n",
       "      <td>0.062500</td>\n",
       "      <td>0.000000</td>\n",
       "      <td>0.000000</td>\n",
       "      <td>0.000000</td>\n",
       "      <td>0.062500</td>\n",
       "      <td>0.000000</td>\n",
       "      <td>0.000000</td>\n",
       "      <td>0.000000</td>\n",
       "      <td>...</td>\n",
       "      <td>0.000000</td>\n",
       "      <td>0.125000</td>\n",
       "      <td>0.000000</td>\n",
       "      <td>0.000000</td>\n",
       "      <td>0.000000</td>\n",
       "      <td>0.000000</td>\n",
       "      <td>0.062500</td>\n",
       "      <td>0.062500</td>\n",
       "      <td>0.187500</td>\n",
       "      <td>0.000000</td>\n",
       "    </tr>\n",
       "  </tbody>\n",
       "</table>\n",
       "<p>4 rows × 25 columns</p>\n",
       "</div>"
      ],
      "text/plain": [
       "                 City  Art Gallery  Art Museum  Arts & Entertainment  \\\n",
       "0        Boise, Idaho     0.186047    0.000000              0.023256   \n",
       "1   Lincoln, Nebraska     0.257143    0.028571              0.028571   \n",
       "2  Madison, Wisconsin     0.090909    0.045455              0.000000   \n",
       "3   Manhattan, Kansas     0.125000    0.062500              0.000000   \n",
       "\n",
       "   Comedy Club  Concert Hall  Dance Studio  Disc Golf  History Museum  \\\n",
       "0     0.023256      0.023256      0.069767   0.023256        0.069767   \n",
       "1     0.000000      0.085714      0.028571   0.000000        0.028571   \n",
       "2     0.045455      0.022727      0.045455   0.000000        0.045455   \n",
       "3     0.000000      0.000000      0.062500   0.000000        0.000000   \n",
       "\n",
       "   Indie Movie Theater  ...  Outdoor Sculpture  Performing Arts Venue  \\\n",
       "0             0.000000  ...           0.069767               0.069767   \n",
       "1             0.000000  ...           0.000000               0.000000   \n",
       "2             0.068182  ...           0.000000               0.022727   \n",
       "3             0.000000  ...           0.000000               0.125000   \n",
       "\n",
       "   Piano Bar  Planetarium  Public Art  Racecourse  Rock Club  Science Museum  \\\n",
       "0   0.000000     0.000000    0.046512    0.000000   0.069767        0.023256   \n",
       "1   0.000000     0.028571    0.000000    0.000000   0.057143        0.057143   \n",
       "2   0.022727     0.000000    0.000000    0.022727   0.045455        0.022727   \n",
       "3   0.000000     0.000000    0.000000    0.000000   0.062500        0.062500   \n",
       "\n",
       "    Theater  Tour Provider  \n",
       "0  0.069767       0.023256  \n",
       "1  0.228571       0.000000  \n",
       "2  0.227273       0.022727  \n",
       "3  0.187500       0.000000  \n",
       "\n",
       "[4 rows x 25 columns]"
      ]
     },
     "execution_count": 307,
     "metadata": {},
     "output_type": "execute_result"
    }
   ],
   "source": [
    "df_ven_mean = df_onehot.groupby('City').mean().reset_index()\n",
    "df_ven_mean"
   ]
  },
  {
   "cell_type": "code",
   "execution_count": 308,
   "metadata": {},
   "outputs": [
    {
     "name": "stdout",
     "output_type": "stream",
     "text": [
      "----Boise, Idaho----\n",
      "                   venue  freq\n",
      "0            Art Gallery  0.19\n",
      "1          Movie Theater  0.07\n",
      "2                Theater  0.07\n",
      "3              Rock Club  0.07\n",
      "4  Performing Arts Venue  0.07\n",
      "5      Outdoor Sculpture  0.07\n",
      "6            Music Venue  0.07\n",
      "7                 Museum  0.07\n",
      "8         History Museum  0.07\n",
      "9           Dance Studio  0.07\n",
      "\n",
      "\n",
      "----Lincoln, Nebraska----\n",
      "            venue  freq\n",
      "0     Art Gallery  0.26\n",
      "1         Theater  0.23\n",
      "2    Concert Hall  0.09\n",
      "3     Music Venue  0.06\n",
      "4  Science Museum  0.06\n",
      "5       Rock Club  0.06\n",
      "6          Museum  0.06\n",
      "7  History Museum  0.03\n",
      "8     Planetarium  0.03\n",
      "9       Jazz Club  0.03\n",
      "\n",
      "\n",
      "----Madison, Wisconsin----\n",
      "                 venue  freq\n",
      "0          Music Venue  0.23\n",
      "1              Theater  0.23\n",
      "2          Art Gallery  0.09\n",
      "3  Indie Movie Theater  0.07\n",
      "4          Comedy Club  0.05\n",
      "5         Dance Studio  0.05\n",
      "6            Rock Club  0.05\n",
      "7       History Museum  0.05\n",
      "8           Art Museum  0.05\n",
      "9       Science Museum  0.02\n",
      "\n",
      "\n",
      "----Manhattan, Kansas----\n",
      "                   venue  freq\n",
      "0                Theater  0.19\n",
      "1            Art Gallery  0.12\n",
      "2          Memorial Site  0.12\n",
      "3  Performing Arts Venue  0.12\n",
      "4          Movie Theater  0.12\n",
      "5         Science Museum  0.06\n",
      "6              Rock Club  0.06\n",
      "7             Art Museum  0.06\n",
      "8                 Museum  0.06\n",
      "9           Dance Studio  0.06\n",
      "\n",
      "\n"
     ]
    }
   ],
   "source": [
    "num_top_venues = 10\n",
    "\n",
    "for hood in df_ven_mean['City']:\n",
    "    print(\"----\"+hood+\"----\")\n",
    "    temp = df_ven_mean[df_ven_mean['City'] == hood].T.reset_index()\n",
    "    temp.columns = ['venue','freq']\n",
    "    temp = temp.iloc[1:]\n",
    "    temp['freq'] = temp['freq'].astype(float)\n",
    "    temp = temp.round({'freq': 2})\n",
    "    print(temp.sort_values('freq', ascending=False).reset_index(drop=True).head(num_top_venues))\n",
    "    print('\\n')"
   ]
  },
  {
   "cell_type": "markdown",
   "metadata": {},
   "source": [
    "#### Put info into pandas dataframe and show by top venue count"
   ]
  },
  {
   "cell_type": "code",
   "execution_count": 309,
   "metadata": {},
   "outputs": [
    {
     "data": {
      "text/html": [
       "<div>\n",
       "<style scoped>\n",
       "    .dataframe tbody tr th:only-of-type {\n",
       "        vertical-align: middle;\n",
       "    }\n",
       "\n",
       "    .dataframe tbody tr th {\n",
       "        vertical-align: top;\n",
       "    }\n",
       "\n",
       "    .dataframe thead th {\n",
       "        text-align: right;\n",
       "    }\n",
       "</style>\n",
       "<table border=\"1\" class=\"dataframe\">\n",
       "  <thead>\n",
       "    <tr style=\"text-align: right;\">\n",
       "      <th></th>\n",
       "      <th>City</th>\n",
       "      <th>1st Most Common Venue Category</th>\n",
       "      <th>2nd Most Common Venue Category</th>\n",
       "      <th>3rd Most Common Venue Category</th>\n",
       "      <th>4th Most Common Venue Category</th>\n",
       "      <th>5th Most Common Venue Category</th>\n",
       "      <th>6th Most Common Venue Category</th>\n",
       "      <th>7th Most Common Venue Category</th>\n",
       "      <th>8th Most Common Venue Category</th>\n",
       "      <th>9th Most Common Venue Category</th>\n",
       "      <th>10th Most Common Venue Category</th>\n",
       "    </tr>\n",
       "  </thead>\n",
       "  <tbody>\n",
       "    <tr>\n",
       "      <td>0</td>\n",
       "      <td>Boise, Idaho</td>\n",
       "      <td>Art Gallery</td>\n",
       "      <td>Performing Arts Venue</td>\n",
       "      <td>Dance Studio</td>\n",
       "      <td>History Museum</td>\n",
       "      <td>Theater</td>\n",
       "      <td>Museum</td>\n",
       "      <td>Music Venue</td>\n",
       "      <td>Outdoor Sculpture</td>\n",
       "      <td>Movie Theater</td>\n",
       "      <td>Rock Club</td>\n",
       "    </tr>\n",
       "    <tr>\n",
       "      <td>1</td>\n",
       "      <td>Lincoln, Nebraska</td>\n",
       "      <td>Art Gallery</td>\n",
       "      <td>Theater</td>\n",
       "      <td>Concert Hall</td>\n",
       "      <td>Science Museum</td>\n",
       "      <td>Rock Club</td>\n",
       "      <td>Music Venue</td>\n",
       "      <td>Museum</td>\n",
       "      <td>Art Museum</td>\n",
       "      <td>Arts &amp; Entertainment</td>\n",
       "      <td>Dance Studio</td>\n",
       "    </tr>\n",
       "    <tr>\n",
       "      <td>2</td>\n",
       "      <td>Madison, Wisconsin</td>\n",
       "      <td>Theater</td>\n",
       "      <td>Music Venue</td>\n",
       "      <td>Art Gallery</td>\n",
       "      <td>Indie Movie Theater</td>\n",
       "      <td>Art Museum</td>\n",
       "      <td>Rock Club</td>\n",
       "      <td>Comedy Club</td>\n",
       "      <td>Dance Studio</td>\n",
       "      <td>History Museum</td>\n",
       "      <td>Museum</td>\n",
       "    </tr>\n",
       "    <tr>\n",
       "      <td>3</td>\n",
       "      <td>Manhattan, Kansas</td>\n",
       "      <td>Theater</td>\n",
       "      <td>Movie Theater</td>\n",
       "      <td>Performing Arts Venue</td>\n",
       "      <td>Memorial Site</td>\n",
       "      <td>Art Gallery</td>\n",
       "      <td>Art Museum</td>\n",
       "      <td>Museum</td>\n",
       "      <td>Rock Club</td>\n",
       "      <td>Science Museum</td>\n",
       "      <td>Dance Studio</td>\n",
       "    </tr>\n",
       "  </tbody>\n",
       "</table>\n",
       "</div>"
      ],
      "text/plain": [
       "                 City 1st Most Common Venue Category  \\\n",
       "0        Boise, Idaho                    Art Gallery   \n",
       "1   Lincoln, Nebraska                    Art Gallery   \n",
       "2  Madison, Wisconsin                        Theater   \n",
       "3   Manhattan, Kansas                        Theater   \n",
       "\n",
       "  2nd Most Common Venue Category 3rd Most Common Venue Category  \\\n",
       "0          Performing Arts Venue                   Dance Studio   \n",
       "1                        Theater                   Concert Hall   \n",
       "2                    Music Venue                    Art Gallery   \n",
       "3                  Movie Theater          Performing Arts Venue   \n",
       "\n",
       "  4th Most Common Venue Category 5th Most Common Venue Category  \\\n",
       "0                 History Museum                        Theater   \n",
       "1                 Science Museum                      Rock Club   \n",
       "2            Indie Movie Theater                     Art Museum   \n",
       "3                  Memorial Site                    Art Gallery   \n",
       "\n",
       "  6th Most Common Venue Category 7th Most Common Venue Category  \\\n",
       "0                         Museum                    Music Venue   \n",
       "1                    Music Venue                         Museum   \n",
       "2                      Rock Club                    Comedy Club   \n",
       "3                     Art Museum                         Museum   \n",
       "\n",
       "  8th Most Common Venue Category 9th Most Common Venue Category  \\\n",
       "0              Outdoor Sculpture                  Movie Theater   \n",
       "1                     Art Museum           Arts & Entertainment   \n",
       "2                   Dance Studio                 History Museum   \n",
       "3                      Rock Club                 Science Museum   \n",
       "\n",
       "  10th Most Common Venue Category  \n",
       "0                       Rock Club  \n",
       "1                    Dance Studio  \n",
       "2                          Museum  \n",
       "3                    Dance Studio  "
      ]
     },
     "execution_count": 309,
     "metadata": {},
     "output_type": "execute_result"
    }
   ],
   "source": [
    "def return_most_common_venues(row, num_top_venues):\n",
    "    row_categories = row.iloc[1:]\n",
    "    row_categories_sorted = row_categories.sort_values(ascending=False)\n",
    "    \n",
    "    return row_categories_sorted.index.values[0:num_top_venues]\n",
    "\n",
    "indicators = ['st', 'nd', 'rd']\n",
    "\n",
    "# create columns according to number of top venues\n",
    "columns = ['City']\n",
    "for ind in np.arange(num_top_venues):\n",
    "    try:\n",
    "        columns.append('{}{} Most Common Venue Category'.format(ind+1, indicators[ind]))\n",
    "    except:\n",
    "        columns.append('{}th Most Common Venue Category'.format(ind+1))\n",
    "\n",
    "# create a new dataframe\n",
    "neighborhoods_venues_sorted = pd.DataFrame(columns=columns)\n",
    "neighborhoods_venues_sorted['City'] = df_ven_mean['City']\n",
    "\n",
    "for ind in np.arange(df_ven_mean.shape[0]):\n",
    "    neighborhoods_venues_sorted.iloc[ind, 1:] = return_most_common_venues(df_ven_mean.iloc[ind, :], num_top_venues)\n",
    "\n",
    "neighborhoods_venues_sorted"
   ]
  },
  {
   "cell_type": "code",
   "execution_count": 310,
   "metadata": {},
   "outputs": [
    {
     "data": {
      "text/html": [
       "<div>\n",
       "<style scoped>\n",
       "    .dataframe tbody tr th:only-of-type {\n",
       "        vertical-align: middle;\n",
       "    }\n",
       "\n",
       "    .dataframe tbody tr th {\n",
       "        vertical-align: top;\n",
       "    }\n",
       "\n",
       "    .dataframe thead th {\n",
       "        text-align: right;\n",
       "    }\n",
       "</style>\n",
       "<table border=\"1\" class=\"dataframe\">\n",
       "  <thead>\n",
       "    <tr style=\"text-align: right;\">\n",
       "      <th></th>\n",
       "      <th>0</th>\n",
       "      <th>1</th>\n",
       "      <th>2</th>\n",
       "      <th>3</th>\n",
       "    </tr>\n",
       "  </thead>\n",
       "  <tbody>\n",
       "    <tr>\n",
       "      <td>City</td>\n",
       "      <td>Boise, Idaho</td>\n",
       "      <td>Lincoln, Nebraska</td>\n",
       "      <td>Madison, Wisconsin</td>\n",
       "      <td>Manhattan, Kansas</td>\n",
       "    </tr>\n",
       "    <tr>\n",
       "      <td>1st Most Common Venue Category</td>\n",
       "      <td>Art Gallery</td>\n",
       "      <td>Art Gallery</td>\n",
       "      <td>Theater</td>\n",
       "      <td>Theater</td>\n",
       "    </tr>\n",
       "    <tr>\n",
       "      <td>2nd Most Common Venue Category</td>\n",
       "      <td>Performing Arts Venue</td>\n",
       "      <td>Theater</td>\n",
       "      <td>Music Venue</td>\n",
       "      <td>Movie Theater</td>\n",
       "    </tr>\n",
       "    <tr>\n",
       "      <td>3rd Most Common Venue Category</td>\n",
       "      <td>Dance Studio</td>\n",
       "      <td>Concert Hall</td>\n",
       "      <td>Art Gallery</td>\n",
       "      <td>Performing Arts Venue</td>\n",
       "    </tr>\n",
       "    <tr>\n",
       "      <td>4th Most Common Venue Category</td>\n",
       "      <td>History Museum</td>\n",
       "      <td>Science Museum</td>\n",
       "      <td>Indie Movie Theater</td>\n",
       "      <td>Memorial Site</td>\n",
       "    </tr>\n",
       "  </tbody>\n",
       "</table>\n",
       "</div>"
      ],
      "text/plain": [
       "                                                    0                  1  \\\n",
       "City                                     Boise, Idaho  Lincoln, Nebraska   \n",
       "1st Most Common Venue Category            Art Gallery        Art Gallery   \n",
       "2nd Most Common Venue Category  Performing Arts Venue            Theater   \n",
       "3rd Most Common Venue Category           Dance Studio       Concert Hall   \n",
       "4th Most Common Venue Category         History Museum     Science Museum   \n",
       "\n",
       "                                                  2                      3  \n",
       "City                             Madison, Wisconsin      Manhattan, Kansas  \n",
       "1st Most Common Venue Category              Theater                Theater  \n",
       "2nd Most Common Venue Category          Music Venue          Movie Theater  \n",
       "3rd Most Common Venue Category          Art Gallery  Performing Arts Venue  \n",
       "4th Most Common Venue Category  Indie Movie Theater          Memorial Site  "
      ]
     },
     "execution_count": 310,
     "metadata": {},
     "output_type": "execute_result"
    }
   ],
   "source": [
    "# Transpose dataframe\n",
    "ven_cat_list = neighborhoods_venues_sorted.transpose()\n",
    "ven_cat_list.head()"
   ]
  },
  {
   "cell_type": "markdown",
   "metadata": {},
   "source": [
    "#### List of venue category by number of venues in each city"
   ]
  },
  {
   "cell_type": "code",
   "execution_count": 311,
   "metadata": {},
   "outputs": [
    {
     "data": {
      "text/html": [
       "<div>\n",
       "<style scoped>\n",
       "    .dataframe tbody tr th:only-of-type {\n",
       "        vertical-align: middle;\n",
       "    }\n",
       "\n",
       "    .dataframe tbody tr th {\n",
       "        vertical-align: top;\n",
       "    }\n",
       "\n",
       "    .dataframe thead th {\n",
       "        text-align: right;\n",
       "    }\n",
       "</style>\n",
       "<table border=\"1\" class=\"dataframe\">\n",
       "  <thead>\n",
       "    <tr style=\"text-align: right;\">\n",
       "      <th>City</th>\n",
       "      <th>Boise, Idaho</th>\n",
       "      <th>Lincoln, Nebraska</th>\n",
       "      <th>Madison, Wisconsin</th>\n",
       "      <th>Manhattan, Kansas</th>\n",
       "    </tr>\n",
       "  </thead>\n",
       "  <tbody>\n",
       "    <tr>\n",
       "      <td>1st Most Common Venue Category</td>\n",
       "      <td>Art Gallery</td>\n",
       "      <td>Art Gallery</td>\n",
       "      <td>Theater</td>\n",
       "      <td>Theater</td>\n",
       "    </tr>\n",
       "    <tr>\n",
       "      <td>2nd Most Common Venue Category</td>\n",
       "      <td>Performing Arts Venue</td>\n",
       "      <td>Theater</td>\n",
       "      <td>Music Venue</td>\n",
       "      <td>Movie Theater</td>\n",
       "    </tr>\n",
       "    <tr>\n",
       "      <td>3rd Most Common Venue Category</td>\n",
       "      <td>Dance Studio</td>\n",
       "      <td>Concert Hall</td>\n",
       "      <td>Art Gallery</td>\n",
       "      <td>Performing Arts Venue</td>\n",
       "    </tr>\n",
       "    <tr>\n",
       "      <td>4th Most Common Venue Category</td>\n",
       "      <td>History Museum</td>\n",
       "      <td>Science Museum</td>\n",
       "      <td>Indie Movie Theater</td>\n",
       "      <td>Memorial Site</td>\n",
       "    </tr>\n",
       "    <tr>\n",
       "      <td>5th Most Common Venue Category</td>\n",
       "      <td>Theater</td>\n",
       "      <td>Rock Club</td>\n",
       "      <td>Art Museum</td>\n",
       "      <td>Art Gallery</td>\n",
       "    </tr>\n",
       "    <tr>\n",
       "      <td>6th Most Common Venue Category</td>\n",
       "      <td>Museum</td>\n",
       "      <td>Music Venue</td>\n",
       "      <td>Rock Club</td>\n",
       "      <td>Art Museum</td>\n",
       "    </tr>\n",
       "    <tr>\n",
       "      <td>7th Most Common Venue Category</td>\n",
       "      <td>Music Venue</td>\n",
       "      <td>Museum</td>\n",
       "      <td>Comedy Club</td>\n",
       "      <td>Museum</td>\n",
       "    </tr>\n",
       "    <tr>\n",
       "      <td>8th Most Common Venue Category</td>\n",
       "      <td>Outdoor Sculpture</td>\n",
       "      <td>Art Museum</td>\n",
       "      <td>Dance Studio</td>\n",
       "      <td>Rock Club</td>\n",
       "    </tr>\n",
       "    <tr>\n",
       "      <td>9th Most Common Venue Category</td>\n",
       "      <td>Movie Theater</td>\n",
       "      <td>Arts &amp; Entertainment</td>\n",
       "      <td>History Museum</td>\n",
       "      <td>Science Museum</td>\n",
       "    </tr>\n",
       "    <tr>\n",
       "      <td>10th Most Common Venue Category</td>\n",
       "      <td>Rock Club</td>\n",
       "      <td>Dance Studio</td>\n",
       "      <td>Museum</td>\n",
       "      <td>Dance Studio</td>\n",
       "    </tr>\n",
       "  </tbody>\n",
       "</table>\n",
       "</div>"
      ],
      "text/plain": [
       "City                                      Boise, Idaho     Lincoln, Nebraska  \\\n",
       "1st Most Common Venue Category             Art Gallery           Art Gallery   \n",
       "2nd Most Common Venue Category   Performing Arts Venue               Theater   \n",
       "3rd Most Common Venue Category            Dance Studio          Concert Hall   \n",
       "4th Most Common Venue Category          History Museum        Science Museum   \n",
       "5th Most Common Venue Category                 Theater             Rock Club   \n",
       "6th Most Common Venue Category                  Museum           Music Venue   \n",
       "7th Most Common Venue Category             Music Venue                Museum   \n",
       "8th Most Common Venue Category       Outdoor Sculpture            Art Museum   \n",
       "9th Most Common Venue Category           Movie Theater  Arts & Entertainment   \n",
       "10th Most Common Venue Category              Rock Club          Dance Studio   \n",
       "\n",
       "City                              Madison, Wisconsin      Manhattan, Kansas  \n",
       "1st Most Common Venue Category               Theater                Theater  \n",
       "2nd Most Common Venue Category           Music Venue          Movie Theater  \n",
       "3rd Most Common Venue Category           Art Gallery  Performing Arts Venue  \n",
       "4th Most Common Venue Category   Indie Movie Theater          Memorial Site  \n",
       "5th Most Common Venue Category            Art Museum            Art Gallery  \n",
       "6th Most Common Venue Category             Rock Club             Art Museum  \n",
       "7th Most Common Venue Category           Comedy Club                 Museum  \n",
       "8th Most Common Venue Category          Dance Studio              Rock Club  \n",
       "9th Most Common Venue Category        History Museum         Science Museum  \n",
       "10th Most Common Venue Category               Museum           Dance Studio  "
      ]
     },
     "execution_count": 311,
     "metadata": {},
     "output_type": "execute_result"
    }
   ],
   "source": [
    "# Reset header and display full list\n",
    "new_header = ven_cat_list.iloc[0]\n",
    "ven_cat_list = ven_cat_list[1:]\n",
    "ven_cat_list.columns = new_header\n",
    "ven_cat_list"
   ]
  },
  {
   "cell_type": "markdown",
   "metadata": {},
   "source": [
    "#### Count of comparable cities that have at least one venue of each category"
   ]
  },
  {
   "cell_type": "code",
   "execution_count": 312,
   "metadata": {},
   "outputs": [],
   "source": [
    "# Get list of venue categories from Manhattan\n",
    "MK = list(ven_cat_list['Manhattan, Kansas'])\n",
    "\n",
    "# Combine venue category list from comparable cities\n",
    "BI = list(ven_cat_list['Boise, Idaho'])\n",
    "MW = list(ven_cat_list['Madison, Wisconsin'])\n",
    "LN = list(ven_cat_list['Lincoln, Nebraska'])\n",
    "ven_list = BI+MW+LN"
   ]
  },
  {
   "cell_type": "code",
   "execution_count": 313,
   "metadata": {},
   "outputs": [
    {
     "data": {
      "text/html": [
       "<div>\n",
       "<style scoped>\n",
       "    .dataframe tbody tr th:only-of-type {\n",
       "        vertical-align: middle;\n",
       "    }\n",
       "\n",
       "    .dataframe tbody tr th {\n",
       "        vertical-align: top;\n",
       "    }\n",
       "\n",
       "    .dataframe thead th {\n",
       "        text-align: right;\n",
       "    }\n",
       "</style>\n",
       "<table border=\"1\" class=\"dataframe\">\n",
       "  <thead>\n",
       "    <tr style=\"text-align: right;\">\n",
       "      <th></th>\n",
       "      <th>Category</th>\n",
       "      <th>Count</th>\n",
       "    </tr>\n",
       "  </thead>\n",
       "  <tbody>\n",
       "    <tr>\n",
       "      <td>0</td>\n",
       "      <td>Art Gallery</td>\n",
       "      <td>3</td>\n",
       "    </tr>\n",
       "    <tr>\n",
       "      <td>1</td>\n",
       "      <td>Music Venue</td>\n",
       "      <td>3</td>\n",
       "    </tr>\n",
       "    <tr>\n",
       "      <td>2</td>\n",
       "      <td>Museum</td>\n",
       "      <td>3</td>\n",
       "    </tr>\n",
       "    <tr>\n",
       "      <td>3</td>\n",
       "      <td>Rock Club</td>\n",
       "      <td>3</td>\n",
       "    </tr>\n",
       "    <tr>\n",
       "      <td>4</td>\n",
       "      <td>Theater</td>\n",
       "      <td>3</td>\n",
       "    </tr>\n",
       "    <tr>\n",
       "      <td>5</td>\n",
       "      <td>Dance Studio</td>\n",
       "      <td>3</td>\n",
       "    </tr>\n",
       "    <tr>\n",
       "      <td>6</td>\n",
       "      <td>History Museum</td>\n",
       "      <td>2</td>\n",
       "    </tr>\n",
       "    <tr>\n",
       "      <td>7</td>\n",
       "      <td>Art Museum</td>\n",
       "      <td>2</td>\n",
       "    </tr>\n",
       "    <tr>\n",
       "      <td>8</td>\n",
       "      <td>Movie Theater</td>\n",
       "      <td>1</td>\n",
       "    </tr>\n",
       "    <tr>\n",
       "      <td>9</td>\n",
       "      <td>Outdoor Sculpture</td>\n",
       "      <td>1</td>\n",
       "    </tr>\n",
       "    <tr>\n",
       "      <td>10</td>\n",
       "      <td>Comedy Club</td>\n",
       "      <td>1</td>\n",
       "    </tr>\n",
       "    <tr>\n",
       "      <td>11</td>\n",
       "      <td>Performing Arts Venue</td>\n",
       "      <td>1</td>\n",
       "    </tr>\n",
       "    <tr>\n",
       "      <td>12</td>\n",
       "      <td>Concert Hall</td>\n",
       "      <td>1</td>\n",
       "    </tr>\n",
       "    <tr>\n",
       "      <td>13</td>\n",
       "      <td>Science Museum</td>\n",
       "      <td>1</td>\n",
       "    </tr>\n",
       "    <tr>\n",
       "      <td>14</td>\n",
       "      <td>Indie Movie Theater</td>\n",
       "      <td>1</td>\n",
       "    </tr>\n",
       "    <tr>\n",
       "      <td>15</td>\n",
       "      <td>Arts &amp; Entertainment</td>\n",
       "      <td>1</td>\n",
       "    </tr>\n",
       "  </tbody>\n",
       "</table>\n",
       "</div>"
      ],
      "text/plain": [
       "                 Category  Count\n",
       "0             Art Gallery      3\n",
       "1             Music Venue      3\n",
       "2                  Museum      3\n",
       "3               Rock Club      3\n",
       "4                 Theater      3\n",
       "5            Dance Studio      3\n",
       "6          History Museum      2\n",
       "7              Art Museum      2\n",
       "8           Movie Theater      1\n",
       "9       Outdoor Sculpture      1\n",
       "10            Comedy Club      1\n",
       "11  Performing Arts Venue      1\n",
       "12           Concert Hall      1\n",
       "13         Science Museum      1\n",
       "14    Indie Movie Theater      1\n",
       "15   Arts & Entertainment      1"
      ]
     },
     "execution_count": 313,
     "metadata": {},
     "output_type": "execute_result"
    }
   ],
   "source": [
    "# Count categories of comparable cities and sort\n",
    "venue_count = pd.DataFrame({'Category':ven_list})\n",
    "venue_count['Count'] = venue_count.groupby('Category')['Category'].transform('count')\n",
    "venue_count.sort_values(by='Count', ascending=0, inplace=True)\n",
    "venue_count.drop_duplicates(subset='Category', inplace=True)\n",
    "venue_count.reset_index(drop=True, inplace=True)\n",
    "venue_count.head(20)"
   ]
  },
  {
   "cell_type": "code",
   "execution_count": 314,
   "metadata": {},
   "outputs": [
    {
     "name": "stdout",
     "output_type": "stream",
     "text": [
      "False\n",
      "False\n"
     ]
    }
   ],
   "source": [
    "# Check to see if 'Gaming Cafe' or 'Bakery' is in any of the other cities\n",
    "print('Gaming Cafe' in venue_count.Category.values)\n",
    "print('Bakery' in venue_count.Category.values)"
   ]
  },
  {
   "cell_type": "markdown",
   "metadata": {},
   "source": [
    "#### List of venue categories in at least one of the comparable cities but not in Manhattan"
   ]
  },
  {
   "cell_type": "code",
   "execution_count": 315,
   "metadata": {},
   "outputs": [
    {
     "data": {
      "text/plain": [
       "['Outdoor Sculpture',\n",
       " 'Indie Movie Theater',\n",
       " 'Arts & Entertainment',\n",
       " 'Comedy Club',\n",
       " 'History Museum',\n",
       " 'Music Venue',\n",
       " 'Concert Hall']"
      ]
     },
     "execution_count": 315,
     "metadata": {},
     "output_type": "execute_result"
    }
   ],
   "source": [
    "list(set(list(venue_count['Category'])) - set(MK))"
   ]
  },
  {
   "cell_type": "markdown",
   "metadata": {},
   "source": [
    "#### List of venue categories in at least two of the comparable cities but not in Manhattan"
   ]
  },
  {
   "cell_type": "code",
   "execution_count": 316,
   "metadata": {},
   "outputs": [
    {
     "data": {
      "text/plain": [
       "['Music Venue', 'History Museum']"
      ]
     },
     "execution_count": 316,
     "metadata": {},
     "output_type": "execute_result"
    }
   ],
   "source": [
    "venue_2 = venue_count[venue_count['Count']>1]\n",
    "list(set(list(venue_2['Category'])) - set(MK))"
   ]
  },
  {
   "cell_type": "markdown",
   "metadata": {},
   "source": [
    "#### List of venue categories in all three of the comparable cities but not in Manhattan"
   ]
  },
  {
   "cell_type": "code",
   "execution_count": 317,
   "metadata": {},
   "outputs": [
    {
     "data": {
      "text/plain": [
       "['Music Venue']"
      ]
     },
     "execution_count": 317,
     "metadata": {},
     "output_type": "execute_result"
    }
   ],
   "source": [
    "venue_3 = venue_count[venue_count['Count']>2]\n",
    "list(set(list(venue_3['Category'])) - set(MK))"
   ]
  },
  {
   "cell_type": "markdown",
   "metadata": {},
   "source": [
    "#### List of venue categories in Manhattan and not in any of the other cities"
   ]
  },
  {
   "cell_type": "code",
   "execution_count": 318,
   "metadata": {},
   "outputs": [
    {
     "data": {
      "text/plain": [
       "['Memorial Site']"
      ]
     },
     "execution_count": 318,
     "metadata": {},
     "output_type": "execute_result"
    }
   ],
   "source": [
    "MK_only = list(ven_cat_list['Manhattan, Kansas'])\n",
    "for i in range(0,len(venue_count)):\n",
    "    for y in MK_only:\n",
    "        if venue_count['Category'][i] == y:\n",
    "            MK_only.remove(y)\n",
    "MK_only"
   ]
  },
  {
   "cell_type": "markdown",
   "metadata": {},
   "source": [
    "## Results  <a name=\"results\"></a>"
   ]
  },
  {
   "cell_type": "markdown",
   "metadata": {},
   "source": [
    "This analysis revealed several valuable insights, which will be further explored in the Discussion section:\n",
    "\n",
    "1) Manhattan has a lower per capita income (26,777 USD) than the comparable cities (avg. 33,224 USD).\n",
    "\n",
    "2) Manhattan's 18 - 65 year old population is a larger percentage of the total population (72.2%) than the comparable cities (61.1%) and its other age groups are all a smaller percentage.\n",
    "\n",
    "3) Manhattan has about 1/2 to 1/3 of the venue count within the searched categories (16 versus 35, 43, and 44 venues).\n",
    "\n",
    "4) The venue categories of \"Gaming Cafe\" and \"Bakery\" are not found in any of the searched cities.\n",
    "\n",
    "5) \"Music Venue\" is in the three comparable cities, but not in Manhattan."
   ]
  },
  {
   "cell_type": "markdown",
   "metadata": {},
   "source": [
    "## Discussion <a name=\"discussion\"></a>"
   ]
  },
  {
   "cell_type": "markdown",
   "metadata": {},
   "source": [
    "In order to explore if there is an opening in the market for a board games and baked goods amusement center in Manhattan, I needed to **first: determine if there is a consumer base for that kind of venue**, and **second: explore if that consumer base already has sufficient supply to satisfy its demand**.\n",
    "\n",
    "Being largely a college city, is no surprise that Manhattan, Kansas has a lower per capita income *(Result #1)* and a larger 18-65 age group percentage *(Result #2)*. A lower per capita income often means a lower amount of disposable income that can be spent on entertainment. And since this age group is a larger percentage than the comparable cities, a good business plan would make preparations to either target that market group despite the obstacles or focus its full efforts on the disproportionately small percentage of other age groups.\n",
    "\n",
    "Manhattan may have an 11% smaller proportion of non-18-to-65 year age groups, but it also offers less than half the family friendly venue options *(Result #3: 16 venues compared to an average of 41)*. This vacuum of family friendly venues could easily more than make up for the 11% reduction in the stereotypical market if the venue management chooses to ignore the 18-65 crowd.\n",
    "\n",
    "The venue categories of “Gaming Café” and \"Bakery\" are not in any of the comparable cities *(Result #4)*. That could either mean that there is no demand, or there is simply no supply for those genres. Research will need to be done to find out which one it is (in Manhattan, at least). \n",
    "\n",
    "One last insight is that at least one “Music Venue” location exists in the three comparable cities but not in Manhattan *(Result #5)*. This seems to be an opportunity where other cities have seen demand but Manhattan has not supplied."
   ]
  },
  {
   "cell_type": "markdown",
   "metadata": {},
   "source": [
    "## Conclusion <a name=\"conclusion\"></a>"
   ]
  },
  {
   "cell_type": "markdown",
   "metadata": {},
   "source": [
    "Based on the results of this analysis, I conclude that **there is opportunity for a venue such as a board games amusement center that serves fresh baked goods and other treats**.\n",
    "\n",
    "There is risk that neither venue category exists in any of the comparable cities, but some local market research could determine if there is demand for either and, if so, my friend will have the only location.\n",
    "\n",
    "She will also need to decide if she wants to ignore or cater to the college student market. Typical college students can afford simple pleasures such as coffee and other baked goods and board games are a fun social activity for young adults. So they are a good market for these activities if they are looking for an alternative to the drinking night life. She will need to be strategic in how she designs and schedules activities because relying entirely on college students or ignoring them in favor of catering to children and families is a missed opportunity. If she can make an environment that is welcoming to both or schedules activities (such as adult board game tournaments after 8PM), she could take advantage of both markets.\n",
    "\n",
    "Noting that “Music Venue” is in all three other comparable cities but not in Manhattan seems like an opportunity. Baked goods often go well with music, but board games often need communication and concentration (which could be difficult with a live band). Perhaps the night schedule could alternate between live music on select nights only and board game tournaments on others.\n",
    "\n",
    "**I believe a venue of the proposed type could be successful in Manhattan, Kansas.**"
   ]
  },
  {
   "cell_type": "code",
   "execution_count": null,
   "metadata": {},
   "outputs": [],
   "source": []
  }
 ],
 "metadata": {
  "kernelspec": {
   "display_name": "Python 3",
   "language": "python",
   "name": "python3"
  },
  "language_info": {
   "codemirror_mode": {
    "name": "ipython",
    "version": 3
   },
   "file_extension": ".py",
   "mimetype": "text/x-python",
   "name": "python",
   "nbconvert_exporter": "python",
   "pygments_lexer": "ipython3",
   "version": "3.7.4"
  }
 },
 "nbformat": 4,
 "nbformat_minor": 2
}
